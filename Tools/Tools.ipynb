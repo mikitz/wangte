{
 "metadata": {
  "language_info": {
   "codemirror_mode": {
    "name": "ipython",
    "version": 3
   },
   "file_extension": ".py",
   "mimetype": "text/x-python",
   "name": "python",
   "nbconvert_exporter": "python",
   "pygments_lexer": "ipython3",
   "version": "3.8.3-final"
  },
  "orig_nbformat": 2,
  "kernelspec": {
   "name": "python3",
   "display_name": "Python 3",
   "language": "python"
  }
 },
 "nbformat": 4,
 "nbformat_minor": 2,
 "cells": [
  {
   "source": [
    "# FUNCTIONS"
   ],
   "cell_type": "markdown",
   "metadata": {}
  },
  {
   "cell_type": "code",
   "execution_count": null,
   "metadata": {},
   "outputs": [],
   "source": [
    "# List/String to JavaScript Dictionary\n",
    "def fStringtoJSdict(vObject):\n",
    "    if isinstance(vObject, str):\n",
    "        lList = vObject.split(\"\\n\")\n",
    "    else:\n",
    "        lList = vObject\n",
    "    for i, text in enumerate(lList):\n",
    "        if i > len(lList) - 2:\n",
    "            comma = \"\"\n",
    "        else:\n",
    "            comma = \",\"\n",
    "        if i == 0:\n",
    "            fBracket = \"{\\n\"\n",
    "        else:\n",
    "            fBracket = \"\"\n",
    "        if i == len(lList) - 1:\n",
    "            bBracket = \"\\n}\"\n",
    "        else:\n",
    "            bBracket = \"\"\n",
    "        print(f'{fBracket} {i+1}: \"{text}\"{comma} {bBracket}')\n",
    "# List or String to HTML dropdown options\n",
    "def fLorStoHTMLdropdown(vObject):\n",
    "    if isinstance(vObject, str):\n",
    "        banana = vObject.replace(\" \", \"\")\n",
    "        lList = banana.split(\"\\n\")\n",
    "    else:\n",
    "        lList = vObject\n",
    "    # Loop through the items in the list and append the HTML    \n",
    "    for i in lList:\n",
    "        oValue = i.lower()\n",
    "        oValue = oValue.replace(\" \", \"-\")\n",
    "        oFinal = f'<option value=\"{oValue}\">{i}</option>'\n",
    "        print(oFinal)\n",
    "# List or String to <a href>'s\n",
    "def fLorStoAHREF(vObject, preface):\n",
    "    if isinstance(vObject, str):\n",
    "        banana = vObject.replace(\" \", \"\")\n",
    "        lList = banana.split(\"\\n\")\n",
    "    else:\n",
    "        lList = vObject\n",
    "    # Loop through the items in the list and append the HTML    \n",
    "    for i in lList:\n",
    "        oValue = i.replace(\" \", \"_\")\n",
    "        oValue = oValue.replace(\"/\", \"-\")\n",
    "        oFinal = f'<a href=\"{preface}{oValue}.html\">{i}</a>\\n<br>'\n",
    "        print(oFinal)"
   ]
  },
  {
   "source": [
    "## String w/ Spaces to String w/ Underscores"
   ],
   "cell_type": "markdown",
   "metadata": {}
  },
  {
   "cell_type": "code",
   "execution_count": null,
   "metadata": {},
   "outputs": [],
   "source": [
    "txt = '\"pass check (5 or above dc)\"'\n",
    "txt = txt.replace(\" \", \"_\")\n",
    "print(txt)"
   ]
  },
  {
   "source": [
    "## List/String to HTML Dropdown Options"
   ],
   "cell_type": "markdown",
   "metadata": {}
  },
  {
   "cell_type": "code",
   "execution_count": null,
   "metadata": {},
   "outputs": [],
   "source": [
    "myList = ['* [x] Dice Probabilities', '* [x] Sailing Duration and Cargo Tranport Revenue', '* Foot Travel Duration', '* [x] Horizon Calculator', '* How Special Are You?', '* Crafting Duration', '* Training Successes', '* Bounty Reward']"
   ]
  },
  {
   "cell_type": "code",
   "execution_count": null,
   "metadata": {},
   "outputs": [],
   "source": [
    "sString = \"\"\"Arctic\n",
    "Coastal\n",
    "Desert\n",
    "Farmland\n",
    "Forest\n",
    "Grassland\n",
    "Hill\n",
    "Jungle\n",
    "Mountain\n",
    "Open Water\n",
    "Swamp\n",
    "Underdark\n",
    "Underwater\n",
    "Urban\n",
    "Wasteland\n",
    "Woodland\"\"\"\n",
    "fLorStoHTMLdropdown(sString)"
   ]
  },
  {
   "cell_type": "code",
   "execution_count": null,
   "metadata": {},
   "outputs": [],
   "source": [
    "myList = ['0.5', '1', '1.5', '2', '2.5', '3', '3.5', '34', '4.5', '5', '5.5', '6', '6.5', '7', '7.5', '8', '8.5', '9', '9.5', '10', '10.5', '11', '11.5', '12', '12.5', '13', '13.5', '14', '14.5', '15', '15.5', '16', '16.5', '17', '17.5', '18']\n",
    "fLorStoHTMLdropdown(myList)"
   ]
  },
  {
   "cell_type": "code",
   "execution_count": null,
   "metadata": {},
   "outputs": [],
   "source": [
    "myList = ['Bounty Board', 'Calendar', 'Combat Tracker', 'Downtime Activities', 'Procedural Battle Maps', 'Ship Expenses', 'Spell Helper']\n",
    "fLorStoAHREF(myList, 'Tool_')"
   ]
  },
  {
   "cell_type": "code",
   "execution_count": null,
   "metadata": {},
   "outputs": [],
   "source": [
    "for i in myList:\n",
    "    print(f\"<s>{i}</s>\")"
   ]
  },
  {
   "source": [
    "## Create Files from List"
   ],
   "cell_type": "markdown",
   "metadata": {}
  },
  {
   "cell_type": "code",
   "execution_count": null,
   "metadata": {},
   "outputs": [],
   "source": [
    "def fCreateFiles(myList, extension):\n",
    "    myString = f\"\"\"<!DOCTYPE html> \n",
    "<html lang =\"en\">  \n",
    "<head>  \n",
    "    <meta charset=\"UTF-8\">\n",
    "    <meta name=\"viewport\" content=\"width=device-width, initial-scale=1.0\">\n",
    "    <meta http-equiv=\"X-UA-Compatible\" content=\"ie=edge\">\n",
    "    <title>GameMaster Website</title>  \n",
    "    <link rel=\"stylesheet\" href=\"style.css\"/>\n",
    "</head>  \n",
    "  \n",
    "<body>   \n",
    "    <nav>\n",
    "        <img src=\"https://i.pinimg.com/originals/48/cb/53/48cb5349f515f6e59edc2a4de294f439.png\" alt=\"Logo\">\n",
    "        <a href=\"Nav_Homepage.html\">Home</a>\n",
    "        <a href=\"Nav_Calculators.html\">Calculators</a>\n",
    "        <a href=\"Nav_Homebrew.html\">Homebrew</a>\n",
    "        <a href=\"Nav_Tools.html\">Tools</a>\n",
    "        <a href=\"\">Donate</a>\n",
    "    </nav>\n",
    "    <main>\n",
    "        <h1>{i}</h1>\n",
    "        \n",
    "    </main> \n",
    "</body>  \n",
    "</html>\"\"\"\n",
    "    for i in myList:\n",
    "        oValue = i.replace(\" \", \"_\")\n",
    "        oValue = oValue.replace(\"/\", \"-\")\n",
    "        f = open(f\"{oValue}.{extension}\", \"w+\")\n",
    "        f.write(writeString)\n",
    "        f.close()"
   ]
  },
  {
   "cell_type": "code",
   "execution_count": null,
   "metadata": {},
   "outputs": [],
   "source": [
    "myList = ['Adjusting Races', 'Animal Husbandry', 'Arrows', 'Beer Brewing', 'Casting Spells of a Higher Level', 'Crafting', 'Divine Ranks and Powers', 'Enlarge/Reduce Spell', 'Fall Damage', 'Flanking', 'Foraging/Harvesting', 'Gemstones', 'Identifying a Spell Being Cast', 'Improving Ability Scores', 'Intelligence', 'Item Prices', \"Kibble's Crafting\", 'Medidcine Check for Determining Health', 'Negotiating a Price', 'Ship Navigation', 'Ship Speeds', 'Sprint', 'Street Drugs', 'Tavern Games', 'The Economy', 'Training a Skill', 'Traveling']\n",
    "fCreateFiles(myList, 'html')"
   ]
  },
  {
   "cell_type": "code",
   "execution_count": null,
   "metadata": {},
   "outputs": [],
   "source": [
    "for i in myList:\n",
    "    i = i.replace(\"* \", \"\")\n",
    "    i = i.replace(\"[x] \", \"\")\n",
    "    print(f\"{i}\")"
   ]
  },
  {
   "source": [
    "## List/String to JavaScript Dictionary"
   ],
   "cell_type": "markdown",
   "metadata": {}
  },
  {
   "cell_type": "code",
   "execution_count": null,
   "metadata": {},
   "outputs": [],
   "source": [
    "myString = \"\"\"You bought up the last of the rare ink used to craft scrolls, angering a wizard in town.\n",
    "The priest of a temple of good accuses you of trafficking in dark magic.*\n",
    "A wizard eager to collect one of your spells in a book presses you to sell the scroll.\n",
    "Due to a strange error in creating the scroll, it is instead a random spell of the same level.\n",
    "The rare parchment you bought for your scroll has a barely visible map on it.\n",
    "A thief attempts to break into your workroom.*\"\"\"\n",
    "\n",
    "fStringtoJSdict(myString)"
   ]
  },
  {
   "source": [
    "## Change TXT tables to JSONs"
   ],
   "cell_type": "markdown",
   "metadata": {}
  },
  {
   "cell_type": "code",
   "execution_count": null,
   "metadata": {},
   "outputs": [],
   "source": [
    "import os\n",
    "# Define the path to scan for files\n",
    "mypath = r'C:\\Users\\mfitz\\Documents\\GitHub Clones\\Foundry_VTT_Macros\\Tables\\JSONs'\n",
    "# Function to rename multiple files\n",
    "def main():\n",
    "    for filename in os.listdir(mypath):\n",
    "        pre, ext = os.path.splitext(filename)\n",
    "        my_dest = pre + \".json\"\n",
    "        my_source = \"{}\\{}\".format(mypath, filename) \n",
    "        my_dest = \"{}\\{}\".format(mypath, my_dest) \n",
    "        os.rename(my_source, my_dest)\n",
    "# Driver Code\n",
    "if __name__ == '__main__':\n",
    "   # Calling main() function\n",
    "   main()"
   ]
  },
  {
   "source": [
    "## Convert JSONs to CSVs"
   ],
   "cell_type": "markdown",
   "metadata": {}
  },
  {
   "cell_type": "code",
   "execution_count": null,
   "metadata": {},
   "outputs": [],
   "source": [
    "# Define the path to scan for files\n",
    "mypath = r'C:\\Users\\mfitz\\Documents\\GitHub Clones\\Foundry_VTT_Macros\\Tables\\JSONs'\n",
    "# Python program to convert\n",
    "# JSON file to CSV \n",
    "import json \n",
    "import csv\n",
    "import pandas as pd\n",
    "for file in os.listdir(mypath):\n",
    "    # Extract the name and file type from the file\n",
    "    vName, vExt = os.path.splitext('{}\\{}'.format(mypath, file))\n",
    "    # Opening JSON file and loading the data\n",
    "    # into the variable data \n",
    "    try:\n",
    "        with open('{}\\{}'.format(mypath, file)) as json_file: \n",
    "            data = json.load(json_file) \n",
    "    except Exception:\n",
    "        pass\n",
    "    employee_data = data['results'] \n",
    "    \n",
    "    # now we will open a file for writing \n",
    "    data_file = open('{}.csv'.format(vName), 'w') \n",
    "    \n",
    "    # create the csv writer object \n",
    "    csv_writer = csv.writer(data_file) \n",
    "\n",
    "    # Counter variable used for writing  \n",
    "    # headers to the CSV file \n",
    "    count = 0\n",
    "    \n",
    "    for emp in employee_data: \n",
    "        if count == 0: \n",
    "    \n",
    "            # Writing headers of CSV file \n",
    "            header = emp.keys() \n",
    "            csv_writer.writerow(header) \n",
    "            count += 1\n",
    "    \n",
    "        # Writing data of CSV file \n",
    "        csv_writer.writerow(emp.values()) \n",
    "    \n",
    "    data_file.close()\n",
    "    # Read the CSV into a DataFrame\n",
    "    try:\n",
    "        df = pd.read_csv(r'{}.csv'.format(vName))\n",
    "        # Write the Dataframe to a new CSV, thus dropping blank rows\n",
    "        df.to_csv('{}.csv'.format(vName), index_label = False)\n",
    "    except Exception:\n",
    "        pass"
   ]
  },
  {
   "source": [
    "## Convert the CSVs into JavaScript object arrays"
   ],
   "cell_type": "markdown",
   "metadata": {}
  },
  {
   "cell_type": "code",
   "execution_count": null,
   "metadata": {},
   "outputs": [],
   "source": [
    "import pandas as pd\n",
    "oPath = r'C:\\Users\\Me\\Documents\\GitHub Clones\\Foundry_VTT_Macros\\Tables\\JSONs\\CSVs'\n",
    "df = pd.read_csv(r'{}\\(Blue Hole) Contents.csv'.format(oPath), header = 0)"
   ]
  },
  {
   "cell_type": "code",
   "execution_count": null,
   "metadata": {},
   "outputs": [],
   "source": [
    "lTable = []\n",
    "vCount = 0\n",
    "oFinalString = ''\n",
    "for index, row in df.iterrows():\n",
    "    cID = vCount\n",
    "    cText = str(df[\"text\"][index]).replace('\"', '')\n",
    "    oString = \"\\t{\" + \"id: \" + '\"' + \"{}\".format(cID) + '\"' + \", \" + \"text: \" + '\"' + \"{}\".format(cText) + '\"' + \"},\\n\"\n",
    "    #lTable.append(oString)\n",
    "    oFinalString += oString\n",
    "    vCount += 1\n",
    "print(\"[\\n\" + oFinalString + \"]\")"
   ]
  },
  {
   "source": [
    "## Fixing the Encounter Tables"
   ],
   "cell_type": "markdown",
   "metadata": {}
  },
  {
   "cell_type": "code",
   "execution_count": 1,
   "metadata": {},
   "outputs": [],
   "source": [
    "sheet_names = ['Arctic', 'Coastal', 'Desert', 'Farmland', 'Forest', 'Grassland', 'Hill', 'Jungle', 'Mountain', 'Open Water', 'Swamp', 'Underdark', 'Underwater', 'Urban', 'Wasteland', 'Woodland']"
   ]
  },
  {
   "cell_type": "code",
   "execution_count": 2,
   "metadata": {},
   "outputs": [
    {
     "output_type": "error",
     "ename": "XLRDError",
     "evalue": "No sheet named <'Desert'>",
     "traceback": [
      "\u001b[1;31m---------------------------------------------------------------------------\u001b[0m",
      "\u001b[1;31mValueError\u001b[0m                                Traceback (most recent call last)",
      "\u001b[1;32m~\\anaconda3\\lib\\site-packages\\xlrd\\book.py\u001b[0m in \u001b[0;36msheet_by_name\u001b[1;34m(self, sheet_name)\u001b[0m\n\u001b[0;32m    473\u001b[0m         \u001b[1;32mtry\u001b[0m\u001b[1;33m:\u001b[0m\u001b[1;33m\u001b[0m\u001b[1;33m\u001b[0m\u001b[0m\n\u001b[1;32m--> 474\u001b[1;33m             \u001b[0msheetx\u001b[0m \u001b[1;33m=\u001b[0m \u001b[0mself\u001b[0m\u001b[1;33m.\u001b[0m\u001b[0m_sheet_names\u001b[0m\u001b[1;33m.\u001b[0m\u001b[0mindex\u001b[0m\u001b[1;33m(\u001b[0m\u001b[0msheet_name\u001b[0m\u001b[1;33m)\u001b[0m\u001b[1;33m\u001b[0m\u001b[1;33m\u001b[0m\u001b[0m\n\u001b[0m\u001b[0;32m    475\u001b[0m         \u001b[1;32mexcept\u001b[0m \u001b[0mValueError\u001b[0m\u001b[1;33m:\u001b[0m\u001b[1;33m\u001b[0m\u001b[1;33m\u001b[0m\u001b[0m\n",
      "\u001b[1;31mValueError\u001b[0m: 'Desert' is not in list",
      "\nDuring handling of the above exception, another exception occurred:\n",
      "\u001b[1;31mXLRDError\u001b[0m                                 Traceback (most recent call last)",
      "\u001b[1;32m<ipython-input-2-de2b8e476d74>\u001b[0m in \u001b[0;36m<module>\u001b[1;34m\u001b[0m\n\u001b[0;32m      3\u001b[0m \u001b[0mdf\u001b[0m \u001b[1;33m=\u001b[0m \u001b[1;33m{\u001b[0m\u001b[1;33m}\u001b[0m\u001b[1;33m\u001b[0m\u001b[1;33m\u001b[0m\u001b[0m\n\u001b[0;32m      4\u001b[0m \u001b[1;32mfor\u001b[0m \u001b[0mi\u001b[0m \u001b[1;32min\u001b[0m \u001b[0msheet_names\u001b[0m\u001b[1;33m:\u001b[0m\u001b[1;33m\u001b[0m\u001b[1;33m\u001b[0m\u001b[0m\n\u001b[1;32m----> 5\u001b[1;33m     \u001b[0mdf\u001b[0m\u001b[1;33m[\u001b[0m\u001b[0mi\u001b[0m\u001b[1;33m]\u001b[0m \u001b[1;33m=\u001b[0m \u001b[0mpd\u001b[0m\u001b[1;33m.\u001b[0m\u001b[0mread_excel\u001b[0m\u001b[1;33m(\u001b[0m\u001b[1;34m\"Random Encounter Tables (For website).xlsx\"\u001b[0m\u001b[1;33m,\u001b[0m \u001b[0mheader\u001b[0m \u001b[1;33m=\u001b[0m \u001b[1;36m0\u001b[0m\u001b[1;33m,\u001b[0m \u001b[0msheet_name\u001b[0m\u001b[1;33m=\u001b[0m\u001b[0mi\u001b[0m\u001b[1;33m)\u001b[0m\u001b[1;33m\u001b[0m\u001b[1;33m\u001b[0m\u001b[0m\n\u001b[0m\u001b[0;32m      6\u001b[0m     \u001b[0mdf\u001b[0m\u001b[1;33m[\u001b[0m\u001b[0mi\u001b[0m\u001b[1;33m]\u001b[0m \u001b[1;33m=\u001b[0m \u001b[0mdf\u001b[0m\u001b[1;33m[\u001b[0m\u001b[0mi\u001b[0m\u001b[1;33m]\u001b[0m\u001b[1;33m.\u001b[0m\u001b[0mdrop\u001b[0m\u001b[1;33m(\u001b[0m\u001b[0mcolumns\u001b[0m \u001b[1;33m=\u001b[0m \u001b[1;33m[\u001b[0m\u001b[1;34m'd100_bad'\u001b[0m\u001b[1;33m,\u001b[0m \u001b[1;34m'Level_bad'\u001b[0m\u001b[1;33m]\u001b[0m\u001b[1;33m)\u001b[0m\u001b[1;33m\u001b[0m\u001b[1;33m\u001b[0m\u001b[0m\n",
      "\u001b[1;32m~\\anaconda3\\lib\\site-packages\\pandas\\io\\excel\\_base.py\u001b[0m in \u001b[0;36mread_excel\u001b[1;34m(io, sheet_name, header, names, index_col, usecols, squeeze, dtype, engine, converters, true_values, false_values, skiprows, nrows, na_values, keep_default_na, verbose, parse_dates, date_parser, thousands, comment, skipfooter, convert_float, mangle_dupe_cols, **kwds)\u001b[0m\n\u001b[0;32m    309\u001b[0m         )\n\u001b[0;32m    310\u001b[0m \u001b[1;33m\u001b[0m\u001b[0m\n\u001b[1;32m--> 311\u001b[1;33m     return io.parse(\n\u001b[0m\u001b[0;32m    312\u001b[0m         \u001b[0msheet_name\u001b[0m\u001b[1;33m=\u001b[0m\u001b[0msheet_name\u001b[0m\u001b[1;33m,\u001b[0m\u001b[1;33m\u001b[0m\u001b[1;33m\u001b[0m\u001b[0m\n\u001b[0;32m    313\u001b[0m         \u001b[0mheader\u001b[0m\u001b[1;33m=\u001b[0m\u001b[0mheader\u001b[0m\u001b[1;33m,\u001b[0m\u001b[1;33m\u001b[0m\u001b[1;33m\u001b[0m\u001b[0m\n",
      "\u001b[1;32m~\\anaconda3\\lib\\site-packages\\pandas\\io\\excel\\_base.py\u001b[0m in \u001b[0;36mparse\u001b[1;34m(self, sheet_name, header, names, index_col, usecols, squeeze, converters, true_values, false_values, skiprows, nrows, na_values, parse_dates, date_parser, thousands, comment, skipfooter, convert_float, mangle_dupe_cols, **kwds)\u001b[0m\n\u001b[0;32m    866\u001b[0m             )\n\u001b[0;32m    867\u001b[0m \u001b[1;33m\u001b[0m\u001b[0m\n\u001b[1;32m--> 868\u001b[1;33m         return self._reader.parse(\n\u001b[0m\u001b[0;32m    869\u001b[0m             \u001b[0msheet_name\u001b[0m\u001b[1;33m=\u001b[0m\u001b[0msheet_name\u001b[0m\u001b[1;33m,\u001b[0m\u001b[1;33m\u001b[0m\u001b[1;33m\u001b[0m\u001b[0m\n\u001b[0;32m    870\u001b[0m             \u001b[0mheader\u001b[0m\u001b[1;33m=\u001b[0m\u001b[0mheader\u001b[0m\u001b[1;33m,\u001b[0m\u001b[1;33m\u001b[0m\u001b[1;33m\u001b[0m\u001b[0m\n",
      "\u001b[1;32m~\\anaconda3\\lib\\site-packages\\pandas\\io\\excel\\_base.py\u001b[0m in \u001b[0;36mparse\u001b[1;34m(self, sheet_name, header, names, index_col, usecols, squeeze, dtype, true_values, false_values, skiprows, nrows, na_values, verbose, parse_dates, date_parser, thousands, comment, skipfooter, convert_float, mangle_dupe_cols, **kwds)\u001b[0m\n\u001b[0;32m    437\u001b[0m \u001b[1;33m\u001b[0m\u001b[0m\n\u001b[0;32m    438\u001b[0m             \u001b[1;32mif\u001b[0m \u001b[0misinstance\u001b[0m\u001b[1;33m(\u001b[0m\u001b[0masheetname\u001b[0m\u001b[1;33m,\u001b[0m \u001b[0mstr\u001b[0m\u001b[1;33m)\u001b[0m\u001b[1;33m:\u001b[0m\u001b[1;33m\u001b[0m\u001b[1;33m\u001b[0m\u001b[0m\n\u001b[1;32m--> 439\u001b[1;33m                 \u001b[0msheet\u001b[0m \u001b[1;33m=\u001b[0m \u001b[0mself\u001b[0m\u001b[1;33m.\u001b[0m\u001b[0mget_sheet_by_name\u001b[0m\u001b[1;33m(\u001b[0m\u001b[0masheetname\u001b[0m\u001b[1;33m)\u001b[0m\u001b[1;33m\u001b[0m\u001b[1;33m\u001b[0m\u001b[0m\n\u001b[0m\u001b[0;32m    440\u001b[0m             \u001b[1;32melse\u001b[0m\u001b[1;33m:\u001b[0m  \u001b[1;31m# assume an integer if not a string\u001b[0m\u001b[1;33m\u001b[0m\u001b[1;33m\u001b[0m\u001b[0m\n\u001b[0;32m    441\u001b[0m                 \u001b[0msheet\u001b[0m \u001b[1;33m=\u001b[0m \u001b[0mself\u001b[0m\u001b[1;33m.\u001b[0m\u001b[0mget_sheet_by_index\u001b[0m\u001b[1;33m(\u001b[0m\u001b[0masheetname\u001b[0m\u001b[1;33m)\u001b[0m\u001b[1;33m\u001b[0m\u001b[1;33m\u001b[0m\u001b[0m\n",
      "\u001b[1;32m~\\anaconda3\\lib\\site-packages\\pandas\\io\\excel\\_xlrd.py\u001b[0m in \u001b[0;36mget_sheet_by_name\u001b[1;34m(self, name)\u001b[0m\n\u001b[0;32m     41\u001b[0m \u001b[1;33m\u001b[0m\u001b[0m\n\u001b[0;32m     42\u001b[0m     \u001b[1;32mdef\u001b[0m \u001b[0mget_sheet_by_name\u001b[0m\u001b[1;33m(\u001b[0m\u001b[0mself\u001b[0m\u001b[1;33m,\u001b[0m \u001b[0mname\u001b[0m\u001b[1;33m)\u001b[0m\u001b[1;33m:\u001b[0m\u001b[1;33m\u001b[0m\u001b[1;33m\u001b[0m\u001b[0m\n\u001b[1;32m---> 43\u001b[1;33m         \u001b[1;32mreturn\u001b[0m \u001b[0mself\u001b[0m\u001b[1;33m.\u001b[0m\u001b[0mbook\u001b[0m\u001b[1;33m.\u001b[0m\u001b[0msheet_by_name\u001b[0m\u001b[1;33m(\u001b[0m\u001b[0mname\u001b[0m\u001b[1;33m)\u001b[0m\u001b[1;33m\u001b[0m\u001b[1;33m\u001b[0m\u001b[0m\n\u001b[0m\u001b[0;32m     44\u001b[0m \u001b[1;33m\u001b[0m\u001b[0m\n\u001b[0;32m     45\u001b[0m     \u001b[1;32mdef\u001b[0m \u001b[0mget_sheet_by_index\u001b[0m\u001b[1;33m(\u001b[0m\u001b[0mself\u001b[0m\u001b[1;33m,\u001b[0m \u001b[0mindex\u001b[0m\u001b[1;33m)\u001b[0m\u001b[1;33m:\u001b[0m\u001b[1;33m\u001b[0m\u001b[1;33m\u001b[0m\u001b[0m\n",
      "\u001b[1;32m~\\anaconda3\\lib\\site-packages\\xlrd\\book.py\u001b[0m in \u001b[0;36msheet_by_name\u001b[1;34m(self, sheet_name)\u001b[0m\n\u001b[0;32m    474\u001b[0m             \u001b[0msheetx\u001b[0m \u001b[1;33m=\u001b[0m \u001b[0mself\u001b[0m\u001b[1;33m.\u001b[0m\u001b[0m_sheet_names\u001b[0m\u001b[1;33m.\u001b[0m\u001b[0mindex\u001b[0m\u001b[1;33m(\u001b[0m\u001b[0msheet_name\u001b[0m\u001b[1;33m)\u001b[0m\u001b[1;33m\u001b[0m\u001b[1;33m\u001b[0m\u001b[0m\n\u001b[0;32m    475\u001b[0m         \u001b[1;32mexcept\u001b[0m \u001b[0mValueError\u001b[0m\u001b[1;33m:\u001b[0m\u001b[1;33m\u001b[0m\u001b[1;33m\u001b[0m\u001b[0m\n\u001b[1;32m--> 476\u001b[1;33m             \u001b[1;32mraise\u001b[0m \u001b[0mXLRDError\u001b[0m\u001b[1;33m(\u001b[0m\u001b[1;34m'No sheet named <%r>'\u001b[0m \u001b[1;33m%\u001b[0m \u001b[0msheet_name\u001b[0m\u001b[1;33m)\u001b[0m\u001b[1;33m\u001b[0m\u001b[1;33m\u001b[0m\u001b[0m\n\u001b[0m\u001b[0;32m    477\u001b[0m         \u001b[1;32mreturn\u001b[0m \u001b[0mself\u001b[0m\u001b[1;33m.\u001b[0m\u001b[0msheet_by_index\u001b[0m\u001b[1;33m(\u001b[0m\u001b[0msheetx\u001b[0m\u001b[1;33m)\u001b[0m\u001b[1;33m\u001b[0m\u001b[1;33m\u001b[0m\u001b[0m\n\u001b[0;32m    478\u001b[0m \u001b[1;33m\u001b[0m\u001b[0m\n",
      "\u001b[1;31mXLRDError\u001b[0m: No sheet named <'Desert'>"
     ]
    }
   ],
   "source": [
    "# Import each sheet as its own DF\n",
    "import pandas as pd\n",
    "df = {}\n",
    "for i in sheet_names:\n",
    "    df[i] = pd.read_excel(\"Random Encounter Tables (For website).xlsx\", header = 0, sheet_name=i)\n",
    "    df[i] = df[i].drop(columns = ['d100_bad', 'Level_bad'])"
   ]
  },
  {
   "cell_type": "code",
   "execution_count": 3,
   "metadata": {},
   "outputs": [
    {
     "output_type": "error",
     "ename": "KeyError",
     "evalue": "'Desert'",
     "traceback": [
      "\u001b[1;31m---------------------------------------------------------------------------\u001b[0m",
      "\u001b[1;31mKeyError\u001b[0m                                  Traceback (most recent call last)",
      "\u001b[1;32m<ipython-input-3-0ee4f0aca0d0>\u001b[0m in \u001b[0;36m<module>\u001b[1;34m\u001b[0m\n\u001b[0;32m      2\u001b[0m \u001b[1;32mfor\u001b[0m \u001b[0mi\u001b[0m \u001b[1;32min\u001b[0m \u001b[0msheet_names\u001b[0m\u001b[1;33m:\u001b[0m\u001b[1;33m\u001b[0m\u001b[1;33m\u001b[0m\u001b[0m\n\u001b[0;32m      3\u001b[0m     \u001b[0mlIndex\u001b[0m \u001b[1;33m=\u001b[0m \u001b[1;33m[\u001b[0m\u001b[1;33m]\u001b[0m\u001b[1;33m\u001b[0m\u001b[1;33m\u001b[0m\u001b[0m\n\u001b[1;32m----> 4\u001b[1;33m     \u001b[1;32mfor\u001b[0m \u001b[0midx\u001b[0m\u001b[1;33m,\u001b[0m \u001b[0mrow\u001b[0m \u001b[1;32min\u001b[0m \u001b[0mdf\u001b[0m\u001b[1;33m[\u001b[0m\u001b[0mi\u001b[0m\u001b[1;33m]\u001b[0m\u001b[1;33m.\u001b[0m\u001b[0miterrows\u001b[0m\u001b[1;33m(\u001b[0m\u001b[1;33m)\u001b[0m\u001b[1;33m:\u001b[0m\u001b[1;33m\u001b[0m\u001b[1;33m\u001b[0m\u001b[0m\n\u001b[0m\u001b[0;32m      5\u001b[0m         \u001b[0md100\u001b[0m \u001b[1;33m=\u001b[0m \u001b[0mstr\u001b[0m\u001b[1;33m(\u001b[0m\u001b[0mdf\u001b[0m\u001b[1;33m[\u001b[0m\u001b[0mi\u001b[0m\u001b[1;33m]\u001b[0m\u001b[1;33m[\u001b[0m\u001b[1;34m'd100'\u001b[0m\u001b[1;33m]\u001b[0m\u001b[1;33m[\u001b[0m\u001b[0midx\u001b[0m\u001b[1;33m]\u001b[0m\u001b[1;33m)\u001b[0m\u001b[1;33m\u001b[0m\u001b[1;33m\u001b[0m\u001b[0m\n\u001b[0;32m      6\u001b[0m         \u001b[0mencounter\u001b[0m \u001b[1;33m=\u001b[0m \u001b[0mdf\u001b[0m\u001b[1;33m[\u001b[0m\u001b[0mi\u001b[0m\u001b[1;33m]\u001b[0m\u001b[1;33m[\u001b[0m\u001b[1;34m'Encounter'\u001b[0m\u001b[1;33m]\u001b[0m\u001b[1;33m[\u001b[0m\u001b[0midx\u001b[0m\u001b[1;33m]\u001b[0m\u001b[1;33m\u001b[0m\u001b[1;33m\u001b[0m\u001b[0m\n",
      "\u001b[1;31mKeyError\u001b[0m: 'Desert'"
     ]
    }
   ],
   "source": [
    "# Loop through each sheet's DF to fix it\n",
    "for i in sheet_names:\n",
    "    lIndex = []\n",
    "    for idx, row in df[i].iterrows():\n",
    "        d100 = str(df[i]['d100'][idx])\n",
    "        encounter = df[i]['Encounter'][idx]\n",
    "        df[i]['Level'][idx] = df[i]['Level'][idx].replace(\"'\", \"-\")\n",
    "        level = df[i]['Level'][idx]\n",
    "        if \"'\" in d100:\n",
    "            first_num = int(d100[0:2])\n",
    "            last_num = int(d100[3:5])\n",
    "            for x in range(first_num, last_num + 1):\n",
    "                df[i] = df[i].append({\"Encounter\":encounter, \"d100\":x, \"Level\":level}, ignore_index = True)\n",
    "            lIndex.append(idx)\n",
    "    df[i] = df[i].drop(lIndex)\n",
    "    df[i] = df[i].sort_values(by = ['Level', 'd100']).reset_index(drop = True)\n",
    "df.to_excel(\"Fixed.xlsx\", index = False)"
   ]
  },
  {
   "cell_type": "code",
   "execution_count": 6,
   "metadata": {},
   "outputs": [],
   "source": [
    "df['Arctic'].to_excel(\"arctic.xlsx\", index = False)\n",
    "df['Coastal'].to_excel(\"coastal.xlsx\", index = False)"
   ]
  },
  {
   "cell_type": "code",
   "execution_count": null,
   "metadata": {},
   "outputs": [],
   "source": []
  }
 ]
}