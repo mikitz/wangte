{
 "metadata": {
  "language_info": {
   "codemirror_mode": {
    "name": "ipython",
    "version": 3
   },
   "file_extension": ".py",
   "mimetype": "text/x-python",
   "name": "python",
   "nbconvert_exporter": "python",
   "pygments_lexer": "ipython3",
   "version": "3.8.3-final"
  },
  "orig_nbformat": 2,
  "kernelspec": {
   "name": "python3",
   "display_name": "Python 3",
   "language": "python"
  }
 },
 "nbformat": 4,
 "nbformat_minor": 2,
 "cells": [
  {
   "source": [
    "# FUNCTIONS"
   ],
   "cell_type": "markdown",
   "metadata": {}
  },
  {
   "cell_type": "code",
   "execution_count": null,
   "metadata": {},
   "outputs": [],
   "source": [
    "# List/String to JavaScript Dictionary\n",
    "def fStringtoJSdict(vObject):\n",
    "    if isinstance(vObject, str):\n",
    "        lList = vObject.split(\"\\n\")\n",
    "    else:\n",
    "        lList = vObject\n",
    "    for i, text in enumerate(lList):\n",
    "        if i > len(lList) - 2:\n",
    "            comma = \"\"\n",
    "        else:\n",
    "            comma = \",\"\n",
    "        if i == 0:\n",
    "            fBracket = \"{\\n\"\n",
    "        else:\n",
    "            fBracket = \"\"\n",
    "        if i == len(lList) - 1:\n",
    "            bBracket = \"\\n}\"\n",
    "        else:\n",
    "            bBracket = \"\"\n",
    "        print(f'{fBracket} {i+1}: \"{text}\"{comma} {bBracket}')\n",
    "# List or String to HTML dropdown options\n",
    "def fLorStoHTMLdropdown(vObject):\n",
    "    if isinstance(vObject, str):\n",
    "        banana = vObject.replace(\" \", \"\")\n",
    "        lList = banana.split(\"\\n\")\n",
    "    else:\n",
    "        lList = vObject\n",
    "    # Loop through the items in the list and append the HTML    \n",
    "    for i in lList:\n",
    "        oValue = i.lower()\n",
    "        oValue = oValue.replace(\" \", \"-\")\n",
    "        oFinal = f'<option value=\"{oValue}\">{i}</option>'\n",
    "        print(oFinal)\n",
    "# List or String to <a href>'s\n",
    "def fLorStoAHREF(vObject):\n",
    "    if isinstance(vObject, str):\n",
    "        banana = vObject.replace(\" \", \"\")\n",
    "        lList = banana.split(\"\\n\")\n",
    "    else:\n",
    "        lList = vObject\n",
    "    # Loop through the items in the list and append the HTML    \n",
    "    for i in lList:\n",
    "        oValue = i.replace(\" \", \"_\")\n",
    "        oValue = oValue.replace(\"/\", \"-\")\n",
    "        oFinal = f'<a href=\"Homebrew_{oValue}.html\">{i}</a>\\n <p></p>'\n",
    "        print(oFinal)"
   ]
  },
  {
   "source": [
    "## String w/ Spaces to String w/ Underscores"
   ],
   "cell_type": "markdown",
   "metadata": {}
  },
  {
   "cell_type": "code",
   "execution_count": null,
   "metadata": {},
   "outputs": [],
   "source": [
    "txt = '\"pass check (5 or above dc)\"'\n",
    "txt = txt.replace(\" \", \"_\")\n",
    "print(txt)"
   ]
  },
  {
   "source": [
    "## List/String to HTML Dropdown Options"
   ],
   "cell_type": "markdown",
   "metadata": {}
  },
  {
   "cell_type": "code",
   "execution_count": null,
   "metadata": {},
   "outputs": [],
   "source": [
    "sString = \"\"\"Air\n",
    "Creature\n",
    "Land\n",
    "Magic\n",
    "Water\"\"\"\n",
    "fLorStoHTMLdropdown(sString)"
   ]
  },
  {
   "cell_type": "code",
   "execution_count": null,
   "metadata": {},
   "outputs": [],
   "source": [
    "myList = ['0.5', '1', '1.5', '2', '2.5', '3', '3.5', '34', '4.5', '5', '5.5', '6', '6.5', '7', '7.5', '8', '8.5', '9', '9.5', '10', '10.5', '11', '11.5', '12', '12.5', '13', '13.5', '14', '14.5', '15', '15.5', '16', '16.5', '17', '17.5', '18']\n",
    "fLorStoHTMLdropdown(myList)"
   ]
  },
  {
   "cell_type": "code",
   "execution_count": null,
   "metadata": {},
   "outputs": [],
   "source": [
    "myList = ['Adjusting Races', 'Animal Husbandry', 'Arrows', 'Beer Brewing', 'Casting Spells of a Higher Level', 'Crafting', 'Divine Ranks and Powers', 'Enlarge/Reduce Spell', 'Fall Damage', 'Flanking', 'Foraging/Harvesting', 'Gemstones', 'Identifying a Spell Being Cast', 'Improving Ability Scores', 'Intelligence', 'Item Prices', \"Kibble's Crafting\", 'Medidcine Check for Determining Health', 'Negotiating a Price', 'Ship Navigation', 'Ship Speeds', 'Sprint', 'Street Drugs', 'Tavern Games', 'The Economy', 'Training a Skill', 'Traveling']\n",
    "fLorStoAHREF(myList)"
   ]
  },
  {
   "source": [
    "## Create Files from List"
   ],
   "cell_type": "markdown",
   "metadata": {}
  },
  {
   "cell_type": "code",
   "execution_count": null,
   "metadata": {},
   "outputs": [],
   "source": [
    "def fCreateFiles(myList, extension):\n",
    "    myString = f\"\"\"<!DOCTYPE html> \n",
    "<html lang =\"en\">  \n",
    "<head>  \n",
    "    <meta charset=\"UTF-8\">\n",
    "    <meta name=\"viewport\" content=\"width=device-width, initial-scale=1.0\">\n",
    "    <meta http-equiv=\"X-UA-Compatible\" content=\"ie=edge\">\n",
    "    <title>GameMaster Website</title>  \n",
    "    <link rel=\"stylesheet\" href=\"style.css\"/>\n",
    "</head>  \n",
    "  \n",
    "<body>   \n",
    "    <nav>\n",
    "        <img src=\"https://i.pinimg.com/originals/48/cb/53/48cb5349f515f6e59edc2a4de294f439.png\" alt=\"Logo\">\n",
    "        <a href=\"Nav_Homepage.html\">Home</a>\n",
    "        <a href=\"Nav_Calculators.html\">Calculators</a>\n",
    "        <a href=\"Nav_Homebrew.html\">Homebrew</a>\n",
    "        <a href=\"Nav_Tools.html\">Tools</a>\n",
    "        <a href=\"\">Donate</a>\n",
    "    </nav>\n",
    "    <main>\n",
    "        <h1>{i}</h1>\n",
    "        \n",
    "    </main> \n",
    "</body>  \n",
    "</html>\"\"\"\n",
    "    for i in myList:\n",
    "        oValue = i.replace(\" \", \"_\")\n",
    "        oValue = oValue.replace(\"/\", \"-\")\n",
    "        f = open(f\"{oValue}.{extension}\", \"w+\")\n",
    "        f.write(writeString)\n",
    "        f.close()"
   ]
  },
  {
   "cell_type": "code",
   "execution_count": null,
   "metadata": {},
   "outputs": [],
   "source": [
    "myList = ['Adjusting Races', 'Animal Husbandry', 'Arrows', 'Beer Brewing', 'Casting Spells of a Higher Level', 'Crafting', 'Divine Ranks and Powers', 'Enlarge/Reduce Spell', 'Fall Damage', 'Flanking', 'Foraging/Harvesting', 'Gemstones', 'Identifying a Spell Being Cast', 'Improving Ability Scores', 'Intelligence', 'Item Prices', \"Kibble's Crafting\", 'Medidcine Check for Determining Health', 'Negotiating a Price', 'Ship Navigation', 'Ship Speeds', 'Sprint', 'Street Drugs', 'Tavern Games', 'The Economy', 'Training a Skill', 'Traveling']\n",
    "fCreateFiles(myList, 'html')"
   ]
  },
  {
   "cell_type": "code",
   "execution_count": 6,
   "metadata": {},
   "outputs": [
    {
     "output_type": "stream",
     "name": "stdout",
     "text": [
      "* Adjusting Races\n* Animal Husbandry\n* Arrows\n* Beer Brewing\n* Casting Spells of a Higher Level\n* Crafting\n* Divine Ranks and Powers\n* Enlarge/Reduce Spell\n* Fall Damage\n* Flanking\n* Foraging/Harvesting\n* Gemstones\n* Identifying a Spell Being Cast\n* Improving Ability Scores\n* Intelligence\n* Item Prices\n* Kibble's Crafting\n* Medidcine Check for Determining Health\n* Negotiating a Price\n* Ship Navigation\n* Ship Speeds\n* Sprint\n* Street Drugs\n* Tavern Games\n* The Economy\n* Training a Skill\n* Traveling\n"
     ]
    }
   ],
   "source": [
    "for i in myList:\n",
    "    print(f\"* {i}\")"
   ]
  },
  {
   "source": [
    "## List/String to JavaScript Dictionary"
   ],
   "cell_type": "markdown",
   "metadata": {}
  },
  {
   "cell_type": "code",
   "execution_count": null,
   "metadata": {},
   "outputs": [],
   "source": [
    "myString = \"\"\"You bought up the last of the rare ink used to craft scrolls, angering a wizard in town.\n",
    "The priest of a temple of good accuses you of trafficking in dark magic.*\n",
    "A wizard eager to collect one of your spells in a book presses you to sell the scroll.\n",
    "Due to a strange error in creating the scroll, it is instead a random spell of the same level.\n",
    "The rare parchment you bought for your scroll has a barely visible map on it.\n",
    "A thief attempts to break into your workroom.*\"\"\"\n",
    "\n",
    "fStringtoJSdict(myString)"
   ]
  },
  {
   "source": [
    "## Change TXT tables to JSONs"
   ],
   "cell_type": "markdown",
   "metadata": {}
  },
  {
   "cell_type": "code",
   "execution_count": null,
   "metadata": {},
   "outputs": [],
   "source": [
    "import os\n",
    "# Define the path to scan for files\n",
    "mypath = r'C:\\Users\\mfitz\\Documents\\GitHub Clones\\Foundry_VTT_Macros\\Tables\\JSONs'\n",
    "# Function to rename multiple files\n",
    "def main():\n",
    "    for filename in os.listdir(mypath):\n",
    "        pre, ext = os.path.splitext(filename)\n",
    "        my_dest = pre + \".json\"\n",
    "        my_source = \"{}\\{}\".format(mypath, filename) \n",
    "        my_dest = \"{}\\{}\".format(mypath, my_dest) \n",
    "        os.rename(my_source, my_dest)\n",
    "# Driver Code\n",
    "if __name__ == '__main__':\n",
    "   # Calling main() function\n",
    "   main()"
   ]
  },
  {
   "source": [
    "## Convert JSONs to CSVs"
   ],
   "cell_type": "markdown",
   "metadata": {}
  },
  {
   "cell_type": "code",
   "execution_count": null,
   "metadata": {},
   "outputs": [],
   "source": [
    "# Define the path to scan for files\n",
    "mypath = r'C:\\Users\\mfitz\\Documents\\GitHub Clones\\Foundry_VTT_Macros\\Tables\\JSONs'\n",
    "# Python program to convert\n",
    "# JSON file to CSV \n",
    "import json \n",
    "import csv\n",
    "import pandas as pd\n",
    "for file in os.listdir(mypath):\n",
    "    # Extract the name and file type from the file\n",
    "    vName, vExt = os.path.splitext('{}\\{}'.format(mypath, file))\n",
    "    # Opening JSON file and loading the data\n",
    "    # into the variable data \n",
    "    try:\n",
    "        with open('{}\\{}'.format(mypath, file)) as json_file: \n",
    "            data = json.load(json_file) \n",
    "    except Exception:\n",
    "        pass\n",
    "    employee_data = data['results'] \n",
    "    \n",
    "    # now we will open a file for writing \n",
    "    data_file = open('{}.csv'.format(vName), 'w') \n",
    "    \n",
    "    # create the csv writer object \n",
    "    csv_writer = csv.writer(data_file) \n",
    "\n",
    "    # Counter variable used for writing  \n",
    "    # headers to the CSV file \n",
    "    count = 0\n",
    "    \n",
    "    for emp in employee_data: \n",
    "        if count == 0: \n",
    "    \n",
    "            # Writing headers of CSV file \n",
    "            header = emp.keys() \n",
    "            csv_writer.writerow(header) \n",
    "            count += 1\n",
    "    \n",
    "        # Writing data of CSV file \n",
    "        csv_writer.writerow(emp.values()) \n",
    "    \n",
    "    data_file.close()\n",
    "    # Read the CSV into a DataFrame\n",
    "    try:\n",
    "        df = pd.read_csv(r'{}.csv'.format(vName))\n",
    "        # Write the Dataframe to a new CSV, thus dropping blank rows\n",
    "        df.to_csv('{}.csv'.format(vName), index_label = False)\n",
    "    except Exception:\n",
    "        pass"
   ]
  },
  {
   "source": [
    "## Convert the CSVs into JavaScript object arrays"
   ],
   "cell_type": "markdown",
   "metadata": {}
  },
  {
   "cell_type": "code",
   "execution_count": null,
   "metadata": {},
   "outputs": [],
   "source": [
    "import pandas as pd\n",
    "oPath = r'C:\\Users\\Me\\Documents\\GitHub Clones\\Foundry_VTT_Macros\\Tables\\JSONs\\CSVs'\n",
    "df = pd.read_csv(r'{}\\(Blue Hole) Contents.csv'.format(oPath), header = 0)"
   ]
  },
  {
   "cell_type": "code",
   "execution_count": null,
   "metadata": {},
   "outputs": [],
   "source": [
    "lTable = []\n",
    "vCount = 0\n",
    "oFinalString = ''\n",
    "for index, row in df.iterrows():\n",
    "    cID = vCount\n",
    "    cText = str(df[\"text\"][index]).replace('\"', '')\n",
    "    oString = \"\\t{\" + \"id: \" + '\"' + \"{}\".format(cID) + '\"' + \", \" + \"text: \" + '\"' + \"{}\".format(cText) + '\"' + \"},\\n\"\n",
    "    #lTable.append(oString)\n",
    "    oFinalString += oString\n",
    "    vCount += 1\n",
    "print(\"[\\n\" + oFinalString + \"]\")"
   ]
  },
  {
   "cell_type": "code",
   "execution_count": null,
   "metadata": {},
   "outputs": [],
   "source": []
  }
 ]
}