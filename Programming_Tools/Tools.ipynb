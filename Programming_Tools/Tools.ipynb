{
 "cells": [
  {
   "cell_type": "markdown",
   "metadata": {},
   "source": [
    "\r\n",
    "# FUNCTIONS"
   ]
  },
  {
   "cell_type": "code",
   "execution_count": 2,
   "metadata": {},
   "outputs": [],
   "source": [
    "# List/String to JavaScript Dictionary\n",
    "def fStringtoJSdict(vObject):\n",
    "    if isinstance(vObject, str):\n",
    "        lList = vObject.split(\"\\n\")\n",
    "    else:\n",
    "        lList = vObject\n",
    "    for i, text in enumerate(lList):\n",
    "        if i > len(lList) - 2:\n",
    "            comma = \"\"\n",
    "        else:\n",
    "            comma = \",\"\n",
    "        if i == 0:\n",
    "            fBracket = \"{\\n\"\n",
    "        else:\n",
    "            fBracket = \"\"\n",
    "        if i == len(lList) - 1:\n",
    "            bBracket = \"\\n}\"\n",
    "        else:\n",
    "            bBracket = \"\"\n",
    "        print(f'{fBracket} {i+1}: \"{text}\"{comma} {bBracket}')\n",
    "# List or String to HTML dropdown options\n",
    "def fLorStoHTMLdropdown(vObject):\n",
    "    if isinstance(vObject, str):\n",
    "        lList = vObject.split(\"\\n\")\n",
    "    else:\n",
    "        lList = vObject\n",
    "    # Loop through the items in the list and append the HTML    \n",
    "    for i in lList:\n",
    "        oValue = i.lower()\n",
    "        oValue = oValue.replace(\" \", \"-\")\n",
    "        oFinal = f'<option value=\"{oValue}\">{i}</option>'\n",
    "        print(oFinal)\n",
    "# List or String to <a href>'s\n",
    "def fLorStoAHREF(vObject, preface):\n",
    "    if isinstance(vObject, str):\n",
    "        lList = vObject.split(\"\\n\")\n",
    "    else:\n",
    "        lList = vObject\n",
    "    # Loop through the items in the list and append the HTML    \n",
    "    for i in lList:\n",
    "        oValue = i.replace(\" \", \"_\")\n",
    "        oValue = oValue.replace(\"/\", \"-\")\n",
    "        oFinal = f'<a href=\"{preface}{oValue}.html\">{i}</a>\\n<br>'\n",
    "        print(oFinal)\n",
    "# List or String to <li>'s\n",
    "def fLorStoLI(vObject, preface):\n",
    "    if isinstance(vObject, str):\n",
    "        lList = vObject.split(\"\\n\")\n",
    "    else:\n",
    "        lList = vObject\n",
    "    # Loop through the items in the list and append the HTML    \n",
    "    for i in lList:\n",
    "        oValue = i.replace(\" \", \"_\")\n",
    "        oValue = oValue.replace(\"/\", \"-\")\n",
    "        oFinal = f'<li>{i}</li>'\n",
    "        print(oFinal)\n",
    "def fLorStoMarkdown(vObject):\n",
    "    if isinstance(vObject, str):\n",
    "        lList = vObject.split(\"\\n\")\n",
    "    else:\n",
    "        lList = vObject\n",
    "    # Loop through the items in the list and append the HTML    \n",
    "    for i in lList:\n",
    "        oValue = i.replace(\" \", \"_\")\n",
    "        oValue = oValue.replace(\"/\", \"-\")\n",
    "        oFinal = f'* {i}'\n",
    "        print(oFinal)"
   ]
  },
  {
   "cell_type": "code",
   "execution_count": null,
   "metadata": {},
   "outputs": [],
   "source": [
    "myList10 = [\"1\", \"2\", \"3\", \"4\", \"5\", \"6\", \"7\", '8', \"9\", \"10\"]\n",
    "myList20 = [\"11\",\"12\",\"13\",\"14\",\"15\",\"16\",\"17\",\"18\",\"19\",\"20\"]\n",
    "\n",
    "fLorStoLI(myList10, \"\")"
   ]
  },
  {
   "cell_type": "code",
   "execution_count": null,
   "metadata": {},
   "outputs": [],
   "source": []
  },
  {
   "cell_type": "markdown",
   "metadata": {},
   "source": [
    "## String w/ Spaces to String w/ Underscores"
   ]
  },
  {
   "cell_type": "code",
   "execution_count": null,
   "metadata": {},
   "outputs": [],
   "source": [
    "txt = '\"pass check (5 or above dc)\"'\n",
    "txt = txt.replace(\" \", \"_\")\n",
    "print(txt)"
   ]
  },
  {
   "cell_type": "markdown",
   "metadata": {},
   "source": [
    "## List/String to HTML Dropdown Options"
   ]
  },
  {
   "cell_type": "code",
   "execution_count": null,
   "metadata": {},
   "outputs": [],
   "source": [
    "myList = ['* [x] Dice Probabilities', '* [x] Sailing Duration and Cargo Tranport Revenue', '* Foot Travel Duration', '* [x] Horizon Calculator', '* How Special Are You?', '* Crafting Duration', '* Training Successes', '* Bounty Reward']"
   ]
  },
  {
   "cell_type": "code",
   "execution_count": 3,
   "metadata": {},
   "outputs": [
    {
     "name": "stdout",
     "output_type": "stream",
     "text": [
      "* Arctic\n",
      "* Carousing\n",
      "* Coastal\n",
      "* Desert\n",
      "* Dungeon (Extra)\n",
      "* Farmland (Grassland Copy)\n",
      "* Festivals (Extra)\n",
      "* Forest\n",
      "* Grassland\n",
      "* Hill (Grassland Copy)\n",
      "* Jungle\n",
      "* Mountain\n",
      "* Open Sea\n",
      "* Red Light District (Extra)\n",
      "* Road (Extra)\n",
      "* Swamp\n",
      "* Tavern (Extra)\n",
      "* Tavern_Seedy (Extra)\n",
      "* Underdark\n",
      "* Underwater\n",
      "* Urban\n",
      "* Wasteland (Road Copy)\n",
      "* Woodland (Forest Copy)\n"
     ]
    }
   ],
   "source": [
    "sString = \"\"\"Arctic\n",
    "Carousing\n",
    "Coastal\n",
    "Desert\n",
    "Dungeon (Extra)\n",
    "Farmland (Grassland Copy)\n",
    "Festivals (Extra)\n",
    "Forest\n",
    "Grassland\n",
    "Hill (Grassland Copy)\n",
    "Jungle\n",
    "Mountain\n",
    "Open Sea\n",
    "Red Light District (Extra)\n",
    "Road (Extra)\n",
    "Swamp\n",
    "Tavern (Extra)\n",
    "Tavern_Seedy (Extra)\n",
    "Underdark\n",
    "Underwater\n",
    "Urban\n",
    "Wasteland (Road Copy)\n",
    "Woodland (Forest Copy)\"\"\"\n",
    "\n",
    "fLorStoMarkdown(sString)"
   ]
  },
  {
   "cell_type": "code",
   "execution_count": 6,
   "metadata": {},
   "outputs": [
    {
     "name": "stdout",
     "output_type": "stream",
     "text": [
      "<option value=\"aarakocra\">aarakocra</option>\n",
      "<option value=\"angel\">angel</option>\n",
      "<option value=\"any-race\">any race</option>\n",
      "<option value=\"blindheim\">blindheim</option>\n",
      "<option value=\"bullywug\">bullywug</option>\n",
      "<option value=\"changeling,-shapechanger\">changeling, shapechanger</option>\n",
      "<option value=\"chondathan-human\">Chondathan human</option>\n",
      "<option value=\"cloud-giant\">cloud giant</option>\n",
      "<option value=\"damaran-human\">Damaran human</option>\n",
      "<option value=\"demon\">demon</option>\n",
      "<option value=\"demon,-orc\">demon, orc</option>\n",
      "<option value=\"demon,-shapechanger\">demon, shapechanger</option>\n",
      "<option value=\"derro\">derro</option>\n",
      "<option value=\"devil\">devil</option>\n",
      "<option value=\"dire-corby\">dire corby</option>\n",
      "<option value=\"dragonborn\">dragonborn</option>\n",
      "<option value=\"dusk-elf\">dusk elf</option>\n",
      "<option value=\"dwarf\">dwarf</option>\n",
      "<option value=\"earth-genasi\">earth genasi</option>\n",
      "<option value=\"elf\">elf</option>\n",
      "<option value=\"fire-genasi\">fire genasi</option>\n",
      "<option value=\"fire-giant\">fire giant</option>\n",
      "<option value=\"firenewt\">firenewt</option>\n",
      "<option value=\"frost-giant\">frost giant</option>\n",
      "<option value=\"gith\">gith</option>\n",
      "<option value=\"gnoll\">gnoll</option>\n",
      "<option value=\"gnome\">gnome</option>\n",
      "<option value=\"gnome,-shapechanger\">gnome, shapechanger</option>\n",
      "<option value=\"goblin,-shapechanger\">goblin, shapechanger</option>\n",
      "<option value=\"goblinoid\">goblinoid</option>\n",
      "<option value=\"goliath\">goliath</option>\n",
      "<option value=\"goliath,-shapechanger\">goliath, shapechanger</option>\n",
      "<option value=\"grimlock\">grimlock</option>\n",
      "<option value=\"grippli\">grippli</option>\n",
      "<option value=\"grung\">grung</option>\n",
      "<option value=\"half-black-dragon\">half-black dragon</option>\n",
      "<option value=\"half-dragon\">half-dragon</option>\n",
      "<option value=\"half-elf\">half-elf</option>\n",
      "<option value=\"half-orc\">half-orc</option>\n",
      "<option value=\"half-orc,-shapechanger\">half-orc, shapechanger</option>\n",
      "<option value=\"halfling\">halfling</option>\n",
      "<option value=\"halfling,-shapechanger\">halfling, shapechanger</option>\n",
      "<option value=\"high-elf\">high elf</option>\n",
      "<option value=\"hill-giant\">hill giant</option>\n",
      "<option value=\"human\">human</option>\n",
      "<option value=\"human,-shapechanger\">human, shapechanger</option>\n",
      "<option value=\"illuskan-human\">Illuskan human</option>\n",
      "<option value=\"inevitable\">inevitable</option>\n",
      "<option value=\"jermlaine\">jermlaine</option>\n",
      "<option value=\"kalashtar\">kalashtar</option>\n",
      "<option value=\"kenku\">kenku</option>\n",
      "<option value=\"kobold\">kobold</option>\n",
      "<option value=\"kraul\">kraul</option>\n",
      "<option value=\"kuo-toa\">kuo-toa</option>\n",
      "<option value=\"lava-child\">lava child</option>\n",
      "<option value=\"leonin\">leonin</option>\n",
      "<option value=\"lightfoot-halfling\">Lightfoot halfling</option>\n",
      "<option value=\"lizardfolk\">lizardfolk</option>\n",
      "<option value=\"locathah\">locathah</option>\n",
      "<option value=\"meazel\">meazel</option>\n",
      "<option value=\"merfolk\">merfolk</option>\n",
      "<option value=\"mongrelfolk\">mongrelfolk</option>\n",
      "<option value=\"mulan-human\">Mulan human</option>\n",
      "<option value=\"nagpa\">nagpa</option>\n",
      "<option value=\"orc\">orc</option>\n",
      "<option value=\"quaggoth\">quaggoth</option>\n",
      "<option value=\"rock-gnome\">Rock gnome</option>\n",
      "<option value=\"sahuagin\">sahuagin</option>\n",
      "<option value=\"saurial\">saurial</option>\n",
      "<option value=\"shapechanger\">shapechanger</option>\n",
      "<option value=\"shapechanger,-yuan-ti\">shapechanger, yuan-ti</option>\n",
      "<option value=\"shield-dwarf\">shield dwarf</option>\n",
      "<option value=\"shifter\">shifter</option>\n",
      "<option value=\"shou-human\">Shou human</option>\n",
      "<option value=\"simic-hybrid\">Simic hybrid</option>\n",
      "<option value=\"stone-giant\">stone giant</option>\n",
      "<option value=\"storm-giant\">storm giant</option>\n",
      "<option value=\"strongheart-halfling\">Strongheart halfling</option>\n",
      "<option value=\"tabaxi\">tabaxi</option>\n",
      "<option value=\"tethyrian-human\">Tethyrian human</option>\n",
      "<option value=\"thri-kreen\">thri-kreen</option>\n",
      "<option value=\"tiefling\">tiefling</option>\n",
      "<option value=\"titan\">titan</option>\n",
      "<option value=\"tortle\">tortle</option>\n",
      "<option value=\"triton\">triton</option>\n",
      "<option value=\"troglodyte\">troglodyte</option>\n",
      "<option value=\"turami-human\">Turami human</option>\n",
      "<option value=\"warforged\">warforged</option>\n",
      "<option value=\"water-genasi\">Water genasi</option>\n",
      "<option value=\"wood-elf\">Wood elf</option>\n",
      "<option value=\"xvart\">xvart</option>\n",
      "<option value=\"yuan-ti\">yuan-ti</option>\n",
      "<option value=\"yugoloth\">yugoloth</option>\n"
     ]
    }
   ],
   "source": [
    "sString = \"\"\"aarakocra\r\n",
    "angel\r\n",
    "any race\r\n",
    "blindheim\r\n",
    "bullywug\r\n",
    "changeling, shapechanger\r\n",
    "Chondathan human\r\n",
    "cloud giant\r\n",
    "Damaran human\r\n",
    "demon\r\n",
    "demon, orc\r\n",
    "demon, shapechanger\r\n",
    "derro\r\n",
    "devil\r\n",
    "dire corby\r\n",
    "dragonborn\r\n",
    "dusk elf\r\n",
    "dwarf\r\n",
    "earth genasi\r\n",
    "elf\r\n",
    "fire genasi\r\n",
    "fire giant\r\n",
    "firenewt\r\n",
    "frost giant\r\n",
    "gith\r\n",
    "gnoll\r\n",
    "gnome\r\n",
    "gnome, shapechanger\r\n",
    "goblin, shapechanger\r\n",
    "goblinoid\r\n",
    "goliath\r\n",
    "goliath, shapechanger\r\n",
    "grimlock\r\n",
    "grippli\r\n",
    "grung\r\n",
    "half-black dragon\r\n",
    "half-dragon\r\n",
    "half-elf\r\n",
    "half-orc\r\n",
    "half-orc, shapechanger\r\n",
    "halfling\r\n",
    "halfling, shapechanger\r\n",
    "high elf\r\n",
    "hill giant\r\n",
    "human\r\n",
    "human, shapechanger\r\n",
    "Illuskan human\r\n",
    "inevitable\r\n",
    "jermlaine\r\n",
    "kalashtar\r\n",
    "kenku\r\n",
    "kobold\r\n",
    "kraul\r\n",
    "kuo-toa\r\n",
    "lava child\r\n",
    "leonin\r\n",
    "Lightfoot halfling\r\n",
    "lizardfolk\r\n",
    "locathah\r\n",
    "meazel\r\n",
    "merfolk\r\n",
    "mongrelfolk\r\n",
    "Mulan human\r\n",
    "nagpa\r\n",
    "orc\r\n",
    "quaggoth\r\n",
    "Rock gnome\r\n",
    "sahuagin\r\n",
    "saurial\r\n",
    "shapechanger\r\n",
    "shapechanger, yuan-ti\r\n",
    "shield dwarf\r\n",
    "shifter\r\n",
    "Shou human\r\n",
    "Simic hybrid\r\n",
    "stone giant\r\n",
    "storm giant\r\n",
    "Strongheart halfling\r\n",
    "tabaxi\r\n",
    "Tethyrian human\r\n",
    "thri-kreen\r\n",
    "tiefling\r\n",
    "titan\r\n",
    "tortle\r\n",
    "triton\r\n",
    "troglodyte\r\n",
    "Turami human\r\n",
    "warforged\r\n",
    "Water genasi\r\n",
    "Wood elf\r\n",
    "xvart\r\n",
    "yuan-ti\r\n",
    "yugoloth\"\"\"\r\n",
    "fLorStoHTMLdropdown(sString)"
   ]
  },
  {
   "cell_type": "code",
   "execution_count": null,
   "metadata": {},
   "outputs": [],
   "source": [
    "myList = ['0.5', '1', '1.5', '2', '2.5', '3', '3.5', '34', '4.5', '5', '5.5', '6', '6.5', '7', '7.5', '8', '8.5', '9', '9.5', '10', '10.5', '11', '11.5', '12', '12.5', '13', '13.5', '14', '14.5', '15', '15.5', '16', '16.5', '17', '17.5', '18']\n",
    "fLorStoHTMLdropdown(myList)"
   ]
  },
  {
   "cell_type": "code",
   "execution_count": null,
   "metadata": {},
   "outputs": [],
   "source": [
    "myList = ['Bounty Board', 'Calendar', 'Combat Tracker', 'Downtime Activities', 'Procedural Battle Maps', 'Ship Expenses', 'Spell Helper']\n",
    "fLorStoAHREF(myList, 'Tool_')"
   ]
  },
  {
   "cell_type": "code",
   "execution_count": null,
   "metadata": {},
   "outputs": [],
   "source": [
    "for i in myList:\n",
    "    print(f\"<s>{i}</s>\")"
   ]
  },
  {
   "cell_type": "markdown",
   "metadata": {},
   "source": [
    "## Create Files from List"
   ]
  },
  {
   "cell_type": "code",
   "execution_count": null,
   "metadata": {},
   "outputs": [],
   "source": [
    "def fCreateFiles(myList, extension):\n",
    "    myString = f\"\"\"<!DOCTYPE html> \n",
    "<html lang =\"en\">  \n",
    "<head>  \n",
    "    <meta charset=\"UTF-8\">\n",
    "    <meta name=\"viewport\" content=\"width=device-width, initial-scale=1.0\">\n",
    "    <meta http-equiv=\"X-UA-Compatible\" content=\"ie=edge\">\n",
    "    <title>GameMaster Website</title>  \n",
    "    <link rel=\"stylesheet\" href=\"style.css\"/>\n",
    "</head>  \n",
    "  \n",
    "<body>   \n",
    "    <nav>\n",
    "        <img src=\"https://i.pinimg.com/originals/48/cb/53/48cb5349f515f6e59edc2a4de294f439.png\" alt=\"Logo\">\n",
    "        <a href=\"Nav_Homepage.html\">Home</a>\n",
    "        <a href=\"Nav_Calculators.html\">Calculators</a>\n",
    "        <a href=\"Nav_Homebrew.html\">Homebrew</a>\n",
    "        <a href=\"Nav_Tools.html\">Tools</a>\n",
    "        <a href=\"\">Donate</a>\n",
    "    </nav>\n",
    "    <main>\n",
    "        <h1>{i}</h1>\n",
    "        \n",
    "    </main> \n",
    "</body>  \n",
    "</html>\"\"\"\n",
    "    for i in myList:\n",
    "        oValue = i.replace(\" \", \"_\")\n",
    "        oValue = oValue.replace(\"/\", \"-\")\n",
    "        f = open(f\"{oValue}.{extension}\", \"w+\")\n",
    "        f.write(writeString)\n",
    "        f.close()"
   ]
  },
  {
   "cell_type": "code",
   "execution_count": null,
   "metadata": {},
   "outputs": [],
   "source": [
    "myList = ['Adjusting Races', 'Animal Husbandry', 'Arrows', 'Beer Brewing', 'Casting Spells of a Higher Level', 'Crafting', 'Divine Ranks and Powers', 'Enlarge/Reduce Spell', 'Fall Damage', 'Flanking', 'Foraging/Harvesting', 'Gemstones', 'Identifying a Spell Being Cast', 'Improving Ability Scores', 'Intelligence', 'Item Prices', \"Kibble's Crafting\", 'Medidcine Check for Determining Health', 'Negotiating a Price', 'Ship Navigation', 'Ship Speeds', 'Sprint', 'Street Drugs', 'Tavern Games', 'The Economy', 'Training a Skill', 'Traveling']\n",
    "fCreateFiles(myList, 'html')"
   ]
  },
  {
   "cell_type": "code",
   "execution_count": null,
   "metadata": {},
   "outputs": [],
   "source": [
    "for i in myList:\n",
    "    i = i.replace(\"* \", \"\")\n",
    "    i = i.replace(\"[x] \", \"\")\n",
    "    print(f\"{i}\")"
   ]
  },
  {
   "cell_type": "markdown",
   "metadata": {},
   "source": [
    "## List/String to JavaScript Dictionary"
   ]
  },
  {
   "cell_type": "code",
   "execution_count": null,
   "metadata": {},
   "outputs": [],
   "source": [
    "myString = \"\"\"\"\"\"\n",
    "\n",
    "fStringtoJSdict(myString)"
   ]
  },
  {
   "cell_type": "markdown",
   "metadata": {},
   "source": [
    "## Change TXT tables to JSONs"
   ]
  },
  {
   "cell_type": "code",
   "execution_count": null,
   "metadata": {},
   "outputs": [],
   "source": [
    "import os\n",
    "# Define the path to scan for files\n",
    "mypath = r'C:\\Users\\mfitz\\Documents\\GitHub Clones\\Foundry_VTT_Macros\\Tables\\JSONs'\n",
    "# Function to rename multiple files\n",
    "def main():\n",
    "    for filename in os.listdir(mypath):\n",
    "        pre, ext = os.path.splitext(filename)\n",
    "        my_dest = pre + \".json\"\n",
    "        my_source = \"{}\\{}\".format(mypath, filename) \n",
    "        my_dest = \"{}\\{}\".format(mypath, my_dest) \n",
    "        os.rename(my_source, my_dest)\n",
    "# Driver Code\n",
    "if __name__ == '__main__':\n",
    "   # Calling main() function\n",
    "   main()"
   ]
  },
  {
   "cell_type": "markdown",
   "metadata": {},
   "source": [
    "## Convert JSONs to CSVs"
   ]
  },
  {
   "cell_type": "code",
   "execution_count": null,
   "metadata": {},
   "outputs": [],
   "source": [
    "# Define the path to scan for files\n",
    "mypath = r'C:\\Users\\mfitz\\Documents\\GitHub Clones\\Foundry_VTT_Macros\\Tables\\JSONs'\n",
    "# Python program to convert\n",
    "# JSON file to CSV \n",
    "import json \n",
    "import csv\n",
    "import pandas as pd\n",
    "for file in os.listdir(mypath):\n",
    "    # Extract the name and file type from the file\n",
    "    vName, vExt = os.path.splitext('{}\\{}'.format(mypath, file))\n",
    "    # Opening JSON file and loading the data\n",
    "    # into the variable data \n",
    "    try:\n",
    "        with open('{}\\{}'.format(mypath, file)) as json_file: \n",
    "            data = json.load(json_file) \n",
    "    except Exception:\n",
    "        pass\n",
    "    employee_data = data['results'] \n",
    "    \n",
    "    # now we will open a file for writing \n",
    "    data_file = open('{}.csv'.format(vName), 'w') \n",
    "    \n",
    "    # create the csv writer object \n",
    "    csv_writer = csv.writer(data_file) \n",
    "\n",
    "    # Counter variable used for writing  \n",
    "    # headers to the CSV file \n",
    "    count = 0\n",
    "    \n",
    "    for emp in employee_data: \n",
    "        if count == 0: \n",
    "    \n",
    "            # Writing headers of CSV file \n",
    "            header = emp.keys() \n",
    "            csv_writer.writerow(header) \n",
    "            count += 1\n",
    "    \n",
    "        # Writing data of CSV file \n",
    "        csv_writer.writerow(emp.values()) \n",
    "    \n",
    "    data_file.close()\n",
    "    # Read the CSV into a DataFrame\n",
    "    try:\n",
    "        df = pd.read_csv(r'{}.csv'.format(vName))\n",
    "        # Write the Dataframe to a new CSV, thus dropping blank rows\n",
    "        df.to_csv('{}.csv'.format(vName), index_label = False)\n",
    "    except Exception:\n",
    "        pass"
   ]
  },
  {
   "cell_type": "markdown",
   "metadata": {},
   "source": [
    "## Convert the CSVs into JavaScript object arrays"
   ]
  },
  {
   "cell_type": "code",
   "execution_count": null,
   "metadata": {},
   "outputs": [],
   "source": [
    "import pandas as pd\n",
    "oPath = r'C:\\Users\\Me\\Documents\\GitHub Clones\\Foundry_VTT_Macros\\Tables\\JSONs\\CSVs'\n",
    "df = pd.read_csv(r'{}\\(Blue Hole) Contents.csv'.format(oPath), header = 0)"
   ]
  },
  {
   "cell_type": "code",
   "execution_count": null,
   "metadata": {},
   "outputs": [],
   "source": [
    "lTable = []\n",
    "vCount = 0\n",
    "oFinalString = ''\n",
    "for index, row in df.iterrows():\n",
    "    cID = vCount\n",
    "    cText = str(df[\"text\"][index]).replace('\"', '')\n",
    "    oString = \"\\t{\" + \"id: \" + '\"' + \"{}\".format(cID) + '\"' + \", \" + \"text: \" + '\"' + \"{}\".format(cText) + '\"' + \"},\\n\"\n",
    "    #lTable.append(oString)\n",
    "    oFinalString += oString\n",
    "    vCount += 1\n",
    "print(\"[\\n\" + oFinalString + \"]\")"
   ]
  },
  {
   "cell_type": "markdown",
   "metadata": {},
   "source": [
    "## Fixing the Encounter Tables"
   ]
  },
  {
   "cell_type": "code",
   "execution_count": null,
   "metadata": {},
   "outputs": [],
   "source": [
    "sheet_names = ['Arctic', 'Coastal', 'Desert', 'Farmland', 'Forest', 'Grassland', 'Hill', 'Jungle', 'Mountain', 'Open Water', 'Swamp', 'Underdark', 'Underwater', 'Urban', 'Wasteland', 'Woodland']"
   ]
  },
  {
   "cell_type": "code",
   "execution_count": null,
   "metadata": {},
   "outputs": [],
   "source": [
    "# Import each sheet as its own DF\n",
    "import pandas as pd\n",
    "df = {}\n",
    "for i in sheet_names:\n",
    "    df[i] = pd.read_excel(\"Random Encounter Tables (For Python Manipulation).xlsx\", header = 0, sheet_name=i)\n",
    "    df[i] = df[i].drop(columns = ['d100_bad', 'Level_bad'])"
   ]
  },
  {
   "cell_type": "code",
   "execution_count": null,
   "metadata": {},
   "outputs": [],
   "source": [
    "# Excel writer\n",
    "writer = pd.ExcelWriter('Random Encounter Tables.xlsx', engine = 'xlsxwriter')\n",
    "# Loop through each sheet's DF to fix it\n",
    "for i in sheet_names:\n",
    "    lIndex = []\n",
    "    for idx, row in df[i].iterrows():\n",
    "        d100 = str(df[i]['d100'][idx])\n",
    "        encounter = df[i]['Encounter'][idx]\n",
    "        df[i]['Level'][idx] = df[i]['Level'][idx].replace(\"'\", \"-\")\n",
    "        level = df[i]['Level'][idx]\n",
    "        if \"'\" in d100:\n",
    "            first_num = int(d100[0:2])\n",
    "            last_num = int(d100[3:5])\n",
    "            for x in range(first_num, last_num + 1):\n",
    "                df[i] = df[i].append({\"Encounter\":encounter, \"d100\":x, \"Level\":level}, ignore_index = True)\n",
    "            lIndex.append(idx)\n",
    "    df[i] = df[i].drop(lIndex)\n",
    "    df[i] = df[i].sort_values(by = ['Level', 'd100']).reset_index(drop = True)\n",
    "    df[i].to_excel(writer, sheet_name = f\"{i}\", index = False)\n",
    "writer.save()"
   ]
  },
  {
   "cell_type": "markdown",
   "metadata": {},
   "source": [
    "## String to List"
   ]
  },
  {
   "cell_type": "code",
   "execution_count": 1,
   "metadata": {},
   "outputs": [
    {
     "ename": "ModuleNotFoundError",
     "evalue": "No module named 'pandas'",
     "output_type": "error",
     "traceback": [
      "\u001b[1;31m---------------------------------------------------------------------------\u001b[0m",
      "\u001b[1;31mModuleNotFoundError\u001b[0m                       Traceback (most recent call last)",
      "\u001b[1;32m<ipython-input-1-ac48cfd63935>\u001b[0m in \u001b[0;36m<module>\u001b[1;34m\u001b[0m\n\u001b[1;32m----> 1\u001b[1;33m \u001b[1;32mimport\u001b[0m \u001b[0mpandas\u001b[0m \u001b[1;32mas\u001b[0m \u001b[0mpd\u001b[0m\u001b[1;33m\u001b[0m\u001b[1;33m\u001b[0m\u001b[0m\n\u001b[0m\u001b[0;32m      2\u001b[0m \u001b[0mdf\u001b[0m \u001b[1;33m=\u001b[0m \u001b[0mpd\u001b[0m\u001b[1;33m.\u001b[0m\u001b[0mread_excel\u001b[0m\u001b[1;33m(\u001b[0m\u001b[1;34m\"Random Encounter Tables.xlsx\"\u001b[0m\u001b[1;33m,\u001b[0m \u001b[0mheader\u001b[0m \u001b[1;33m=\u001b[0m \u001b[1;32mNone\u001b[0m\u001b[1;33m,\u001b[0m \u001b[0msheet_name\u001b[0m \u001b[1;33m=\u001b[0m \u001b[1;34m'Sheet1'\u001b[0m\u001b[1;33m)\u001b[0m\u001b[1;33m\u001b[0m\u001b[1;33m\u001b[0m\u001b[0m\n\u001b[0;32m      3\u001b[0m \u001b[0mdf\u001b[0m\u001b[1;33m\u001b[0m\u001b[1;33m\u001b[0m\u001b[0m\n",
      "\u001b[1;31mModuleNotFoundError\u001b[0m: No module named 'pandas'"
     ]
    }
   ],
   "source": [
    "import pandas as pd\n",
    "df = pd.read_excel(\"Random Encounter Tables.xlsx\", header = None, sheet_name = 'Sheet1')\n",
    "df"
   ]
  },
  {
   "cell_type": "code",
   "execution_count": null,
   "metadata": {},
   "outputs": [],
   "source": [
    "lIndex = []\n",
    "for idx, row in df.iterrows():\n",
    "    d100 = str(df['d100'][idx])\n",
    "    encounter = df['Encounter'][idx]\n",
    "    df['Level'][idx] = df['Level'][idx].replace(\"'\", \"-\")\n",
    "    level = df['Level'][idx]\n",
    "    if \"'\" in d100:\n",
    "        first_num = int(d100[0:2])\n",
    "        last_num = int(d100[3:5])\n",
    "        for x in range(first_num, last_num + 1):\n",
    "            df = df.append({\"Encounter\":encounter, \"d100\":x, \"Level\":level}, ignore_index = True)\n",
    "        lIndex.append(idx)\n",
    "df = df.drop(lIndex)\n",
    "df = df.sort_values(by = ['Level', 'd100']).reset_index(drop = True)"
   ]
  },
  {
   "cell_type": "code",
   "execution_count": null,
   "metadata": {},
   "outputs": [],
   "source": [
    "df.to_excel('chicken_monkey.xlsx')"
   ]
  },
  {
   "cell_type": "code",
   "execution_count": null,
   "metadata": {
    "tags": []
   },
   "outputs": [],
   "source": [
    "myList = df[0].to_list()\n",
    "myList = [x for x in myList if str(x) != 'nan']\n",
    "print(myList)"
   ]
  },
  {
   "cell_type": "code",
   "execution_count": null,
   "metadata": {},
   "outputs": [],
   "source": []
  }
 ],
 "metadata": {
  "kernelspec": {
   "display_name": "Python 3.9.4 64-bit",
   "name": "python394jvsc74a57bd063fd5069d213b44bf678585dea6b12cceca9941eaf7f819626cde1f2670de90d"
  },
  "language_info": {
   "codemirror_mode": {
    "name": "ipython",
    "version": 3
   },
   "file_extension": ".py",
   "mimetype": "text/x-python",
   "name": "python",
   "nbconvert_exporter": "python",
   "pygments_lexer": "ipython3",
   "version": "3.9.4"
  },
  "metadata": {
   "interpreter": {
    "hash": "63fd5069d213b44bf678585dea6b12cceca9941eaf7f819626cde1f2670de90d"
   }
  },
  "orig_nbformat": 3
 },
 "nbformat": 4,
 "nbformat_minor": 2
}