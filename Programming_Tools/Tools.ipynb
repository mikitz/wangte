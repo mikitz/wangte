{
 "metadata": {
  "language_info": {
   "codemirror_mode": {
    "name": "ipython",
    "version": 3
   },
   "file_extension": ".py",
   "mimetype": "text/x-python",
   "name": "python",
   "nbconvert_exporter": "python",
   "pygments_lexer": "ipython3",
   "version": "3.8.3-final"
  },
  "orig_nbformat": 2,
  "kernelspec": {
   "name": "python3",
   "display_name": "Python 3",
   "language": "python"
  }
 },
 "nbformat": 4,
 "nbformat_minor": 2,
 "cells": [
  {
   "cell_type": "code",
   "execution_count": null,
   "metadata": {},
   "outputs": [],
   "source": [
    "# To launch the php server\n",
    "cd C:\\Users\\Me\\Documents\\GitHub Clones\\wangte\n",
    "\n",
    "# Then \n",
    "php -S localhost:80 -t ."
   ]
  },
  {
   "source": [
    "# FUNCTIONS"
   ],
   "cell_type": "markdown",
   "metadata": {}
  },
  {
   "cell_type": "code",
   "execution_count": 13,
   "metadata": {},
   "outputs": [],
   "source": [
    "# List/String to JavaScript Dictionary\n",
    "def fStringtoJSdict(vObject):\n",
    "    if isinstance(vObject, str):\n",
    "        lList = vObject.split(\"\\n\")\n",
    "    else:\n",
    "        lList = vObject\n",
    "    for i, text in enumerate(lList):\n",
    "        if i > len(lList) - 2:\n",
    "            comma = \"\"\n",
    "        else:\n",
    "            comma = \",\"\n",
    "        if i == 0:\n",
    "            fBracket = \"{\\n\"\n",
    "        else:\n",
    "            fBracket = \"\"\n",
    "        if i == len(lList) - 1:\n",
    "            bBracket = \"\\n}\"\n",
    "        else:\n",
    "            bBracket = \"\"\n",
    "        print(f'{fBracket} {i+1}: \"{text}\"{comma} {bBracket}')\n",
    "# List or String to HTML dropdown options\n",
    "def fLorStoHTMLdropdown(vObject):\n",
    "    if isinstance(vObject, str):\n",
    "        lList = vObject.split(\"\\n\")\n",
    "    else:\n",
    "        lList = vObject\n",
    "    # Loop through the items in the list and append the HTML    \n",
    "    for i in lList:\n",
    "        oValue = i.lower()\n",
    "        oValue = oValue.replace(\" \", \"-\")\n",
    "        oFinal = f'<option value=\"{oValue}\">{i}</option>'\n",
    "        print(oFinal)\n",
    "# List or String to <a href>'s\n",
    "def fLorStoAHREF(vObject, preface):\n",
    "    if isinstance(vObject, str):\n",
    "        lList = vObject.split(\"\\n\")\n",
    "    else:\n",
    "        lList = vObject\n",
    "    # Loop through the items in the list and append the HTML    \n",
    "    for i in lList:\n",
    "        oValue = i.replace(\" \", \"_\")\n",
    "        oValue = oValue.replace(\"/\", \"-\")\n",
    "        oFinal = f'<a href=\"{preface}{oValue}.html\">{i}</a>\\n<br>'\n",
    "        print(oFinal)"
   ]
  },
  {
   "source": [
    "## String w/ Spaces to String w/ Underscores"
   ],
   "cell_type": "markdown",
   "metadata": {}
  },
  {
   "cell_type": "code",
   "execution_count": null,
   "metadata": {},
   "outputs": [],
   "source": [
    "txt = '\"pass check (5 or above dc)\"'\n",
    "txt = txt.replace(\" \", \"_\")\n",
    "print(txt)"
   ]
  },
  {
   "source": [
    "## List/String to HTML Dropdown Options"
   ],
   "cell_type": "markdown",
   "metadata": {}
  },
  {
   "cell_type": "code",
   "execution_count": null,
   "metadata": {},
   "outputs": [],
   "source": [
    "myList = ['* [x] Dice Probabilities', '* [x] Sailing Duration and Cargo Tranport Revenue', '* Foot Travel Duration', '* [x] Horizon Calculator', '* How Special Are You?', '* Crafting Duration', '* Training Successes', '* Bounty Reward']"
   ]
  },
  {
   "cell_type": "code",
   "execution_count": 2,
   "metadata": {},
   "outputs": [
    {
     "output_type": "stream",
     "name": "stdout",
     "text": [
      "<option value=\"festivals\">Festivals</option>\n<option value=\"red-light-district\">Red Light District</option>\n<option value=\"tavern\">Tavern</option>\n"
     ]
    }
   ],
   "source": [
    "sString = \"\"\"Festivals\n",
    "Red Light District\n",
    "Tavern\"\"\"\n",
    "fLorStoHTMLdropdown(sString)"
   ]
  },
  {
   "cell_type": "code",
   "execution_count": null,
   "metadata": {},
   "outputs": [],
   "source": [
    "myList = ['0.5', '1', '1.5', '2', '2.5', '3', '3.5', '34', '4.5', '5', '5.5', '6', '6.5', '7', '7.5', '8', '8.5', '9', '9.5', '10', '10.5', '11', '11.5', '12', '12.5', '13', '13.5', '14', '14.5', '15', '15.5', '16', '16.5', '17', '17.5', '18']\n",
    "fLorStoHTMLdropdown(myList)"
   ]
  },
  {
   "cell_type": "code",
   "execution_count": null,
   "metadata": {},
   "outputs": [],
   "source": [
    "myList = ['Bounty Board', 'Calendar', 'Combat Tracker', 'Downtime Activities', 'Procedural Battle Maps', 'Ship Expenses', 'Spell Helper']\n",
    "fLorStoAHREF(myList, 'Tool_')"
   ]
  },
  {
   "cell_type": "code",
   "execution_count": null,
   "metadata": {},
   "outputs": [],
   "source": [
    "for i in myList:\n",
    "    print(f\"<s>{i}</s>\")"
   ]
  },
  {
   "source": [
    "## Create Files from List"
   ],
   "cell_type": "markdown",
   "metadata": {}
  },
  {
   "cell_type": "code",
   "execution_count": null,
   "metadata": {},
   "outputs": [],
   "source": [
    "def fCreateFiles(myList, extension):\n",
    "    myString = f\"\"\"<!DOCTYPE html> \n",
    "<html lang =\"en\">  \n",
    "<head>  \n",
    "    <meta charset=\"UTF-8\">\n",
    "    <meta name=\"viewport\" content=\"width=device-width, initial-scale=1.0\">\n",
    "    <meta http-equiv=\"X-UA-Compatible\" content=\"ie=edge\">\n",
    "    <title>GameMaster Website</title>  \n",
    "    <link rel=\"stylesheet\" href=\"style.css\"/>\n",
    "</head>  \n",
    "  \n",
    "<body>   \n",
    "    <nav>\n",
    "        <img src=\"https://i.pinimg.com/originals/48/cb/53/48cb5349f515f6e59edc2a4de294f439.png\" alt=\"Logo\">\n",
    "        <a href=\"Nav_Homepage.html\">Home</a>\n",
    "        <a href=\"Nav_Calculators.html\">Calculators</a>\n",
    "        <a href=\"Nav_Homebrew.html\">Homebrew</a>\n",
    "        <a href=\"Nav_Tools.html\">Tools</a>\n",
    "        <a href=\"\">Donate</a>\n",
    "    </nav>\n",
    "    <main>\n",
    "        <h1>{i}</h1>\n",
    "        \n",
    "    </main> \n",
    "</body>  \n",
    "</html>\"\"\"\n",
    "    for i in myList:\n",
    "        oValue = i.replace(\" \", \"_\")\n",
    "        oValue = oValue.replace(\"/\", \"-\")\n",
    "        f = open(f\"{oValue}.{extension}\", \"w+\")\n",
    "        f.write(writeString)\n",
    "        f.close()"
   ]
  },
  {
   "cell_type": "code",
   "execution_count": null,
   "metadata": {},
   "outputs": [],
   "source": [
    "myList = ['Adjusting Races', 'Animal Husbandry', 'Arrows', 'Beer Brewing', 'Casting Spells of a Higher Level', 'Crafting', 'Divine Ranks and Powers', 'Enlarge/Reduce Spell', 'Fall Damage', 'Flanking', 'Foraging/Harvesting', 'Gemstones', 'Identifying a Spell Being Cast', 'Improving Ability Scores', 'Intelligence', 'Item Prices', \"Kibble's Crafting\", 'Medidcine Check for Determining Health', 'Negotiating a Price', 'Ship Navigation', 'Ship Speeds', 'Sprint', 'Street Drugs', 'Tavern Games', 'The Economy', 'Training a Skill', 'Traveling']\n",
    "fCreateFiles(myList, 'html')"
   ]
  },
  {
   "cell_type": "code",
   "execution_count": null,
   "metadata": {},
   "outputs": [],
   "source": [
    "for i in myList:\n",
    "    i = i.replace(\"* \", \"\")\n",
    "    i = i.replace(\"[x] \", \"\")\n",
    "    print(f\"{i}\")"
   ]
  },
  {
   "source": [
    "## List/String to JavaScript Dictionary"
   ],
   "cell_type": "markdown",
   "metadata": {}
  },
  {
   "cell_type": "code",
   "execution_count": 14,
   "metadata": {},
   "outputs": [
    {
     "output_type": "stream",
     "name": "stdout",
     "text": [
      "{\n 1: \"So I said to him, 'You can't do that with a pickle'. * Pause for a drink * Sad to say, he proved me wrong.\", \n 2: \"He said to me, 'I am the great pirate captain Jaques', so I said to him, 'I AM THE GREAT SOLDIER JUAN',and then I shot him. \"How delightful! Did he live\"? \"He survived the shot, but then they hung him for piracy\".\", \n 3: \"So then I said, 'That's no dairy cow! That's my wife'! Still, 50 gold is 50 gold. And the milk is quite good. Is that blood in your moustache? Blondie! Come look at all the blood in this guy's moustache! My gods, sir, that's a lot of blood!\", \n 4: \"Think non sexy thoughts! Think non sexy thoughts! Think non sexy thoughts...\", \n 5: \"Don't ask where I'm getting the eggs. Just do yourself a favor: never piss off a witch.\", \n 6: \"describing a party member \"And remember, 100 gold. With an additional 500 if it results in pregnancy\".\", \n 7: \"And that's why the library now has a two drink minimum.\", \n 8: \"If you ask me, she over reacted a little. But the guy in the alley replaced it with a tentacle, so now I can pick up my beer with it. * Proceeds to fasten their belt *\", \n 9: \"Only a hippopotamus will do.\", \n 10: \"Honestly, I never became an alchemist to be rich or famous. I just wanted to be able to make a hair-growth formula so I don't need to wear a wig anymore. u/Moon_Dew\", \n 11: \"“They don’t like being walled up, and who’s to blame them? Wild things belong in the wild, not in a castle.” u/BernardoCamPt\", \n 12: \"“Now you stop that there.” “Ooo-ooo-oooooo. Ooo-ooo-ooooooooooooooooo.” u/BernardoCamPt\", \n 13: \"“Swearing don’t make it true, Hod. You keep swearing you’ll pay what you owe me, and I’ve yet to see a copper.” u/BernardoCamPt\", \n 14: \"“I heard how this hellbitch walked into a village one day . . . a market day, people everywhere, and she walks in bold as you please and tears a baby from his mother’s arms. When the tale reached the Lord, him and his sons swore they’d put an end to her. They tracked her to her lair with a pack of wolfhounds, and barely escaped with their skins. Not one of those dogs came back, not one.” u/BernardoCamPt\", \n 15: \"“The same things I’d have of all of them, lad. Men, horses, swords, armor, grain, cheese, wine, wool, nails . . . we are not proud, we take what is offered.” u/BernardoCamPt\", \n 16: \"1- “So I had that nightmare again” 2- “The one where your mum’s a horse?” 1- “Oi watch your tongue when you talk about me mum. ...but yeah, that one” u/Slick_Dennis\", \n 17: \"“So I finally learned what ‘pious’ means. Not sure becoming a cleric is gonna work out after all” u/Slick_Dennis\", \n 18: \"“I got no way of provin it but I swear that guy was wearing MY boots. The ones that burnt up last year” u/u/Slick_Dennis\", \n 19: \"“...fuckin druids though amirite?” u/Slick_Dennis\", \n 20: \"“Saw a guy drink a dozen of those like nothing. ‘Fore ya know it he drops to the ground out cold. 20 seconds later he’s dead” u/Slick_Dennis\", \n 21: \"“Remember Soren from town? Shit you not got turned into a tree” u/Slick_Dennis\", \n 22: \"“...so he gives me this rock, says it’s magic. Afraid to touch the thing honestly” u/Slick_Dennis\", \n 23: \"“Aagh come on she’ll never marry ya if ya can’t even talk to her. Come on go get her, ask her about the local gossip or something” u/Slick_Dennis\", \n 24: \"“5 copper says I can balance my sword on my nose” — “10 let’s see it” u/Slick_Dennis\", \n 25: \"“is there a god of having a busted face cause it looks like that one over there’s been prayin” u/Slick_Dennis\", \n 26: \"“supposedly it’s magic, lights up all blue when someone’s listening in on your conversation” “but it’s blue now” “yeah... it’s almost always blue” u/Slick_Dennis\", \n 27: \"You know he's crazy, right? But they keep asking about where he went like they expect him to act normally… u/majorgs15\", \n 28: \"Did you hear the one about the dog? \"Yes.\" \"Dang it.\" u/serious_tabaxi\", \n 29: \".....\"- covered in piss\" u/trouser_mouse\", \n 30: \"I love you like a son. It's a good thing for you that you're not my son, however, because after that stunt you pulled I was this close to DROPKICKING YOUR SORRY ASS FROM HERE TO BALDUR'S GATE!!! u/Moon_Dew\", \n 31: \"Oh gods, you forgot to move the zero, the whole spell is going to go critical if you don't fix this right now! u/g3rmb0y\", \n 32: \"We strike tonight! They'll never see it coming. u/MaxSizeIs\", \n 33: \"But what about the family? They'll never accept it. u/MaxSizeIs\", \n 34: \"It's the fault of these damn Adventurers, always mucking everything up and causing problems! u/MaxSizeIs\", \n 35: \"Well, that complicates things. Even so, you promised. Magic tomatoes in 3 weeks or your daughter get's it. u/FullAuto4thewin\", \n 36: \"and then the wizard cursed me with a lady's triangle for a beard. u/Slainlion\", \n 37: \"who would have thought that Kolvin would have slain that bugbear with a broken scabbard. u/Slainlion\", \n 38: \"Remember that time when Bennek used his boots of levitation to see lady Pemberton in her room only to find his dad was there first? Good times u/Slainlion\", \n 39: \"I bet that dragon is still trying to pass ol' Ironbeard. What a fat dwarf he was. u/Slainlion\", \n 40: \"so then I buried that artifact under the dragon spine tree in... I think someone is listening... Nevermind u/Slainlion\", \n 41: \"So's I pull in the line, an' whaddya know? That fish burst inna flames, too! u/hamlet_d\", \n 42: \"The building is deserted by 2nd watch. We will need to be careful of the drunken priest, though. u/hamlet_d\", \n 43: \"There's cultists about, I seen them with me own eyes, skulking up into the swamp. u/hamlet_d\", \n 44: \"The river is flooded and the barley crops are lost. This year will be tough. u/hamlet_d\", \n 45: \"...an then I says * hic * you won't find a stouter woman than my Margie… u/hamlet_d\", \n 46: \"The whole herd was slaughtered, told Grimsby to stay 'way from them caves. u/hamlet_d\", \n 47: \"That's why you never use gnomish fishing rods. Nine-times-out-of-ten they do something weird. u/Moon_Dew\", \n 48: \"Rumors from the north say that princess is kidnapping dragons again.... u/cumberdong\", \n 49: \"Those poor beasties. Still, I can think of worse ways to die than 'sex'ed to death by a nymphomaniacal princess'. u/Moon_Dew\", \n 50: \"Two NPCs drinking silently together until… \"Goblins..?\" Slow nod. \"Goblins\" Both drink. u/Pobbes\", \n 51: \"...and I said, 'You think you're scared, I have to walk back alone!' u/whynaut4\", \n 52: \"“Y’seen Taergrod around lately? Irvin said he hasn’t seen him at the mill in over a week.” “Yeah... well... ah, Nevermind.” “What? Seen ‘im or not?” “Well...Thought I saw him two-no... three nights ago. Got piss drunk here and began walkin’ home in the pitch black hours of the night. I heard a noise and thought it was a rat but... it was too big to be a rat... it was chewing on a... a corpse. This thing... it had Taergrod’s face.” “Hmph... musta been some strong drink.” u/Kyberdude\", \n 53: \"Oh my gods, did you hear that Rogash the Brave was eaten by a dire chicken? u/OwenMcCauley\", \n 54: \"D'ya hear that Ollod's girl has another wee one on the way? No wonder he is always hustlin. Half the damn block o'er there will be Graves. Tankard slams down empty (Seperate voice) \"A damn shame. You know he sold me a tooth the other day? Solid silver. Said he picked it from two blokes scrapping down courtside.\" u/primeathos\", \n 55: \"...no, I said no. If he's/she's alone I will do it, but not if they are more than 3. It's my lucky number, at 4, it's a no-go...find someone else... u/RogueGW\", \n 56: \"And did she? Oh let me tell you she did! She shined my sword. (Laughter and whistles). And then she shined my platemail and shield too! u/Slainlion\", \n 57: \"Raise your tankards and let's salute poor old Dunk. Only bloke I know to be kicked in the head by a hippogriff. u/Slainlion\", \n 58: \"...in the old oak, thats where i hid it! u/Lethan64\", \n 59: \"...Really, you expect me t'believe you escaped from a dragon? C'mon, you haven't lived till you've run away from a beholder with your head on fire! \"I really shouldn't drink with you any more, Joe, you're always shitting on my adventures!\" u/always_gamer_hair\", \n 60: \"I like this! Smashes mug on floor. \"Another!\" u/always_gamer_hair\", \n 61: \"So whether you're with the Alliance or the Horde, probably should...(drifts off into incoherent mumbling) LEEEROYYYY JENNNNNNKINNNNS! \"Goddammit Leeroy...\" u/always_gamer_hair\", \n 62: \"Hard to believe it, but she's set up well for herself in the capitol, and she intends to be the highest paid whore in the land! \"Um, I'm not one to talk, Ben, but maybe don't call your daughter a whore...\" \"What about an escort?\" u/Moon_Dew\", \n 63: \"Old wizard on magic Telestone, \"Oh how awful, did he at least die painlessly?...To shreds you say...And how's his wife holding up?...To shreds you say?\" u/LilyWineAuntofDemons\", \n 64: \"Drunkenly, \"Wha-Wha'dif wur all jus'...little bits, made o' even smaller bits? An'-An' those bits, soooooo tiny you cud-cudn' even see 'em, not even with a man-man-mangifying grass...BUT those lil, itty, bitty, teensy, tiny bi's...if ya broke one....then...urp, then ever'thing 'sploded fer-fer like...fif'y miles!\" \"Albert, you're so fucking drunk, go home.\" u/LilyWineAuntofDemons\", \n 65: \"Distressed looking Goliath, \"Wait! Don't go! What was I supposed to tell you? 'Oh hi, I'm a goliath right now, but actually for most of my life I used to be a tree until one day I woke up and I wasn't! If I'd told you that you'd have thought I was crazy!\" \"I still think you're crazy!\" u/LilyWineAuntofDemons\", \n 66: \"At first I thought it was foxes takin' meh chickens, maybe a feral blink dog, since a few of 'em dis'peared in front of me eye when I blinked! But no, turns out it was sprites! Fer chicken jousting! I found out when I managed to follow one! Now I'm head Councilor of the Betting Tables! u/LilyWineAuntofDemons\", \n 67: \"[Splash of water, followed by angry sputtering] Curse you for breathin' ya slack-jawed idiot! u/Moon_Dew\", \n 68: \"[Most likely in a drunken slur] Did everyone see that? Because I will not be doing it again. u/Nomad9931\", \n 69: \"And remember what they always say, dead men tell no tales. \"... Yes they do.\" \"No, they don't.\" \"No no they do, I saw it last week, some holy man from the church up the road was talking to some dead guy then all the guards rushed off.\" \"[sounding a bit annoyed] Fine, dead men tell no tales unless aided but some holy man from the church up the road, better?\" \"[excitedly] Yes.\" u/Nomad9931\", \n 70: \"[A druid complaining about their meal] Man, I really don't want to eat boar, but they said they didn't have anything else. I've spent time as a boar this just seems really wrong. u/Nomad9931\", \n 71: \"I used to be an adventurer, then I took an arrow in the knee. u/TanhaAel\", \n 72: \"The cake is lie! starts slashing it with his knife. u/TanhaAel\", \n 73: \"It won’t explode he said! u/Anie17\", \n 74: \"Once you get past the smell, and the fact that you'll usually end up with claw and bite marks, sex with a gnoll is great. \"... there is something fundamentally wrong with you, psychological speaking.\" u/Moon_Dew\", \n 75: \"That's what she- \"MAXWELL, I SWEAR TO THE GODS!!! FINISH THAT SENTENCE AND I'M SHOVING YOU HEADFIRST INTO THE DIRTIEST CHAMBERPOT I CAN FIND!!!\" u/Moon_Dew\", \n 76: \"I use to be an adventurer like you- \"Unless you want an arrow to the eye, don't finish that joke!\" u/Moon_Dew\", \n 77: \"Elora, on a scale of 1-10, how drunk are you? \"Avocado. [drunken giggles]\" u/Moon_Dew\", \n 78: \"Holy shit that is where i'd heard the name before, thank you for clearing something up that's been confusing me for months u/MurkyGlover\", \n 79: \"So I asked him, “Is that an African or European swallow?” And he just went, “I don’t know that.” Then he flew thirty feet up in the air and fell into the gorge with a scream, like this, “Aaaaargh.” u/MyEvilTwin47\", \n 80: \"The principal at the art school said I was the worst painter he’d ever seen and didn’t stand a chance to get in. So now I’m following my only other option, and am well on my way to become a mad genocidal despot and conquer the world. u/MyEvilTwin47\", \n 81: \"Shortly before a tavern brawl breaks out I bet you a hundred gold pieces that you don’t dare steal that goblin’s ale. u/MyEvilTwin47\", \n 82: \"So I said to Mabel, I don't care how big it is, you can't leave it there! u/DogmaSychroniser\", \n 83: \"If it were not for my horse, I wouldn't have spent that year in bardic college! u/ravi95035\", \n 84: \"A blonde elf walks into a tavern with a poodle under one arm and a two foot salami under the other. The barkeep says I suppose you won’t be needing a drink... Then a brawl erupts, roll for initiative! u/ravi95035\", \n 85: \"...and that is when I realized it was two halflings under a cloak! u/ravi95035\", \n 86: \"I do not know why I trusted that Dark Elf... now I need to find someone to take my place in the party that is exploring the haunted castle! u/ravi95035\", \n 87: \"And that is why my sister married a Tortle u/ravi95035\", \n 88: \"I always make poor decisions when drinking fermented cactus u/ravi95035\", \n 89: \"Gonna be honest, I don't understand the hype behind 'em. Too many teeth that could mangle the goods. u/Alex_Nidas\", \n 90: \"I mean I'm not saying I would, but 5 gold is 5 gold... u/Alex_Nidas\", \n 91: \"To make a long story short, it's very hard to unfasten boots 20 feet under water. u/Alex_Nidas\", \n 92: \"I get why they're in the forward hold, because no one else has the access code, but why the cryo-case ? \"I think they hatch if the temperature is above minus thirty degrees.\" \"Wait! Hatch!?” u/Heygul\", \n 93: \"It's nice enough, and he's trained it really well if I do say so myself, it's just...I-I can't trust anything in my house anymore. I second guess picking up everything because it might be that gods damned mimic!! u/LilyWineAuntofDemons\", \n 94: \"Bullshit. \"No, it's true! He was 3 gnomes in a cloak!\" \"No way, you're lying.\" \"I'm not! They had a hat that cast illusion magic so they looked like one guy!\" \"Wow, that...sucks. I know you really liked him-them?\" \"Yeah...You know if I'm honest...I still-\" \"You have got to be kidding me.\" \"But they're so nice! And they were really go-\" \"You. Did. Not.\" u/LilyWineAuntofDemons\", \n 95: \"You know, ever since that magic mishap turned me into a [insert gender here], I've felt much happier. \"That's great! I was really worried about you...you were really down for a while. So uh...you wanna ditch this place and go hang out at my place?\" u/LilyWineAuntofDemons\", \n 96: \"And then, I kid you not, he turns himself into a pickle! And you know what he says? He says: I'm pickle Richard, baby!\" funniest shit i've ever seen!\" u/Spexceptional\", \n 97: \"Terrible plague in [insert placename]. Just terrible! Dying like flies they were. Lucky I got out in time. coughs u/IshtarJack\", \n 98: \"and then I got him to ink this one on my back. What do you think? It's the very image of her, everyone says. embarrassed silence u/IshtarJack\", \n 99: \"“And that’s why I’ve sworn off dating Illithids. Not worth it. No matter what you’re thinking, Gary. And I know what you’re thinking. It’s just too much drama. It’s like having 30 boyfriends at once, every hive member gets to weigh in on your relationship.” u/Lil_Crusty\", \n 100: \"“I slit their throat right there! I even watched them bleed out onto the floor, but before I could collect the desecrated blood, the fucking cleric shows up and resurrects the guy!”\", \n 101: \"“... the fucking cleric shows up and resurrects the guy!” “Bloody healers' always stealing my kills!” u/Moon_Dew\", \n 102: \"20 gold? Rubbish, It'll take most of that to cover the damages u/yoggenfogger\", \n 103: \"Turns out, the fella couldn't read! He was just using the books for a midnight snack u/yoggenfogger\", \n 104: \"Yeah, a little homunculus. Just picked up my drink and walked away u/yoggenfogger\", \n 105: \"46, 47, 48! Wow, you really do have that many teeth! u/yoggenfogger\", \n 106: \"and THIS quill I use for lawyer documents, and THIS quill I use for writing my book, which is coming along greatly of course, and THIS quill... u/yoggenfogger\", \n 107: \"and the kindling all went FWOOOM and then I was like WHOOAAA and then my dad was like AHHHHHHHH\", \n 108: \"I'm telling you the horse was the size of an elephant! u/PoliticalOtters\", \n 109: \"“And that’s how I lost my medical license” u/ThatsNotAFact\", \n 110: \"and all because of three initiate priestesses, an apple and a piece of string. u/IshtarJack\", \n 111: \"those scaly bastards pay well, especially for halfling veal u/Punsofdeath\", \n 112: \"“They say duergar have a low libido but I sure proved ‘em wrong.” u/grimoireofstrangers\", \n 113: \"“-the final sacrifice is tonight. Don’t forget your mask.” u/grimoireofstrangers\", \n 114: \"“-and that’s the last time I’ll go to a spring festival with a gnome. You wouldn’t believe the amount of alcohol those fellas can consume.” u/grimoireofstrangers\", \n 115: \"“One thousand for all the hatchlings. Take it or leave it.”\", \n 116: \"If it wasn't for that horse, I never would have taken that year of study at the Mage's College. u/kayura77\" \n}\n"
     ]
    }
   ],
   "source": [
    "myString = \"\"\"So I said to him, 'You can't do that with a pickle'. * Pause for a drink * Sad to say, he proved me wrong.\n",
    "He said to me, 'I am the great pirate captain Jaques', so I said to him, 'I AM THE GREAT SOLDIER JUAN',and then I shot him. \"How delightful! Did he live\"? \"He survived the shot, but then they hung him for piracy\".\n",
    "So then I said, 'That's no dairy cow! That's my wife'! Still, 50 gold is 50 gold. And the milk is quite good. Is that blood in your moustache? Blondie! Come look at all the blood in this guy's moustache! My gods, sir, that's a lot of blood!\n",
    "Think non sexy thoughts! Think non sexy thoughts! Think non sexy thoughts...\n",
    "Don't ask where I'm getting the eggs. Just do yourself a favor: never piss off a witch.\n",
    "describing a party member \"And remember, 100 gold. With an additional 500 if it results in pregnancy\".\n",
    "And that's why the library now has a two drink minimum.\n",
    "If you ask me, she over reacted a little. But the guy in the alley replaced it with a tentacle, so now I can pick up my beer with it. * Proceeds to fasten their belt *\n",
    "Only a hippopotamus will do.\n",
    "Honestly, I never became an alchemist to be rich or famous. I just wanted to be able to make a hair-growth formula so I don't need to wear a wig anymore. u/Moon_Dew\n",
    "“They don’t like being walled up, and who’s to blame them? Wild things belong in the wild, not in a castle.” u/BernardoCamPt\n",
    "“Now you stop that there.” “Ooo-ooo-oooooo. Ooo-ooo-ooooooooooooooooo.” u/BernardoCamPt\n",
    "“Swearing don’t make it true, Hod. You keep swearing you’ll pay what you owe me, and I’ve yet to see a copper.” u/BernardoCamPt\n",
    "“I heard how this hellbitch walked into a village one day . . . a market day, people everywhere, and she walks in bold as you please and tears a baby from his mother’s arms. When the tale reached the Lord, him and his sons swore they’d put an end to her. They tracked her to her lair with a pack of wolfhounds, and barely escaped with their skins. Not one of those dogs came back, not one.” u/BernardoCamPt\n",
    "“The same things I’d have of all of them, lad. Men, horses, swords, armor, grain, cheese, wine, wool, nails . . . we are not proud, we take what is offered.” u/BernardoCamPt\n",
    "1- “So I had that nightmare again” 2- “The one where your mum’s a horse?” 1- “Oi watch your tongue when you talk about me mum. ...but yeah, that one” u/Slick_Dennis\n",
    "“So I finally learned what ‘pious’ means. Not sure becoming a cleric is gonna work out after all” u/Slick_Dennis\n",
    "“I got no way of provin it but I swear that guy was wearing MY boots. The ones that burnt up last year” u/u/Slick_Dennis\n",
    "“...fuckin druids though amirite?” u/Slick_Dennis\n",
    "“Saw a guy drink a dozen of those like nothing. ‘Fore ya know it he drops to the ground out cold. 20 seconds later he’s dead” u/Slick_Dennis\n",
    "“Remember Soren from town? Shit you not got turned into a tree” u/Slick_Dennis\n",
    "“...so he gives me this rock, says it’s magic. Afraid to touch the thing honestly” u/Slick_Dennis\n",
    "“Aagh come on she’ll never marry ya if ya can’t even talk to her. Come on go get her, ask her about the local gossip or something” u/Slick_Dennis\n",
    "“5 copper says I can balance my sword on my nose” — “10 let’s see it” u/Slick_Dennis\n",
    "“is there a god of having a busted face cause it looks like that one over there’s been prayin” u/Slick_Dennis\n",
    "“supposedly it’s magic, lights up all blue when someone’s listening in on your conversation” “but it’s blue now” “yeah... it’s almost always blue” u/Slick_Dennis\n",
    "You know he's crazy, right? But they keep asking about where he went like they expect him to act normally… u/majorgs15\n",
    "Did you hear the one about the dog? \"Yes.\" \"Dang it.\" u/serious_tabaxi\n",
    ".....\"- covered in piss\" u/trouser_mouse\n",
    "I love you like a son. It's a good thing for you that you're not my son, however, because after that stunt you pulled I was this close to DROPKICKING YOUR SORRY ASS FROM HERE TO BALDUR'S GATE!!! u/Moon_Dew\n",
    "Oh gods, you forgot to move the zero, the whole spell is going to go critical if you don't fix this right now! u/g3rmb0y\n",
    "We strike tonight! They'll never see it coming. u/MaxSizeIs\n",
    "But what about the family? They'll never accept it. u/MaxSizeIs\n",
    "It's the fault of these damn Adventurers, always mucking everything up and causing problems! u/MaxSizeIs\n",
    "Well, that complicates things. Even so, you promised. Magic tomatoes in 3 weeks or your daughter get's it. u/FullAuto4thewin\n",
    "and then the wizard cursed me with a lady's triangle for a beard. u/Slainlion\n",
    "who would have thought that Kolvin would have slain that bugbear with a broken scabbard. u/Slainlion\n",
    "Remember that time when Bennek used his boots of levitation to see lady Pemberton in her room only to find his dad was there first? Good times u/Slainlion\n",
    "I bet that dragon is still trying to pass ol' Ironbeard. What a fat dwarf he was. u/Slainlion\n",
    "so then I buried that artifact under the dragon spine tree in... I think someone is listening... Nevermind u/Slainlion\n",
    "So's I pull in the line, an' whaddya know? That fish burst inna flames, too! u/hamlet_d\n",
    "The building is deserted by 2nd watch. We will need to be careful of the drunken priest, though. u/hamlet_d\n",
    "There's cultists about, I seen them with me own eyes, skulking up into the swamp. u/hamlet_d\n",
    "The river is flooded and the barley crops are lost. This year will be tough. u/hamlet_d\n",
    "...an then I says * hic * you won't find a stouter woman than my Margie… u/hamlet_d\n",
    "The whole herd was slaughtered, told Grimsby to stay 'way from them caves. u/hamlet_d\n",
    "That's why you never use gnomish fishing rods. Nine-times-out-of-ten they do something weird. u/Moon_Dew\n",
    "Rumors from the north say that princess is kidnapping dragons again.... u/cumberdong\n",
    "Those poor beasties. Still, I can think of worse ways to die than 'sex'ed to death by a nymphomaniacal princess'. u/Moon_Dew\n",
    "Two NPCs drinking silently together until… \"Goblins..?\" Slow nod. \"Goblins\" Both drink. u/Pobbes\n",
    "...and I said, 'You think you're scared, I have to walk back alone!' u/whynaut4\n",
    "“Y’seen Taergrod around lately? Irvin said he hasn’t seen him at the mill in over a week.” “Yeah... well... ah, Nevermind.” “What? Seen ‘im or not?” “Well...Thought I saw him two-no... three nights ago. Got piss drunk here and began walkin’ home in the pitch black hours of the night. I heard a noise and thought it was a rat but... it was too big to be a rat... it was chewing on a... a corpse. This thing... it had Taergrod’s face.” “Hmph... musta been some strong drink.” u/Kyberdude\n",
    "Oh my gods, did you hear that Rogash the Brave was eaten by a dire chicken? u/OwenMcCauley\n",
    "D'ya hear that Ollod's girl has another wee one on the way? No wonder he is always hustlin. Half the damn block o'er there will be Graves. Tankard slams down empty (Seperate voice) \"A damn shame. You know he sold me a tooth the other day? Solid silver. Said he picked it from two blokes scrapping down courtside.\" u/primeathos\n",
    "...no, I said no. If he's/she's alone I will do it, but not if they are more than 3. It's my lucky number, at 4, it's a no-go...find someone else... u/RogueGW\n",
    "And did she? Oh let me tell you she did! She shined my sword. (Laughter and whistles). And then she shined my platemail and shield too! u/Slainlion\n",
    "Raise your tankards and let's salute poor old Dunk. Only bloke I know to be kicked in the head by a hippogriff. u/Slainlion\n",
    "...in the old oak, thats where i hid it! u/Lethan64\n",
    "...Really, you expect me t'believe you escaped from a dragon? C'mon, you haven't lived till you've run away from a beholder with your head on fire! \"I really shouldn't drink with you any more, Joe, you're always shitting on my adventures!\" u/always_gamer_hair\n",
    "I like this! Smashes mug on floor. \"Another!\" u/always_gamer_hair\n",
    "So whether you're with the Alliance or the Horde, probably should...(drifts off into incoherent mumbling) LEEEROYYYY JENNNNNNKINNNNS! \"Goddammit Leeroy...\" u/always_gamer_hair\n",
    "Hard to believe it, but she's set up well for herself in the capitol, and she intends to be the highest paid whore in the land! \"Um, I'm not one to talk, Ben, but maybe don't call your daughter a whore...\" \"What about an escort?\" u/Moon_Dew\n",
    "Old wizard on magic Telestone, \"Oh how awful, did he at least die painlessly?...To shreds you say...And how's his wife holding up?...To shreds you say?\" u/LilyWineAuntofDemons\n",
    "Drunkenly, \"Wha-Wha'dif wur all jus'...little bits, made o' even smaller bits? An'-An' those bits, soooooo tiny you cud-cudn' even see 'em, not even with a man-man-mangifying grass...BUT those lil, itty, bitty, teensy, tiny bi's...if ya broke one....then...urp, then ever'thing 'sploded fer-fer like...fif'y miles!\" \"Albert, you're so fucking drunk, go home.\" u/LilyWineAuntofDemons\n",
    "Distressed looking Goliath, \"Wait! Don't go! What was I supposed to tell you? 'Oh hi, I'm a goliath right now, but actually for most of my life I used to be a tree until one day I woke up and I wasn't! If I'd told you that you'd have thought I was crazy!\" \"I still think you're crazy!\" u/LilyWineAuntofDemons\n",
    "At first I thought it was foxes takin' meh chickens, maybe a feral blink dog, since a few of 'em dis'peared in front of me eye when I blinked! But no, turns out it was sprites! Fer chicken jousting! I found out when I managed to follow one! Now I'm head Councilor of the Betting Tables! u/LilyWineAuntofDemons\n",
    "[Splash of water, followed by angry sputtering] Curse you for breathin' ya slack-jawed idiot! u/Moon_Dew\n",
    "[Most likely in a drunken slur] Did everyone see that? Because I will not be doing it again. u/Nomad9931\n",
    "And remember what they always say, dead men tell no tales. \"... Yes they do.\" \"No, they don't.\" \"No no they do, I saw it last week, some holy man from the church up the road was talking to some dead guy then all the guards rushed off.\" \"[sounding a bit annoyed] Fine, dead men tell no tales unless aided but some holy man from the church up the road, better?\" \"[excitedly] Yes.\" u/Nomad9931\n",
    "[A druid complaining about their meal] Man, I really don't want to eat boar, but they said they didn't have anything else. I've spent time as a boar this just seems really wrong. u/Nomad9931\n",
    "I used to be an adventurer, then I took an arrow in the knee. u/TanhaAel\n",
    "The cake is lie! starts slashing it with his knife. u/TanhaAel\n",
    "It won’t explode he said! u/Anie17\n",
    "Once you get past the smell, and the fact that you'll usually end up with claw and bite marks, sex with a gnoll is great. \"... there is something fundamentally wrong with you, psychological speaking.\" u/Moon_Dew\n",
    "That's what she- \"MAXWELL, I SWEAR TO THE GODS!!! FINISH THAT SENTENCE AND I'M SHOVING YOU HEADFIRST INTO THE DIRTIEST CHAMBERPOT I CAN FIND!!!\" u/Moon_Dew\n",
    "I use to be an adventurer like you- \"Unless you want an arrow to the eye, don't finish that joke!\" u/Moon_Dew\n",
    "Elora, on a scale of 1-10, how drunk are you? \"Avocado. [drunken giggles]\" u/Moon_Dew\n",
    "Holy shit that is where i'd heard the name before, thank you for clearing something up that's been confusing me for months u/MurkyGlover\n",
    "So I asked him, “Is that an African or European swallow?” And he just went, “I don’t know that.” Then he flew thirty feet up in the air and fell into the gorge with a scream, like this, “Aaaaargh.” u/MyEvilTwin47\n",
    "The principal at the art school said I was the worst painter he’d ever seen and didn’t stand a chance to get in. So now I’m following my only other option, and am well on my way to become a mad genocidal despot and conquer the world. u/MyEvilTwin47\n",
    "Shortly before a tavern brawl breaks out I bet you a hundred gold pieces that you don’t dare steal that goblin’s ale. u/MyEvilTwin47\n",
    "So I said to Mabel, I don't care how big it is, you can't leave it there! u/DogmaSychroniser\n",
    "If it were not for my horse, I wouldn't have spent that year in bardic college! u/ravi95035\n",
    "A blonde elf walks into a tavern with a poodle under one arm and a two foot salami under the other. The barkeep says I suppose you won’t be needing a drink... Then a brawl erupts, roll for initiative! u/ravi95035\n",
    "...and that is when I realized it was two halflings under a cloak! u/ravi95035\n",
    "I do not know why I trusted that Dark Elf... now I need to find someone to take my place in the party that is exploring the haunted castle! u/ravi95035\n",
    "And that is why my sister married a Tortle u/ravi95035\n",
    "I always make poor decisions when drinking fermented cactus u/ravi95035\n",
    "Gonna be honest, I don't understand the hype behind 'em. Too many teeth that could mangle the goods. u/Alex_Nidas\n",
    "I mean I'm not saying I would, but 5 gold is 5 gold... u/Alex_Nidas\n",
    "To make a long story short, it's very hard to unfasten boots 20 feet under water. u/Alex_Nidas\n",
    "I get why they're in the forward hold, because no one else has the access code, but why the cryo-case ? \"I think they hatch if the temperature is above minus thirty degrees.\" \"Wait! Hatch!?” u/Heygul\n",
    "It's nice enough, and he's trained it really well if I do say so myself, it's just...I-I can't trust anything in my house anymore. I second guess picking up everything because it might be that gods damned mimic!! u/LilyWineAuntofDemons\n",
    "Bullshit. \"No, it's true! He was 3 gnomes in a cloak!\" \"No way, you're lying.\" \"I'm not! They had a hat that cast illusion magic so they looked like one guy!\" \"Wow, that...sucks. I know you really liked him-them?\" \"Yeah...You know if I'm honest...I still-\" \"You have got to be kidding me.\" \"But they're so nice! And they were really go-\" \"You. Did. Not.\" u/LilyWineAuntofDemons\n",
    "You know, ever since that magic mishap turned me into a [insert gender here], I've felt much happier. \"That's great! I was really worried about you...you were really down for a while. So uh...you wanna ditch this place and go hang out at my place?\" u/LilyWineAuntofDemons\n",
    "And then, I kid you not, he turns himself into a pickle! And you know what he says? He says: I'm pickle Richard, baby!\" funniest shit i've ever seen!\" u/Spexceptional\n",
    "Terrible plague in [insert placename]. Just terrible! Dying like flies they were. Lucky I got out in time. coughs u/IshtarJack\n",
    "and then I got him to ink this one on my back. What do you think? It's the very image of her, everyone says. embarrassed silence u/IshtarJack\n",
    "“And that’s why I’ve sworn off dating Illithids. Not worth it. No matter what you’re thinking, Gary. And I know what you’re thinking. It’s just too much drama. It’s like having 30 boyfriends at once, every hive member gets to weigh in on your relationship.” u/Lil_Crusty\n",
    "“I slit their throat right there! I even watched them bleed out onto the floor, but before I could collect the desecrated blood, the fucking cleric shows up and resurrects the guy!”\n",
    "“... the fucking cleric shows up and resurrects the guy!” “Bloody healers' always stealing my kills!” u/Moon_Dew\n",
    "20 gold? Rubbish, It'll take most of that to cover the damages u/yoggenfogger\n",
    "Turns out, the fella couldn't read! He was just using the books for a midnight snack u/yoggenfogger\n",
    "Yeah, a little homunculus. Just picked up my drink and walked away u/yoggenfogger\n",
    "46, 47, 48! Wow, you really do have that many teeth! u/yoggenfogger\n",
    "and THIS quill I use for lawyer documents, and THIS quill I use for writing my book, which is coming along greatly of course, and THIS quill... u/yoggenfogger\n",
    "and the kindling all went FWOOOM and then I was like WHOOAAA and then my dad was like AHHHHHHHH\n",
    "I'm telling you the horse was the size of an elephant! u/PoliticalOtters\n",
    "“And that’s how I lost my medical license” u/ThatsNotAFact\n",
    "and all because of three initiate priestesses, an apple and a piece of string. u/IshtarJack\n",
    "those scaly bastards pay well, especially for halfling veal u/Punsofdeath\n",
    "“They say duergar have a low libido but I sure proved ‘em wrong.” u/grimoireofstrangers\n",
    "“-the final sacrifice is tonight. Don’t forget your mask.” u/grimoireofstrangers\n",
    "“-and that’s the last time I’ll go to a spring festival with a gnome. You wouldn’t believe the amount of alcohol those fellas can consume.” u/grimoireofstrangers\n",
    "“One thousand for all the hatchlings. Take it or leave it.”\n",
    "If it wasn't for that horse, I never would have taken that year of study at the Mage's College. u/kayura77\"\"\"\n",
    "\n",
    "fStringtoJSdict(myString)"
   ]
  },
  {
   "source": [
    "## Change TXT tables to JSONs"
   ],
   "cell_type": "markdown",
   "metadata": {}
  },
  {
   "cell_type": "code",
   "execution_count": null,
   "metadata": {},
   "outputs": [],
   "source": [
    "import os\n",
    "# Define the path to scan for files\n",
    "mypath = r'C:\\Users\\mfitz\\Documents\\GitHub Clones\\Foundry_VTT_Macros\\Tables\\JSONs'\n",
    "# Function to rename multiple files\n",
    "def main():\n",
    "    for filename in os.listdir(mypath):\n",
    "        pre, ext = os.path.splitext(filename)\n",
    "        my_dest = pre + \".json\"\n",
    "        my_source = \"{}\\{}\".format(mypath, filename) \n",
    "        my_dest = \"{}\\{}\".format(mypath, my_dest) \n",
    "        os.rename(my_source, my_dest)\n",
    "# Driver Code\n",
    "if __name__ == '__main__':\n",
    "   # Calling main() function\n",
    "   main()"
   ]
  },
  {
   "source": [
    "## Convert JSONs to CSVs"
   ],
   "cell_type": "markdown",
   "metadata": {}
  },
  {
   "cell_type": "code",
   "execution_count": null,
   "metadata": {},
   "outputs": [],
   "source": [
    "# Define the path to scan for files\n",
    "mypath = r'C:\\Users\\mfitz\\Documents\\GitHub Clones\\Foundry_VTT_Macros\\Tables\\JSONs'\n",
    "# Python program to convert\n",
    "# JSON file to CSV \n",
    "import json \n",
    "import csv\n",
    "import pandas as pd\n",
    "for file in os.listdir(mypath):\n",
    "    # Extract the name and file type from the file\n",
    "    vName, vExt = os.path.splitext('{}\\{}'.format(mypath, file))\n",
    "    # Opening JSON file and loading the data\n",
    "    # into the variable data \n",
    "    try:\n",
    "        with open('{}\\{}'.format(mypath, file)) as json_file: \n",
    "            data = json.load(json_file) \n",
    "    except Exception:\n",
    "        pass\n",
    "    employee_data = data['results'] \n",
    "    \n",
    "    # now we will open a file for writing \n",
    "    data_file = open('{}.csv'.format(vName), 'w') \n",
    "    \n",
    "    # create the csv writer object \n",
    "    csv_writer = csv.writer(data_file) \n",
    "\n",
    "    # Counter variable used for writing  \n",
    "    # headers to the CSV file \n",
    "    count = 0\n",
    "    \n",
    "    for emp in employee_data: \n",
    "        if count == 0: \n",
    "    \n",
    "            # Writing headers of CSV file \n",
    "            header = emp.keys() \n",
    "            csv_writer.writerow(header) \n",
    "            count += 1\n",
    "    \n",
    "        # Writing data of CSV file \n",
    "        csv_writer.writerow(emp.values()) \n",
    "    \n",
    "    data_file.close()\n",
    "    # Read the CSV into a DataFrame\n",
    "    try:\n",
    "        df = pd.read_csv(r'{}.csv'.format(vName))\n",
    "        # Write the Dataframe to a new CSV, thus dropping blank rows\n",
    "        df.to_csv('{}.csv'.format(vName), index_label = False)\n",
    "    except Exception:\n",
    "        pass"
   ]
  },
  {
   "source": [
    "## Convert the CSVs into JavaScript object arrays"
   ],
   "cell_type": "markdown",
   "metadata": {}
  },
  {
   "cell_type": "code",
   "execution_count": null,
   "metadata": {},
   "outputs": [],
   "source": [
    "import pandas as pd\n",
    "oPath = r'C:\\Users\\Me\\Documents\\GitHub Clones\\Foundry_VTT_Macros\\Tables\\JSONs\\CSVs'\n",
    "df = pd.read_csv(r'{}\\(Blue Hole) Contents.csv'.format(oPath), header = 0)"
   ]
  },
  {
   "cell_type": "code",
   "execution_count": null,
   "metadata": {},
   "outputs": [],
   "source": [
    "lTable = []\n",
    "vCount = 0\n",
    "oFinalString = ''\n",
    "for index, row in df.iterrows():\n",
    "    cID = vCount\n",
    "    cText = str(df[\"text\"][index]).replace('\"', '')\n",
    "    oString = \"\\t{\" + \"id: \" + '\"' + \"{}\".format(cID) + '\"' + \", \" + \"text: \" + '\"' + \"{}\".format(cText) + '\"' + \"},\\n\"\n",
    "    #lTable.append(oString)\n",
    "    oFinalString += oString\n",
    "    vCount += 1\n",
    "print(\"[\\n\" + oFinalString + \"]\")"
   ]
  },
  {
   "source": [
    "## Fixing the Encounter Tables"
   ],
   "cell_type": "markdown",
   "metadata": {}
  },
  {
   "cell_type": "code",
   "execution_count": null,
   "metadata": {},
   "outputs": [],
   "source": [
    "sheet_names = ['Arctic', 'Coastal', 'Desert', 'Farmland', 'Forest', 'Grassland', 'Hill', 'Jungle', 'Mountain', 'Open Water', 'Swamp', 'Underdark', 'Underwater', 'Urban', 'Wasteland', 'Woodland']"
   ]
  },
  {
   "cell_type": "code",
   "execution_count": null,
   "metadata": {},
   "outputs": [],
   "source": [
    "# Import each sheet as its own DF\n",
    "import pandas as pd\n",
    "df = {}\n",
    "for i in sheet_names:\n",
    "    df[i] = pd.read_excel(\"Random Encounter Tables (For Python Manipulation).xlsx\", header = 0, sheet_name=i)\n",
    "    df[i] = df[i].drop(columns = ['d100_bad', 'Level_bad'])"
   ]
  },
  {
   "cell_type": "code",
   "execution_count": null,
   "metadata": {},
   "outputs": [],
   "source": [
    "# Excel writer\n",
    "writer = pd.ExcelWriter('Random Encounter Tables.xlsx', engine = 'xlsxwriter')\n",
    "# Loop through each sheet's DF to fix it\n",
    "for i in sheet_names:\n",
    "    lIndex = []\n",
    "    for idx, row in df[i].iterrows():\n",
    "        d100 = str(df[i]['d100'][idx])\n",
    "        encounter = df[i]['Encounter'][idx]\n",
    "        df[i]['Level'][idx] = df[i]['Level'][idx].replace(\"'\", \"-\")\n",
    "        level = df[i]['Level'][idx]\n",
    "        if \"'\" in d100:\n",
    "            first_num = int(d100[0:2])\n",
    "            last_num = int(d100[3:5])\n",
    "            for x in range(first_num, last_num + 1):\n",
    "                df[i] = df[i].append({\"Encounter\":encounter, \"d100\":x, \"Level\":level}, ignore_index = True)\n",
    "            lIndex.append(idx)\n",
    "    df[i] = df[i].drop(lIndex)\n",
    "    df[i] = df[i].sort_values(by = ['Level', 'd100']).reset_index(drop = True)\n",
    "    df[i].to_excel(writer, sheet_name = f\"{i}\", index = False)\n",
    "writer.save()"
   ]
  },
  {
   "source": [
    "## String to List"
   ],
   "cell_type": "markdown",
   "metadata": {}
  },
  {
   "cell_type": "code",
   "execution_count": 21,
   "metadata": {},
   "outputs": [
    {
     "output_type": "execute_result",
     "data": {
      "text/plain": [
       "                                                     0\n",
       "0    So I said to him, 'You can't do that with a pi...\n",
       "1    He said to me, 'I am the great pirate captain ...\n",
       "2    So then I said, 'That's no dairy cow! That's m...\n",
       "3    Think non sexy thoughts! Think non sexy though...\n",
       "4    Don't ask where I'm getting the eggs. Just do ...\n",
       "..                                                 ...\n",
       "111  “They say duergar have a low libido but I sure...\n",
       "112  “-the final sacrifice is tonight. Don’t forget...\n",
       "113  “-and that’s the last time I’ll go to a spring...\n",
       "114  “One thousand for all the hatchlings. Take it ...\n",
       "115  If it wasn't for that horse, I never would hav...\n",
       "\n",
       "[116 rows x 1 columns]"
      ],
      "text/html": "<div>\n<style scoped>\n    .dataframe tbody tr th:only-of-type {\n        vertical-align: middle;\n    }\n\n    .dataframe tbody tr th {\n        vertical-align: top;\n    }\n\n    .dataframe thead th {\n        text-align: right;\n    }\n</style>\n<table border=\"1\" class=\"dataframe\">\n  <thead>\n    <tr style=\"text-align: right;\">\n      <th></th>\n      <th>0</th>\n    </tr>\n  </thead>\n  <tbody>\n    <tr>\n      <th>0</th>\n      <td>So I said to him, 'You can't do that with a pi...</td>\n    </tr>\n    <tr>\n      <th>1</th>\n      <td>He said to me, 'I am the great pirate captain ...</td>\n    </tr>\n    <tr>\n      <th>2</th>\n      <td>So then I said, 'That's no dairy cow! That's m...</td>\n    </tr>\n    <tr>\n      <th>3</th>\n      <td>Think non sexy thoughts! Think non sexy though...</td>\n    </tr>\n    <tr>\n      <th>4</th>\n      <td>Don't ask where I'm getting the eggs. Just do ...</td>\n    </tr>\n    <tr>\n      <th>...</th>\n      <td>...</td>\n    </tr>\n    <tr>\n      <th>111</th>\n      <td>“They say duergar have a low libido but I sure...</td>\n    </tr>\n    <tr>\n      <th>112</th>\n      <td>“-the final sacrifice is tonight. Don’t forget...</td>\n    </tr>\n    <tr>\n      <th>113</th>\n      <td>“-and that’s the last time I’ll go to a spring...</td>\n    </tr>\n    <tr>\n      <th>114</th>\n      <td>“One thousand for all the hatchlings. Take it ...</td>\n    </tr>\n    <tr>\n      <th>115</th>\n      <td>If it wasn't for that horse, I never would hav...</td>\n    </tr>\n  </tbody>\n</table>\n<p>116 rows × 1 columns</p>\n</div>"
     },
     "metadata": {},
     "execution_count": 21
    }
   ],
   "source": [
    "import pandas as pd\n",
    "df = pd.read_excel(\"Random Encounter Tables.xlsx\", header = None, sheet_name = 'Sheet1')\n",
    "df"
   ]
  },
  {
   "cell_type": "code",
   "execution_count": 9,
   "metadata": {},
   "outputs": [],
   "source": [
    "lIndex = []\n",
    "for idx, row in df.iterrows():\n",
    "    d100 = str(df['d100'][idx])\n",
    "    encounter = df['Encounter'][idx]\n",
    "    df['Level'][idx] = df['Level'][idx].replace(\"'\", \"-\")\n",
    "    level = df['Level'][idx]\n",
    "    if \"'\" in d100:\n",
    "        first_num = int(d100[0:2])\n",
    "        last_num = int(d100[3:5])\n",
    "        for x in range(first_num, last_num + 1):\n",
    "            df = df.append({\"Encounter\":encounter, \"d100\":x, \"Level\":level}, ignore_index = True)\n",
    "        lIndex.append(idx)\n",
    "df = df.drop(lIndex)\n",
    "df = df.sort_values(by = ['Level', 'd100']).reset_index(drop = True)"
   ]
  },
  {
   "cell_type": "code",
   "execution_count": 11,
   "metadata": {},
   "outputs": [],
   "source": [
    "df.to_excel('chicken_monkey.xlsx')"
   ]
  },
  {
   "cell_type": "code",
   "execution_count": 23,
   "metadata": {
    "tags": []
   },
   "outputs": [
    {
     "output_type": "stream",
     "name": "stdout",
     "text": [
      "[\"So I said to him, 'You can't do that with a pickle'. * Pause for a drink * Sad to say, he proved me wrong.\", 'He said to me, \\'I am the great pirate captain Jaques\\', so I said to him, \\'I AM THE GREAT SOLDIER JUAN\\',and then I shot him. \"How delightful! Did he live\"? \"He survived the shot, but then they hung him for piracy\".', \"So then I said, 'That's no dairy cow! That's my wife'! Still, 50 gold is 50 gold. And the milk is quite good. Is that blood in your moustache? Blondie! Come look at all the blood in this guy's moustache! My gods, sir, that's a lot of blood!\", 'Think non sexy thoughts! Think non sexy thoughts! Think non sexy thoughts...', \"Don't ask where I'm getting the eggs. Just do yourself a favor: never piss off a witch.\", 'describing a party member \"And remember, 100 gold. With an additional 500 if it results in pregnancy\".', \"And that's why the library now has a two drink minimum.\", 'If you ask me, she over reacted a little. But the guy in the alley replaced it with a tentacle, so now I can pick up my beer with it. * Proceeds to fasten their belt *', 'Only a hippopotamus will do.', \"Honestly, I never became an alchemist to be rich or famous. I just wanted to be able to make a hair-growth formula so I don't need to wear a wig anymore. u/Moon_Dew\", '“They don’t like being walled up, and who’s to blame them? Wild things belong in the wild, not in a castle.” u/BernardoCamPt', '“Now you stop that there.” “Ooo-ooo-oooooo. Ooo-ooo-ooooooooooooooooo.” u/BernardoCamPt', '“Swearing don’t make it true, Hod. You keep swearing you’ll pay what you owe me, and I’ve yet to see a copper.” u/BernardoCamPt', '“I heard how this hellbitch walked into a village one day . . . a market day, people everywhere, and she walks in bold as you please and tears a baby from his mother’s arms. When the tale reached the Lord, him and his sons swore they’d put an end to her. They tracked her to her lair with a pack of wolfhounds, and barely escaped with their skins. Not one of those dogs came back, not one.” u/BernardoCamPt', '“The same things I’d have of all of them, lad. Men, horses, swords, armor, grain, cheese, wine, wool, nails . . . we are not proud, we take what is offered.” u/BernardoCamPt', '1- “So I had that nightmare again” 2- “The one where your mum’s a horse?” 1- “Oi watch your tongue when you talk about me mum. ...but yeah, that one” u/Slick_Dennis', '“So I finally learned what ‘pious’ means. Not sure becoming a cleric is gonna work out after all” u/Slick_Dennis', '“I got no way of provin it but I swear that guy was wearing MY boots. The ones that burnt up last year” u/u/Slick_Dennis', '“...fuckin druids though amirite?” u/Slick_Dennis', '“Saw a guy drink a dozen of those like nothing. ‘Fore ya know it he drops to the ground out cold. 20 seconds later he’s dead” u/Slick_Dennis', '“Remember Soren from town? Shit you not got turned into a tree” u/Slick_Dennis', '“...so he gives me this rock, says it’s magic. Afraid to touch the thing honestly” u/Slick_Dennis', '“Aagh come on she’ll never marry ya if ya can’t even talk to her. Come on go get her, ask her about the local gossip or something” u/Slick_Dennis', '“5 copper says I can balance my sword on my nose” — “10 let’s see it” u/Slick_Dennis', '“is there a god of having a busted face cause it looks like that one over there’s been prayin” u/Slick_Dennis', '“supposedly it’s magic, lights up all blue when someone’s listening in on your conversation” “but it’s blue now” “yeah... it’s almost always blue” u/Slick_Dennis', \"You know he's crazy, right? But they keep asking about where he went like they expect him to act normally… u/majorgs15\", 'Did you hear the one about the dog? \"Yes.\" \"Dang it.\" u/serious_tabaxi', '.....\"- covered in piss\" u/trouser_mouse', \"I love you like a son. It's a good thing for you that you're not my son, however, because after that stunt you pulled I was this close to DROPKICKING YOUR SORRY ASS FROM HERE TO BALDUR'S GATE!!! u/Moon_Dew\", \"Oh gods, you forgot to move the zero, the whole spell is going to go critical if you don't fix this right now! u/g3rmb0y\", \"We strike tonight! They'll never see it coming. u/MaxSizeIs\", \"But what about the family? They'll never accept it. u/MaxSizeIs\", \"It's the fault of these damn Adventurers, always mucking everything up and causing problems! u/MaxSizeIs\", \"Well, that complicates things. Even so, you promised. Magic tomatoes in 3 weeks or your daughter get's it. u/FullAuto4thewin\", \"and then the wizard cursed me with a lady's triangle for a beard. u/Slainlion\", 'who would have thought that Kolvin would have slain that bugbear with a broken scabbard. u/Slainlion', 'Remember that time when Bennek used his boots of levitation to see lady Pemberton in her room only to find his dad was there first? Good times u/Slainlion', \"I bet that dragon is still trying to pass ol' Ironbeard. What a fat dwarf he was. u/Slainlion\", 'so then I buried that artifact under the dragon spine tree in... I think someone is listening... Nevermind u/Slainlion', \"So's I pull in the line, an' whaddya know? That fish burst inna flames, too! u/hamlet_d\", 'The building is deserted by 2nd watch. We will need to be careful of the drunken priest, though. u/hamlet_d', \"There's cultists about, I seen them with me own eyes, skulking up into the swamp. u/hamlet_d\", 'The river is flooded and the barley crops are lost. This year will be tough. u/hamlet_d', \"...an then I says * hic * you won't find a stouter woman than my Margie… u/hamlet_d\", \"The whole herd was slaughtered, told Grimsby to stay 'way from them caves. u/hamlet_d\", \"That's why you never use gnomish fishing rods. Nine-times-out-of-ten they do something weird. u/Moon_Dew\", 'Rumors from the north say that princess is kidnapping dragons again.... u/cumberdong', \"Those poor beasties. Still, I can think of worse ways to die than 'sex'ed to death by a nymphomaniacal princess'. u/Moon_Dew\", 'Two NPCs drinking silently together until… \"Goblins..?\" Slow nod. \"Goblins\" Both drink. u/Pobbes', \"...and I said, 'You think you're scared, I have to walk back alone!' u/whynaut4\", '“Y’seen Taergrod around lately? Irvin said he hasn’t seen him at the mill in over a week.” “Yeah... well... ah, Nevermind.” “What? Seen ‘im or not?” “Well...Thought I saw him two-no... three nights ago. Got piss drunk here and began walkin’ home in the pitch black hours of the night. I heard a noise and thought it was a rat but... it was too big to be a rat... it was chewing on a... a corpse. This thing... it had Taergrod’s face.” “Hmph... musta been some strong drink.” u/Kyberdude', 'Oh my gods, did you hear that Rogash the Brave was eaten by a dire chicken? u/OwenMcCauley', 'D\\'ya hear that Ollod\\'s girl has another wee one on the way? No wonder he is always hustlin. Half the damn block o\\'er there will be Graves. Tankard slams down empty (Seperate voice) \"A damn shame. You know he sold me a tooth the other day? Solid silver. Said he picked it from two blokes scrapping down courtside.\" u/primeathos', \"...no, I said no. If he's/she's alone I will do it, but not if they are more than 3. It's my lucky number, at 4, it's a no-go...find someone else... u/RogueGW\", 'And did she? Oh let me tell you she did! She shined my sword. (Laughter and whistles). And then she shined my platemail and shield too! u/Slainlion', \"Raise your tankards and let's salute poor old Dunk. Only bloke I know to be kicked in the head by a hippogriff. u/Slainlion\", '...in the old oak, thats where i hid it! u/Lethan64', '...Really, you expect me t\\'believe you escaped from a dragon? C\\'mon, you haven\\'t lived till you\\'ve run away from a beholder with your head on fire! \"I really shouldn\\'t drink with you any more, Joe, you\\'re always shitting on my adventures!\" u/always_gamer_hair', 'I like this! Smashes mug on floor. \"Another!\" u/always_gamer_hair', 'So whether you\\'re with the Alliance or the Horde, probably should...(drifts off into incoherent mumbling) LEEEROYYYY JENNNNNNKINNNNS! \"Goddammit Leeroy...\" u/always_gamer_hair', 'Hard to believe it, but she\\'s set up well for herself in the capitol, and she intends to be the highest paid whore in the land! \"Um, I\\'m not one to talk, Ben, but maybe don\\'t call your daughter a whore...\" \"What about an escort?\" u/Moon_Dew', 'Old wizard on magic Telestone, \"Oh how awful, did he at least die painlessly?...To shreds you say...And how\\'s his wife holding up?...To shreds you say?\" u/LilyWineAuntofDemons', 'Drunkenly, \"Wha-Wha\\'dif wur all jus\\'...little bits, made o\\' even smaller bits? An\\'-An\\' those bits, soooooo tiny you cud-cudn\\' even see \\'em, not even with a man-man-mangifying grass...BUT those lil, itty, bitty, teensy, tiny bi\\'s...if ya broke one....then...urp, then ever\\'thing \\'sploded fer-fer like...fif\\'y miles!\" \"Albert, you\\'re so fucking drunk, go home.\" u/LilyWineAuntofDemons', 'Distressed looking Goliath, \"Wait! Don\\'t go! What was I supposed to tell you? \\'Oh hi, I\\'m a goliath right now, but actually for most of my life I used to be a tree until one day I woke up and I wasn\\'t! If I\\'d told you that you\\'d have thought I was crazy!\" \"I still think you\\'re crazy!\" u/LilyWineAuntofDemons', \"At first I thought it was foxes takin' meh chickens, maybe a feral blink dog, since a few of 'em dis'peared in front of me eye when I blinked! But no, turns out it was sprites! Fer chicken jousting! I found out when I managed to follow one! Now I'm head Councilor of the Betting Tables! u/LilyWineAuntofDemons\", \"[Splash of water, followed by angry sputtering] Curse you for breathin' ya slack-jawed idiot! u/Moon_Dew\", '[Most likely in a drunken slur] Did everyone see that? Because I will not be doing it again. u/Nomad9931', 'And remember what they always say, dead men tell no tales. \"... Yes they do.\" \"No, they don\\'t.\" \"No no they do, I saw it last week, some holy man from the church up the road was talking to some dead guy then all the guards rushed off.\" \"[sounding a bit annoyed] Fine, dead men tell no tales unless aided but some holy man from the church up the road, better?\" \"[excitedly] Yes.\" u/Nomad9931', \"[A druid complaining about their meal] Man, I really don't want to eat boar, but they said they didn't have anything else. I've spent time as a boar this just seems really wrong. u/Nomad9931\", 'I used to be an adventurer, then I took an arrow in the knee. u/TanhaAel', 'The cake is lie! starts slashing it with his knife. u/TanhaAel', 'It won’t explode he said! u/Anie17', 'Once you get past the smell, and the fact that you\\'ll usually end up with claw and bite marks, sex with a gnoll is great. \"... there is something fundamentally wrong with you, psychological speaking.\" u/Moon_Dew', 'That\\'s what she- \"MAXWELL, I SWEAR TO THE GODS!!! FINISH THAT SENTENCE AND I\\'M SHOVING YOU HEADFIRST INTO THE DIRTIEST CHAMBERPOT I CAN FIND!!!\" u/Moon_Dew', 'I use to be an adventurer like you- \"Unless you want an arrow to the eye, don\\'t finish that joke!\" u/Moon_Dew', 'Elora, on a scale of 1-10, how drunk are you? \"Avocado. [drunken giggles]\" u/Moon_Dew', \"Holy shit that is where i'd heard the name before, thank you for clearing something up that's been confusing me for months u/MurkyGlover\", 'So I asked him, “Is that an African or European swallow?” And he just went, “I don’t know that.” Then he flew thirty feet up in the air and fell into the gorge with a scream, like this, “Aaaaargh.” u/MyEvilTwin47', 'The principal at the art school said I was the worst painter he’d ever seen and didn’t stand a chance to get in. So now I’m following my only other option, and am well on my way to become a mad genocidal despot and conquer the world. u/MyEvilTwin47', 'Shortly before a tavern brawl breaks out I bet you a hundred gold pieces that you don’t dare steal that goblin’s ale. u/MyEvilTwin47', \"So I said to Mabel, I don't care how big it is, you can't leave it there! u/DogmaSychroniser\", \"If it were not for my horse, I wouldn't have spent that year in bardic college! u/ravi95035\", 'A blonde elf walks into a tavern with a poodle under one arm and a two foot salami under the other. The barkeep says I suppose you won’t be needing a drink... Then a brawl erupts, roll for initiative! u/ravi95035', '...and that is when I realized it was two halflings under a cloak! u/ravi95035', 'I do not know why I trusted that Dark Elf... now I need to find someone to take my place in the party that is exploring the haunted castle! u/ravi95035', 'And that is why my sister married a Tortle u/ravi95035', 'I always make poor decisions when drinking fermented cactus u/ravi95035', \"Gonna be honest, I don't understand the hype behind 'em. Too many teeth that could mangle the goods. u/Alex_Nidas\", \"I mean I'm not saying I would, but 5 gold is 5 gold... u/Alex_Nidas\", \"To make a long story short, it's very hard to unfasten boots 20 feet under water. u/Alex_Nidas\", 'I get why they\\'re in the forward hold, because no one else has the access code, but why the cryo-case ? \"I think they hatch if the temperature is above minus thirty degrees.\" \"Wait! Hatch!?” u/Heygul', \"It's nice enough, and he's trained it really well if I do say so myself, it's just...I-I can't trust anything in my house anymore. I second guess picking up everything because it might be that gods damned mimic!! u/LilyWineAuntofDemons\", 'Bullshit. \"No, it\\'s true! He was 3 gnomes in a cloak!\" \"No way, you\\'re lying.\" \"I\\'m not! They had a hat that cast illusion magic so they looked like one guy!\" \"Wow, that...sucks. I know you really liked him-them?\" \"Yeah...You know if I\\'m honest...I still-\" \"You have got to be kidding me.\" \"But they\\'re so nice! And they were really go-\" \"You. Did. Not.\" u/LilyWineAuntofDemons', 'You know, ever since that magic mishap turned me into a [insert gender here], I\\'ve felt much happier. \"That\\'s great! I was really worried about you...you were really down for a while. So uh...you wanna ditch this place and go hang out at my place?\" u/LilyWineAuntofDemons', 'And then, I kid you not, he turns himself into a pickle! And you know what he says? He says: I\\'m pickle Richard, baby!\" funniest shit i\\'ve ever seen!\" u/Spexceptional', 'Terrible plague in [insert placename]. Just terrible! Dying like flies they were. Lucky I got out in time. coughs u/IshtarJack', \"and then I got him to ink this one on my back. What do you think? It's the very image of her, everyone says. embarrassed silence u/IshtarJack\", '“And that’s why I’ve sworn off dating Illithids. Not worth it. No matter what you’re thinking, Gary. And I know what you’re thinking. It’s just too much drama. It’s like having 30 boyfriends at once, every hive member gets to weigh in on your relationship.” u/Lil_Crusty', '“I slit their throat right there! I even watched them bleed out onto the floor, but before I could collect the desecrated blood, the fucking cleric shows up and resurrects the guy!”', \"“... the fucking cleric shows up and resurrects the guy!” “Bloody healers' always stealing my kills!” u/Moon_Dew\", \"20 gold? Rubbish, It'll take most of that to cover the damages u/yoggenfogger\", \"Turns out, the fella couldn't read! He was just using the books for a midnight snack u/yoggenfogger\", 'Yeah, a little homunculus. Just picked up my drink and walked away u/yoggenfogger', '46, 47, 48! Wow, you really do have that many teeth! u/yoggenfogger', 'and THIS quill I use for lawyer documents, and THIS quill I use for writing my book, which is coming along greatly of course, and THIS quill... u/yoggenfogger', 'and the kindling all went FWOOOM and then I was like WHOOAAA and then my dad was like AHHHHHHHH', \"I'm telling you the horse was the size of an elephant! u/PoliticalOtters\", '“And that’s how I lost my medical license” u/ThatsNotAFact', 'and all because of three initiate priestesses, an apple and a piece of string. u/IshtarJack', 'those scaly bastards pay well, especially for halfling veal u/Punsofdeath', '“They say duergar have a low libido but I sure proved ‘em wrong.” u/grimoireofstrangers', '“-the final sacrifice is tonight. Don’t forget your mask.” u/grimoireofstrangers', '“-and that’s the last time I’ll go to a spring festival with a gnome. You wouldn’t believe the amount of alcohol those fellas can consume.” u/grimoireofstrangers', '“One thousand for all the hatchlings. Take it or leave it.”', \"If it wasn't for that horse, I never would have taken that year of study at the Mage's College. u/kayura77\"]\n"
     ]
    }
   ],
   "source": [
    "myList = df[0].to_list()\n",
    "myList = [x for x in myList if str(x) != 'nan']\n",
    "print(myList)"
   ]
  },
  {
   "cell_type": "code",
   "execution_count": null,
   "metadata": {},
   "outputs": [],
   "source": []
  }
 ]
}