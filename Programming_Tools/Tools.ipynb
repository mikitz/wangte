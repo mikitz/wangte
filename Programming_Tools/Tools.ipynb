{
 "cells": [
  {
   "cell_type": "markdown",
   "metadata": {},
   "source": [
    "\r\n",
    "# FUNCTIONS"
   ]
  },
  {
   "cell_type": "code",
   "execution_count": null,
   "metadata": {},
   "outputs": [],
   "source": [
    "# List/String to JavaScript Dictionary\n",
    "def fStringtoJSdict(vObject):\n",
    "    if isinstance(vObject, str):\n",
    "        lList = vObject.split(\"\\n\")\n",
    "    else:\n",
    "        lList = vObject\n",
    "    for i, text in enumerate(lList):\n",
    "        if i > len(lList) - 2:\n",
    "            comma = \"\"\n",
    "        else:\n",
    "            comma = \",\"\n",
    "        if i == 0:\n",
    "            fBracket = \"{\\n\"\n",
    "        else:\n",
    "            fBracket = \"\"\n",
    "        if i == len(lList) - 1:\n",
    "            bBracket = \"\\n}\"\n",
    "        else:\n",
    "            bBracket = \"\"\n",
    "        print(f'{fBracket} {i+1}: \"{text}\"{comma} {bBracket}')\n",
    "# List or String to HTML dropdown options\n",
    "def fLorStoHTMLdropdown(vObject):\n",
    "    if isinstance(vObject, str):\n",
    "        lList = vObject.split(\"\\n\")\n",
    "    else:\n",
    "        lList = vObject\n",
    "    # Loop through the items in the list and append the HTML    \n",
    "    for i in lList:\n",
    "        oValue = i.lower()\n",
    "        oValue = oValue.replace(\" \", \"-\")\n",
    "        oFinal = f'<option value=\"{oValue}\">{i}</option>'\n",
    "        print(oFinal)\n",
    "# List or String to <a href>'s\n",
    "def fLorStoAHREF(vObject, preface):\n",
    "    if isinstance(vObject, str):\n",
    "        lList = vObject.split(\"\\n\")\n",
    "    else:\n",
    "        lList = vObject\n",
    "    # Loop through the items in the list and append the HTML    \n",
    "    for i in lList:\n",
    "        oValue = i.replace(\" \", \"_\")\n",
    "        oValue = oValue.replace(\"/\", \"-\")\n",
    "        oFinal = f'<a href=\"{preface}{oValue}.html\">{i}</a>\\n<br>'\n",
    "        print(oFinal)\n",
    "# List or String to <li>'s\n",
    "def fLorStoLI(vObject, preface):\n",
    "    if isinstance(vObject, str):\n",
    "        lList = vObject.split(\"\\n\")\n",
    "    else:\n",
    "        lList = vObject\n",
    "    # Loop through the items in the list and append the HTML    \n",
    "    for i in lList:\n",
    "        oValue = i.replace(\" \", \"_\")\n",
    "        oValue = oValue.replace(\"/\", \"-\")\n",
    "        oFinal = f'<li>{i}</li>'\n",
    "        print(oFinal)\n",
    "def fLorStoMarkdown(vObject):\n",
    "    if isinstance(vObject, str):\n",
    "        lList = vObject.split(\"\\n\")\n",
    "    else:\n",
    "        lList = vObject\n",
    "    # Loop through the items in the list and append the HTML    \n",
    "    for i in lList:\n",
    "        oValue = i.replace(\" \", \"_\")\n",
    "        oValue = oValue.replace(\"/\", \"-\")\n",
    "        oFinal = f'* [ ] {i}'\n",
    "        print(oFinal)"
   ]
  },
  {
   "cell_type": "code",
   "execution_count": null,
   "metadata": {},
   "outputs": [],
   "source": [
    "myList10 = [\"1\", \"2\", \"3\", \"4\", \"5\", \"6\", \"7\", '8', \"9\", \"10\"]\n",
    "myList20 = [\"11\",\"12\",\"13\",\"14\",\"15\",\"16\",\"17\",\"18\",\"19\",\"20\"]\n",
    "\n",
    "fLorStoLI(myList10, \"\")"
   ]
  },
  {
   "cell_type": "code",
   "execution_count": null,
   "metadata": {},
   "outputs": [],
   "source": []
  },
  {
   "cell_type": "markdown",
   "metadata": {},
   "source": [
    "## String w/ Spaces to String w/ Underscores"
   ]
  },
  {
   "cell_type": "code",
   "execution_count": null,
   "metadata": {},
   "outputs": [],
   "source": [
    "txt = '\"pass check (5 or above dc)\"'\n",
    "txt = txt.replace(\" \", \"_\")\n",
    "print(txt)"
   ]
  },
  {
   "cell_type": "markdown",
   "metadata": {},
   "source": [
    "## List/String to HTML Dropdown Options"
   ]
  },
  {
   "cell_type": "code",
   "execution_count": null,
   "metadata": {},
   "outputs": [],
   "source": [
    "myList = ['* [x] Dice Probabilities', '* [x] Sailing Duration and Cargo Tranport Revenue', '* Foot Travel Duration', '* [x] Horizon Calculator', '* How Special Are You?', '* Crafting Duration', '* Training Successes', '* Bounty Reward']"
   ]
  },
  {
   "cell_type": "code",
   "execution_count": 6,
   "metadata": {},
   "outputs": [
    {
     "output_type": "stream",
     "name": "stdout",
     "text": [
      "* [ ] Arctic\n* [ ] Coastal\n* [ ] Desert\n* [ ] Dungeon (Duplicate of Underdark)\n* [ ] Farmland (Duplicate of Grassland)\n* [ ] Forest\n* [ ] Grassland\n* [ ] Hill\n* [ ] Jungle (Duplicate of Forest)\n* [ ] Mountain\n* [ ] Open Sea\n* [ ] Swamp\n* [ ] Underdark\n* [ ] Underwater\n* [ ] Urban\n* [ ] Wasteland (Duplicate of Swamp)\n* [ ] Woodland (Duplicate of Forest)\n"
     ]
    }
   ],
   "source": [
    "# Combat Encounters\n",
    "\n",
    "sString = \"\"\"Arctic\n",
    "Coastal\n",
    "Desert\n",
    "Dungeon (Duplicate of Underdark)\n",
    "Farmland (Duplicate of Grassland)\n",
    "Forest\n",
    "Grassland\n",
    "Hill\n",
    "Jungle (Duplicate of Forest)\n",
    "Mountain\n",
    "Open Sea\n",
    "Swamp\n",
    "Underdark\n",
    "Underwater\n",
    "Urban\n",
    "Wasteland (Duplicate of Swamp)\n",
    "Woodland (Duplicate of Forest)\"\"\"\n",
    "\n",
    "fLorStoMarkdown(sString)"
   ]
  },
  {
   "cell_type": "code",
   "execution_count": 5,
   "metadata": {},
   "outputs": [
    {
     "output_type": "stream",
     "name": "stdout",
     "text": [
      "* [ ] Arctic\n* [ ] Carousing\n* [ ] Coastal\n* [ ] Desert\n* [ ] Dungeon (Extra)\n* [ ] Farmland (Duplicate of Grassland)\n* [ ] Festivals (Extra)\n* [ ] Forest\n* [ ] Grassland\n* [ ] Hill (Duplicate of Grassland)\n* [ ] Jungle\n* [ ] Mountain\n* [ ] Open Water\n* [ ] Red Light District (Extra)\n* [ ] Road (Extra)\n* [ ] Swamp\n* [ ] Tavern (Extra)\n* [ ] Tavern_Seedy (Extra)\n* [ ] Underdark\n* [ ] Underwater\n* [ ] Urban\n* [ ] Wasteland (Duplicate of Road) {WTF? Why did I do this...}\n* [ ] Woodland (Duplicate of Forest)\n"
     ]
    }
   ],
   "source": [
    "# Non-combat Encounters\n",
    "\n",
    "sString = \"\"\"Arctic\n",
    "Carousing\n",
    "Coastal\n",
    "Desert\n",
    "Dungeon (Extra)\n",
    "Farmland (Duplicate of Grassland)\n",
    "Festivals (Extra)\n",
    "Forest\n",
    "Grassland\n",
    "Hill (Duplicate of Grassland)\n",
    "Jungle\n",
    "Mountain\n",
    "Open Water\n",
    "Red Light District (Extra)\n",
    "Road (Extra)\n",
    "Swamp\n",
    "Tavern (Extra)\n",
    "Tavern_Seedy (Extra)\n",
    "Underdark\n",
    "Underwater\n",
    "Urban\n",
    "Wasteland (Duplicate of Road) {WTF? Why did I do this...}\n",
    "Woodland (Duplicate of Forest)\"\"\"\n",
    "\n",
    "fLorStoMarkdown(sString)"
   ]
  },
  {
   "cell_type": "code",
   "execution_count": null,
   "metadata": {},
   "outputs": [],
   "source": [
    "sString = \"\"\"Wood elf\r\n",
    "xvart\r\n",
    "yuan-ti\r\n",
    "yugoloth\"\"\"\r\n",
    "fLorStoHTMLdropdown(sString)"
   ]
  },
  {
   "cell_type": "code",
   "execution_count": null,
   "metadata": {},
   "outputs": [],
   "source": [
    "myList = ['0.5', '1', '1.5', '2', '2.5', '3', '3.5', '34', '4.5', '5', '5.5', '6', '6.5', '7', '7.5', '8', '8.5', '9', '9.5', '10', '10.5', '11', '11.5', '12', '12.5', '13', '13.5', '14', '14.5', '15', '15.5', '16', '16.5', '17', '17.5', '18']\n",
    "fLorStoHTMLdropdown(myList)"
   ]
  },
  {
   "cell_type": "code",
   "execution_count": null,
   "metadata": {},
   "outputs": [],
   "source": [
    "myList = ['Bounty Board', 'Calendar', 'Combat Tracker', 'Downtime Activities', 'Procedural Battle Maps', 'Ship Expenses', 'Spell Helper']\n",
    "fLorStoAHREF(myList, 'Tool_')"
   ]
  },
  {
   "cell_type": "code",
   "execution_count": null,
   "metadata": {},
   "outputs": [],
   "source": [
    "for i in myList:\n",
    "    print(f\"<s>{i}</s>\")"
   ]
  },
  {
   "cell_type": "markdown",
   "metadata": {},
   "source": [
    "## Create Files from List"
   ]
  },
  {
   "cell_type": "code",
   "execution_count": null,
   "metadata": {},
   "outputs": [],
   "source": [
    "def fCreateFiles(myList, extension):\n",
    "    myString = f\"\"\"<!DOCTYPE html> \n",
    "<html lang =\"en\">  \n",
    "<head>  \n",
    "    <meta charset=\"UTF-8\">\n",
    "    <meta name=\"viewport\" content=\"width=device-width, initial-scale=1.0\">\n",
    "    <meta http-equiv=\"X-UA-Compatible\" content=\"ie=edge\">\n",
    "    <title>GameMaster Website</title>  \n",
    "    <link rel=\"stylesheet\" href=\"style.css\"/>\n",
    "</head>  \n",
    "  \n",
    "<body>   \n",
    "    <nav>\n",
    "        <img src=\"https://i.pinimg.com/originals/48/cb/53/48cb5349f515f6e59edc2a4de294f439.png\" alt=\"Logo\">\n",
    "        <a href=\"Nav_Homepage.html\">Home</a>\n",
    "        <a href=\"Nav_Calculators.html\">Calculators</a>\n",
    "        <a href=\"Nav_Homebrew.html\">Homebrew</a>\n",
    "        <a href=\"Nav_Tools.html\">Tools</a>\n",
    "        <a href=\"\">Donate</a>\n",
    "    </nav>\n",
    "    <main>\n",
    "        <h1>{i}</h1>\n",
    "        \n",
    "    </main> \n",
    "</body>  \n",
    "</html>\"\"\"\n",
    "    for i in myList:\n",
    "        oValue = i.replace(\" \", \"_\")\n",
    "        oValue = oValue.replace(\"/\", \"-\")\n",
    "        f = open(f\"{oValue}.{extension}\", \"w+\")\n",
    "        f.write(writeString)\n",
    "        f.close()"
   ]
  },
  {
   "cell_type": "code",
   "execution_count": null,
   "metadata": {},
   "outputs": [],
   "source": [
    "myList = ['Adjusting Races', 'Animal Husbandry', 'Arrows', 'Beer Brewing', 'Casting Spells of a Higher Level', 'Crafting', 'Divine Ranks and Powers', 'Enlarge/Reduce Spell', 'Fall Damage', 'Flanking', 'Foraging/Harvesting', 'Gemstones', 'Identifying a Spell Being Cast', 'Improving Ability Scores', 'Intelligence', 'Item Prices', \"Kibble's Crafting\", 'Medidcine Check for Determining Health', 'Negotiating a Price', 'Ship Navigation', 'Ship Speeds', 'Sprint', 'Street Drugs', 'Tavern Games', 'The Economy', 'Training a Skill', 'Traveling']\n",
    "fCreateFiles(myList, 'html')"
   ]
  },
  {
   "cell_type": "code",
   "execution_count": null,
   "metadata": {},
   "outputs": [],
   "source": [
    "for i in myList:\n",
    "    i = i.replace(\"* \", \"\")\n",
    "    i = i.replace(\"[x] \", \"\")\n",
    "    print(f\"{i}\")"
   ]
  },
  {
   "cell_type": "markdown",
   "metadata": {},
   "source": [
    "## List/String to JavaScript Dictionary"
   ]
  },
  {
   "cell_type": "code",
   "execution_count": null,
   "metadata": {},
   "outputs": [],
   "source": [
    "myString = \"\"\"A puddle of grease appears where you are standing, with a 10-foot radius. You and anyone within 10 feet of you must make a Dexterity check at your spell save DC or fall prone.\r\n",
    "You levitate 6 inches off the ground for 1 minute.\r\n",
    "You gain tremorsense with a range of 30 feet for 1 minute.\r\n",
    "You make no sounds for 1 minute and you gain advantage on any Dexterity (Stealth) checks.\r\n",
    "You grow a beard made of feathers, which remains until you sneeze.\r\n",
    "You can't speak for 1 minute. When you try, pink bubbles float out of your mouth.\r\n",
    "You are immune to intoxication for the next 5d6 days.\r\n",
    "You recover your lowest-level expended spell slot.\r\n",
    "For the next minute, you must shout when you speak.\r\n",
    "Illusory butterflies and flower petals flutter in the air around you in a 10-foot radius for 1 minute.\r\n",
    "You cast mirror image on yourself, which lasts for 1 minute and does not require concentration.\r\n",
    "You are surrounded by faint, ethereal music for 1 minute.\r\n",
    "You regain all expended sorcery points.\r\n",
    "Your hair grows to double its current length over the next minute.\r\n",
    "Your hair falls out but grows back within 1 day.\r\n",
    "You gain the ability to speak one additional language of your choice for 1 hour.\r\n",
    "You are invisible for 1 minute.\r\n",
    "Your eyes permanently change color. If they are a blue or grey shade, they turn dark brown, or vice versa. A spell such as remove curse can end this effect.\r\n",
    "Small birds flutter and chirp in your vicinity for 1 minute, during which time you automatically fail any Stealth check.\r\n",
    "You feel the incredible urge to relieve yourself. Until you do, your Strength and Intelligence are reduced by 1. If you don't relieve yourself in the next 2 minutes, the above effects are removed, but your Charisma score is reduced by 4 for 1 hour or until you change your trousers.\r\n",
    "Gnats buzz around your head for 1 minute, distracting you. You must make a Constitution saving throw against your own spell save DC to cast any spell.\r\n",
    "You are surrounded by a faint, offensive odor for 1 minute. You gain disadvantage on all Charisma checks.\r\n",
    "For the next minute, all spells with a casting time of 1 action or 1 bonus action require 2 consecutive actions to cast.\r\n",
    "You have the irresistible urge to scratch an itch in the middle your back, just out of reach, for 1 minute. If you don't scratch it using a back scratcher or some similar device , you must succeed a Constitution saving throw against your spell save DC to cast a spell.\r\n",
    "You have a momentary vision of your own death. If you fail a Wisdom saving roll at your spell DC, you are frightened for 1 minute.\r\n",
    "Your Charisma is increased by 2 for 1 minute.\r\n",
    "Over the next minute, all plants within 20 feet of you grow as if affected by the plant growth spell when cast as an action.\r\n",
    "Your eyes glow red for 1 minute.\r\n",
    "Your Constitution is increased by 2 for 1 minute.\r\n",
    "You add your proficiency bonus to all Charisma checks for the next hour, if you don't already add it.\r\n",
    "Your spell components seem to have been rearranged. During the next hour, you must make an Intelligence check against your spell save DC to cast any spell that requires a material component.\r\n",
    "For the next minute, you have advantage on the next roll you make where you don't already have advantage.\r\n",
    "Every creature within 15 feet of you takes 1 necrotic damage. If you are wounded, you regain hit points up to the amount of damage dealt. If you are not wounded, you gain this amount of temporary hit points.\r\n",
    "A magic mouth appears on a nearby wall or flat surface. When you speak, your voice comes from the magic mouth. This lasts for 1 minute.\r\n",
    "You can hear exceptionally well for 1 minute, gaining advantage for all Perception checks related to sound.\r\n",
    "You lose the ability to smell for 1 hour.\r\n",
    "For the next day, each time you say a word with the \"s\" sound, it sounds like a hissing snake.\r\n",
    "A gentle gust of wind blows outward from you. All creatures within 40 feet of you can feel it, but it otherwise does nothing.\r\n",
    "Your Dexterity is increased by 2 for 1 minute.\r\n",
    "You immediately take 1d10 radiant damage.\r\n",
    "One randomly-chosen non-magical item in your possession that weighs 1 pound or less vanishes and is forever gone.\r\n",
    "Your Wisdom is increased by 2 for 1 minute.\r\n",
    "You immediately gain 10 temporary hit points.\r\n",
    "3d6 silver pieces appear near you.\r\n",
    "You regain 5 hit points per round for 1 minute.\r\n",
    "An imp appears near you. Make a Charisma saving throw against your spell save DC. If you succeed, the imp is subservient, otherwise, it is hostile. The imp, if not banished or defeated, vanishes after 1 hour.\r\n",
    "Your speed is increased by 10 feet for 1 minute.\r\n",
    "You gain proficiency on all Strength checks for the next hour, if you don’t already have it.\r\n",
    "Your Intelligence is increased by 2 for 1 minute.\r\n",
    "One randomly-chosen non-magical item in your possession that weighs 1 pound or less is duplicated.\r\n",
    "Mushrooms sprout around you in a 5-foot radius and vanish after 1 minute. If one is harvested and eaten within this time, the creature must make a Constitution saving throw against your spell save DC. On a failed save, it takes 5d6 poison damage. On successful one, it gains 5d6 temporary hit points.\r\n",
    "You can smell exceptionally well for 1 minute, gaining blindsight with a radius of 10 feet and advantage on all Perception checks related to odor.\r\n",
    "Your feet sink into the ground, making you completely immobile for one minute. This has no effect if you were not standing on the ground when the spell was cast.\r\n",
    "One random gem worth 100gp appears near you.\r\n",
    "For the next minute, you have double vision. This gives you disadvantage on ranged attacks (including spell attacks) and Perception checks involving sight.\r\n",
    "You are surrounded by a faint, pleasant odor. You gain advantage on all Charisma checks you make within the next minute.\r\n",
    "You lose proficiency on all skill checks for 1 minute.\r\n",
    "You gain freedom of movement for 1 minute.\r\n",
    "You gain darkvision with a radius of 60 feet for 1 minute. If you already have darkvision, you lose it for 1 minute.\r\n",
    "Approximately 100 gallons of water appear over your head and those within 10 feet of you, evenly distributed above everybody within the radius.\r\n",
    "You gain a +1 to your AC for one minute.\r\n",
    "You fall victim to a horrible cramp in both legs, reducing your speed by 10 feet for 1 hour.\r\n",
    "The next spell you cast within the next hour uses a spell slot of one level lower than what it normally requires. If the spell is a spell of 1st level, you still must expend a spell slot to cast it.\r\n",
    "For the next hour, you are unable to read as the letters all appeared jumbled.\r\n",
    "For the next day, everything you say must rhyme. If it doesn’t, you take 1d6 psychic damage.\r\n",
    "During the next hour, you may re-roll any one save, attack roll, or skill check. If you do, you must take the new roll’s result.\r\n",
    "You grow 1d6 inches in height. You gradually return to your original height over the course of 1 day.\r\n",
    "You immediately take 2d4 psychic damage.\r\n",
    "For the next hour, any time you make an ability check, roll 1d4 and subtract the result.\r\n",
    "You gain the ability to speak with animals for one hour.\r\n",
    "You get gain a -1 penalty to your AC for 1 minute.\r\n",
    "You gain the use of an unseen servant for 1 hour.\r\n",
    "The next spell you cast within the hour uses a slot level one level higher than what it normally requires.\r\n",
    "A bad joke comes to mind and until you tell it (which takes an entire action), you suffer a Wisdom penalty of 1.\r\n",
    "You hear a ringing in your ears for 1 minute. During this time, casting a spell that requires a verbal component requires a Constitution check against your spell save DC.\r\n",
    "You lose 1d6x5 pounds. You gradually return to your original weight over the course of 1 day.\r\n",
    "Your clothes become dirty and filthy. Until you can change and/or clean your clothes, your Charisma is reduced by 1.\r\n",
    "You gain proficiency in Wisdom checks for the next hour, if you don’t already have it.\r\n",
    "You shrink 1d6 inches in height. You gradually return to your original height over the course of 1 day.\r\n",
    "Your skin permanently darkens as if you have a tan, or if you are already dark-skinned, your skin becomes one shade lighter. A spell such as remove curse can end this effect.\r\n",
    "For 1 minute, one creature of your choice within 30 feet of you gains a -1 penalty to attack rolls, damage rolls, and their AC.\r\n",
    "For the next hour, any time you make an ability check, roll 1d4 and add the result.\r\n",
    "If you cast a spell with a saving throw within the next minute, the target gainsdisadvantage on its saving throw.\r\n",
    "Your Strength is increased by 2 for 1 minute.\r\n",
    "One creature of your choice gains a +1 bonus to attack rolls, damage rolls, and its AC for 1 minute.\r\n",
    "You immediately heal 2d10 hit points.\r\n",
    "You gain proficiency on all Intelligence checks for the next hour, if you don’t already have it.\r\n",
    "The power of your magic is strong! For the next hour, any spell you cast does not require a verbal component.\r\n",
    "You gain 1d6x10 pounds. You gradually return to your original weight over the course of 1 day.\r\n",
    "You gain proficiency in all Dexterity checks for the next hour, if you don’t already have it.\r\n",
    "Your fingernails and toenails grow to an uncomfortable length. Until you trim them, your Dexterity is reduced by 1 and your speed is reduced by 5 feet, even if you’re not wearing shoes.\r\n",
    "You gain the effects of the blur spell for 1 minute, which does not require concentration to maintain.\r\n",
    "For the next hour, you appear to others to be the opposite gender.\r\n",
    "You gain the service of a 2nd-level spiritual weapon for 1 minute.\r\n",
    "The power of your magic is strong! For the next hour, any spell you cast does not require a somatic component.\r\n",
    "You gain proficiency in all Constitution checks for the next hour, if you don’t already have it.\r\n",
    "Every inanimate object that isn't being worn or carried within 40 feet of you becomes enshrouded with shadows for 1 minute. Enshrouded objects are considered heavily obscured.\r\n",
    "Your fingers become sore for 1 hour. During this time, you must succeed on a Dexterity saving throw against your spell save DC to cast a spell with a somatic component.\r\n",
    "You feel extremely nauseated. Make a Constitution saving throw against your spell save DC. If you fail, you must spend your next action throwing up.\r\n",
    "You immediately lose one unspent sorcery point.\"\"\"\r\n",
    "\r\n",
    "fStringtoJSdict(myString)"
   ]
  },
  {
   "cell_type": "markdown",
   "metadata": {},
   "source": [
    "## Change TXT tables to JSONs"
   ]
  },
  {
   "cell_type": "code",
   "execution_count": null,
   "metadata": {},
   "outputs": [],
   "source": [
    "import os\n",
    "# Define the path to scan for files\n",
    "mypath = r'C:\\Users\\mfitz\\Documents\\GitHub Clones\\Foundry_VTT_Macros\\Tables\\JSONs'\n",
    "# Function to rename multiple files\n",
    "def main():\n",
    "    for filename in os.listdir(mypath):\n",
    "        pre, ext = os.path.splitext(filename)\n",
    "        my_dest = pre + \".json\"\n",
    "        my_source = \"{}\\{}\".format(mypath, filename) \n",
    "        my_dest = \"{}\\{}\".format(mypath, my_dest) \n",
    "        os.rename(my_source, my_dest)\n",
    "# Driver Code\n",
    "if __name__ == '__main__':\n",
    "   # Calling main() function\n",
    "   main()"
   ]
  },
  {
   "cell_type": "markdown",
   "metadata": {},
   "source": [
    "## Convert JSONs to CSVs"
   ]
  },
  {
   "cell_type": "code",
   "execution_count": null,
   "metadata": {},
   "outputs": [],
   "source": [
    "# Define the path to scan for files\n",
    "mypath = r'C:\\Users\\mfitz\\Documents\\GitHub Clones\\Foundry_VTT_Macros\\Tables\\JSONs'\n",
    "# Python program to convert\n",
    "# JSON file to CSV \n",
    "import json \n",
    "import csv\n",
    "import pandas as pd\n",
    "for file in os.listdir(mypath):\n",
    "    # Extract the name and file type from the file\n",
    "    vName, vExt = os.path.splitext('{}\\{}'.format(mypath, file))\n",
    "    # Opening JSON file and loading the data\n",
    "    # into the variable data \n",
    "    try:\n",
    "        with open('{}\\{}'.format(mypath, file)) as json_file: \n",
    "            data = json.load(json_file) \n",
    "    except Exception:\n",
    "        pass\n",
    "    employee_data = data['results'] \n",
    "    \n",
    "    # now we will open a file for writing \n",
    "    data_file = open('{}.csv'.format(vName), 'w') \n",
    "    \n",
    "    # create the csv writer object \n",
    "    csv_writer = csv.writer(data_file) \n",
    "\n",
    "    # Counter variable used for writing  \n",
    "    # headers to the CSV file \n",
    "    count = 0\n",
    "    \n",
    "    for emp in employee_data: \n",
    "        if count == 0: \n",
    "    \n",
    "            # Writing headers of CSV file \n",
    "            header = emp.keys() \n",
    "            csv_writer.writerow(header) \n",
    "            count += 1\n",
    "    \n",
    "        # Writing data of CSV file \n",
    "        csv_writer.writerow(emp.values()) \n",
    "    \n",
    "    data_file.close()\n",
    "    # Read the CSV into a DataFrame\n",
    "    try:\n",
    "        df = pd.read_csv(r'{}.csv'.format(vName))\n",
    "        # Write the Dataframe to a new CSV, thus dropping blank rows\n",
    "        df.to_csv('{}.csv'.format(vName), index_label = False)\n",
    "    except Exception:\n",
    "        pass"
   ]
  },
  {
   "cell_type": "markdown",
   "metadata": {},
   "source": [
    "## Convert the CSVs into JavaScript object arrays"
   ]
  },
  {
   "cell_type": "code",
   "execution_count": null,
   "metadata": {},
   "outputs": [],
   "source": [
    "import pandas as pd\n",
    "oPath = r'C:\\Users\\Me\\Documents\\GitHub Clones\\Foundry_VTT_Macros\\Tables\\JSONs\\CSVs'\n",
    "df = pd.read_csv(r'{}\\(Blue Hole) Contents.csv'.format(oPath), header = 0)"
   ]
  },
  {
   "cell_type": "code",
   "execution_count": null,
   "metadata": {},
   "outputs": [],
   "source": [
    "lTable = []\n",
    "vCount = 0\n",
    "oFinalString = ''\n",
    "for index, row in df.iterrows():\n",
    "    cID = vCount\n",
    "    cText = str(df[\"text\"][index]).replace('\"', '')\n",
    "    oString = \"\\t{\" + \"id: \" + '\"' + \"{}\".format(cID) + '\"' + \", \" + \"text: \" + '\"' + \"{}\".format(cText) + '\"' + \"},\\n\"\n",
    "    #lTable.append(oString)\n",
    "    oFinalString += oString\n",
    "    vCount += 1\n",
    "print(\"[\\n\" + oFinalString + \"]\")"
   ]
  },
  {
   "cell_type": "markdown",
   "metadata": {},
   "source": [
    "## Fixing the Encounter Tables"
   ]
  },
  {
   "cell_type": "code",
   "execution_count": null,
   "metadata": {},
   "outputs": [],
   "source": [
    "sheet_names = ['Arctic', 'Coastal', 'Desert', 'Farmland', 'Forest', 'Grassland', 'Hill', 'Jungle', 'Mountain', 'Open Water', 'Swamp', 'Underdark', 'Underwater', 'Urban', 'Wasteland', 'Woodland']"
   ]
  },
  {
   "cell_type": "code",
   "execution_count": null,
   "metadata": {},
   "outputs": [],
   "source": [
    "# Import each sheet as its own DF\n",
    "import pandas as pd\n",
    "df = {}\n",
    "for i in sheet_names:\n",
    "    df[i] = pd.read_excel(\"Random Encounter Tables (For Python Manipulation).xlsx\", header = 0, sheet_name=i)\n",
    "    df[i] = df[i].drop(columns = ['d100_bad', 'Level_bad'])"
   ]
  },
  {
   "cell_type": "code",
   "execution_count": null,
   "metadata": {},
   "outputs": [],
   "source": [
    "# Excel writer\n",
    "writer = pd.ExcelWriter('Random Encounter Tables.xlsx', engine = 'xlsxwriter')\n",
    "# Loop through each sheet's DF to fix it\n",
    "for i in sheet_names:\n",
    "    lIndex = []\n",
    "    for idx, row in df[i].iterrows():\n",
    "        d100 = str(df[i]['d100'][idx])\n",
    "        encounter = df[i]['Encounter'][idx]\n",
    "        df[i]['Level'][idx] = df[i]['Level'][idx].replace(\"'\", \"-\")\n",
    "        level = df[i]['Level'][idx]\n",
    "        if \"'\" in d100:\n",
    "            first_num = int(d100[0:2])\n",
    "            last_num = int(d100[3:5])\n",
    "            for x in range(first_num, last_num + 1):\n",
    "                df[i] = df[i].append({\"Encounter\":encounter, \"d100\":x, \"Level\":level}, ignore_index = True)\n",
    "            lIndex.append(idx)\n",
    "    df[i] = df[i].drop(lIndex)\n",
    "    df[i] = df[i].sort_values(by = ['Level', 'd100']).reset_index(drop = True)\n",
    "    df[i].to_excel(writer, sheet_name = f\"{i}\", index = False)\n",
    "writer.save()"
   ]
  },
  {
   "cell_type": "markdown",
   "metadata": {},
   "source": [
    "## String to List"
   ]
  },
  {
   "cell_type": "code",
   "execution_count": null,
   "metadata": {},
   "outputs": [],
   "source": [
    "import pandas as pd\n",
    "df = pd.read_excel(\"Random Encounter Tables.xlsx\", header = None, sheet_name = 'Sheet1')\n",
    "df"
   ]
  },
  {
   "cell_type": "code",
   "execution_count": null,
   "metadata": {},
   "outputs": [],
   "source": [
    "lIndex = []\n",
    "for idx, row in df.iterrows():\n",
    "    d100 = str(df['d100'][idx])\n",
    "    encounter = df['Encounter'][idx]\n",
    "    df['Level'][idx] = df['Level'][idx].replace(\"'\", \"-\")\n",
    "    level = df['Level'][idx]\n",
    "    if \"'\" in d100:\n",
    "        first_num = int(d100[0:2])\n",
    "        last_num = int(d100[3:5])\n",
    "        for x in range(first_num, last_num + 1):\n",
    "            df = df.append({\"Encounter\":encounter, \"d100\":x, \"Level\":level}, ignore_index = True)\n",
    "        lIndex.append(idx)\n",
    "df = df.drop(lIndex)\n",
    "df = df.sort_values(by = ['Level', 'd100']).reset_index(drop = True)"
   ]
  },
  {
   "cell_type": "code",
   "execution_count": null,
   "metadata": {},
   "outputs": [],
   "source": [
    "df.to_excel('chicken_monkey.xlsx')"
   ]
  },
  {
   "cell_type": "code",
   "execution_count": null,
   "metadata": {
    "tags": []
   },
   "outputs": [],
   "source": [
    "myList = df[0].to_list()\n",
    "myList = [x for x in myList if str(x) != 'nan']\n",
    "print(myList)"
   ]
  },
  {
   "cell_type": "code",
   "execution_count": null,
   "metadata": {},
   "outputs": [],
   "source": []
  }
 ],
 "metadata": {
  "kernelspec": {
   "name": "python383jvsc74a57bd06a7100f77c390aa589c4b628fe3b4bf647e9c70ffa35f3e76563f421da5f96cf",
   "display_name": "Python 3.8.3 64-bit ('base': conda)"
  },
  "language_info": {
   "codemirror_mode": {
    "name": "ipython",
    "version": 3
   },
   "file_extension": ".py",
   "mimetype": "text/x-python",
   "name": "python",
   "nbconvert_exporter": "python",
   "pygments_lexer": "ipython3",
   "version": "3.8.3"
  },
  "metadata": {
   "interpreter": {
    "hash": "63fd5069d213b44bf678585dea6b12cceca9941eaf7f819626cde1f2670de90d"
   }
  },
  "orig_nbformat": 3
 },
 "nbformat": 4,
 "nbformat_minor": 2
}