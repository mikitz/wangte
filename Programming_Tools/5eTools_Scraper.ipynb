{
 "metadata": {
  "language_info": {
   "codemirror_mode": {
    "name": "ipython",
    "version": 3
   },
   "file_extension": ".py",
   "mimetype": "text/x-python",
   "name": "python",
   "nbconvert_exporter": "python",
   "pygments_lexer": "ipython3",
   "version": "3.9.0-final"
  },
  "orig_nbformat": 2,
  "kernelspec": {
   "name": "python3",
   "display_name": "Python 3.9.0 64-bit",
   "metadata": {
    "interpreter": {
     "hash": "bb34067346f80b54f07f8ed41554b355a788a517a9d24943ff71c323ae645852"
    }
   }
  }
 },
 "nbformat": 4,
 "nbformat_minor": 2,
 "cells": [
  {
   "cell_type": "code",
   "execution_count": 1,
   "metadata": {},
   "outputs": [],
   "source": [
    "# Import necessary modules\n",
    "import os\n",
    "import time\n",
    "import math\n",
    "import random\n",
    "import pandas as pd\n",
    "from datetime import datetime\n",
    "from selenium import webdriver\n",
    "from selenium.webdriver.common.keys import Keys\n",
    "from selenium.webdriver.common.by import By\n",
    "from selenium.webdriver.support.ui import WebDriverWait\n",
    "from selenium.webdriver.support import expected_conditions as EC"
   ]
  },
  {
   "cell_type": "code",
   "execution_count": 13,
   "metadata": {},
   "outputs": [],
   "source": [
    "url = 'https://5e.tools/bestiary.html#aarakocra_mm'\n",
    "# Set the Driver up\n",
    "# Instantiate an Options object\n",
    "option = webdriver.ChromeOptions()\n",
    "#Remove navigator.webdriver flag\n",
    "option.add_argument('--disable-blink-features=AutomationControlled')\n",
    "# Change the resolution of the browser\n",
    "option.add_argument(\"window-size=1920,1080\")\n",
    "# Adjusting the user agent\n",
    "option.add_argument(\"user-agent=Mozilla/5.0 (Windows NT 10.0; Win64; x64) AppleWebKit/537.36 (KHTML, like Gecko) Chrome/74.0.3729.169 Safari/537.36\")\n",
    "#Open Browser\n",
    "driver = webdriver.Chrome(executable_path='chromedriver.exe', options=option)\n",
    "# Open the specfied URL\n",
    "driver.get(url)\n",
    "# Sleep to avoid errors\n",
    "time.sleep(random.uniform(2.0, 4.0))\n",
    "# Open Filters\n",
    "openFilter = driver.find_element_by_xpath('//*[@id=\"filter-search-group\"]/button[1]').click()\n",
    "# Sleep to avoid errors\n",
    "time.sleep(random.uniform(4.0, 6.0))\n",
    "# Select all books\n",
    "#selectBooks = driver.find_element_by_xpath('/html/body/div[6]/div/div[2]/div[1]/div[1]/div[2]/div[2]/div[2]/button[1]').click()\n",
    "# Sleep to avoid errors\n",
    "time.sleep(random.uniform(4.0, 6.0))\n",
    "# Click save\n",
    "#clickSave = driver.find_element_by_xpath('/html/body/div[5]/div/div[3]/button[1]').click()\n",
    "# Sleep to avoid errors\n",
    "time.sleep(random.uniform(4.0, 6.0))\n",
    "# Get the name\n",
    "textName = driver.find_element_by_xpath('//*[@id=\"pagecontent\"]/tr[2]/th/div/div[1]/span').text.lower()\n",
    "# Sleep to avoid errors\n",
    "time.sleep(random.uniform(1.0, 2.0))\n",
    "# Get the book\n",
    "textBook = driver.find_element_by_xpath('//*[@id=\"pagecontent\"]/tr[2]/th/div/div[2]/a[1]').text.lower()\n",
    "# Sleep to avoid errors\n",
    "time.sleep(random.uniform(1.0, 2.0))\n",
    "# Count the number of bestiary entries\n",
    "entries = driver.find_element_by_xpath('//*[@id=\"listcontainer\"]/div[4]')\n",
    "countEntries = len(entries.find_elements_by_xpath('./*'))\n",
    "# define the amount of click to make\n",
    "clicks = range(0, countEntries + 1)\n",
    "# Loop through each entry\n",
    "#while clicks < countEntries + 1:\n"
   ]
  },
  {
   "cell_type": "code",
   "execution_count": 14,
   "metadata": {},
   "outputs": [
    {
     "output_type": "stream",
     "name": "stdout",
     "text": [
      "aarakocra\nmm\n<selenium.webdriver.remote.webelement.WebElement (session=\"b551bb7e5aa678181619baa818042f33\", element=\"1c43dc99-9af3-4262-8225-e656d45fa965\")>\n1566\nrange(0, 1567)\n"
     ]
    }
   ],
   "source": [
    "print(textName)\n",
    "print(textBook)\n",
    "print(entries)\n",
    "print(countEntries)\n",
    "print(clicks)"
   ]
  },
  {
   "cell_type": "code",
   "execution_count": null,
   "metadata": {},
   "outputs": [],
   "source": []
  }
 ]
}