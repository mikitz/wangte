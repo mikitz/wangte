{
 "cells": [
  {
   "cell_type": "markdown",
   "metadata": {},
   "source": [
    "\n",
    "# ITEMS"
   ]
  },
  {
   "source": [
    "## Scraping"
   ],
   "cell_type": "markdown",
   "metadata": {}
  },
  {
   "cell_type": "code",
   "execution_count": null,
   "metadata": {},
   "outputs": [],
   "source": []
  },
  {
   "source": [
    "## Data Cleaning"
   ],
   "cell_type": "markdown",
   "metadata": {}
  },
  {
   "source": [
    "### Magic Items"
   ],
   "cell_type": "markdown",
   "metadata": {}
  },
  {
   "cell_type": "code",
   "execution_count": 3,
   "metadata": {},
   "outputs": [],
   "source": [
    "# Import Pandas\n",
    "import pandas as pd\n",
    "# Read the CSV to a DataFrame\n",
    "df = pd.read_csv('RAW DATA/Item Lists by Rarity - Magical Items.csv', header = None)\n",
    "# Change the column name\n",
    "df.columns = ['stuff']\n",
    "# Create a new DataFrame for the final database\n",
    "dbMagicItems = pd.DataFrame(columns= ['NAME', 'TYPE', 'WEIGHT', 'ATTUNEMENT', 'RARITY', 'SOURCE', 'LINK'])\n",
    "# Set a margin to iterate through the index\n",
    "margin = 0\n",
    "# Loop through Database's rows and write to them from the CSV\n",
    "while margin < len(df):\n",
    "    vName = df['stuff'][0 + margin]\n",
    "    vType = df['stuff'][1 + margin]\n",
    "    vWeight = df['stuff'][2 + margin]    \n",
    "    vAttunement = df['stuff'][3 + margin]\n",
    "    if vAttunement != '×':\n",
    "        vAttunement = 'N'\n",
    "        vRarity = df['stuff'][3 + margin]\n",
    "        vSource = df['stuff'][4 + margin]\n",
    "        margin += 5\n",
    "    else:\n",
    "        vAttunement = 'Y'\n",
    "        vRarity = df['stuff'][4 + margin]\n",
    "        vSource = df['stuff'][5 + margin]\n",
    "        margin += 6\n",
    "    # Format the name for the link    \n",
    "    vNameLink = vName.lower().strip().replace(\" \", \"%20\")\n",
    "    vNameLink = vNameLink.replace(\",\", \"%2c\")\n",
    "    vNameLink = vNameLink.replace(\"+\", \"%2b\")\n",
    "    vNameLink = vNameLink + \"_\" + vSource.lower()\n",
    "    # Build the link\n",
    "    vLink = f'https://5e.tools/items.html#{vNameLink}'\n",
    "    dbMagicItems = dbMagicItems.append({'NAME': vName, 'TYPE': vType, 'WEIGHT': vWeight, 'ATTUNEMENT': vAttunement, 'RARITY': vRarity, 'SOURCE': vSource, 'LINK': vLink}, ignore_index = True)\n",
    "    # Export to JSON\n",
    "    dbMagicItems.to_csv('DATA OUTPUT/magic_items.csv')"
   ]
  },
  {
   "source": [
    "### Mundane (None) Items"
   ],
   "cell_type": "markdown",
   "metadata": {}
  },
  {
   "cell_type": "code",
   "execution_count": 4,
   "metadata": {},
   "outputs": [],
   "source": [
    "# Read the CSV into a DataFrame\n",
    "dfMundane = pd.read_csv('RAW DATA/Item Lists by Rarity - Mundane Items.csv', header = None)\n",
    "# Set the colum name\n",
    "dfMundane.columns = ['stuff']\n",
    "# Create a new DataFrame for the final database\n",
    "dbMundane = pd.DataFrame(columns= ['NAME', 'TYPE', 'COST', 'WEIGHT', 'SOURCE', 'LINK'])\n",
    "# Set a margin to iterate through the index\n",
    "margin = 0\n",
    "# Add rows to the DB while the margin is less than the DF's length\n",
    "while margin < len(dfMundane):\n",
    "    vName = dfMundane['stuff'][0 + margin]\n",
    "    vType = dfMundane['stuff'][1 + margin]\n",
    "    vCost = dfMundane['stuff'][2 + margin]\n",
    "    vWeight = dfMundane['stuff'][3 + margin]\n",
    "    vSource = dfMundane['stuff'][4 + margin]\n",
    "    # Format the name for the link    \n",
    "    vNameLink = vName.lower().strip().replace(\" \", \"%20\")\n",
    "    vNameLink = vNameLink.replace(\",\", \"%2c\")\n",
    "    vNameLink = vNameLink.replace(\"+\", \"%2b\")\n",
    "    vNameLink = vNameLink + \"_\" + vSource.lower()\n",
    "    # Build the link\n",
    "    vLink = f'https://5e.tools/items.html#{vNameLink}'\n",
    "    # Append a row to the Database\n",
    "    dbMundane = dbMundane.append({'NAME': vName, 'TYPE': vType, 'COST': vCost, 'WEIGHT': vWeight, 'SOURCE': vSource, 'LINK': vLink}, ignore_index = True)\n",
    "    # Increment the margin\n",
    "    margin += 5\n",
    "# Export to JSON\n",
    "dbMundane.to_csv('DATA OUTPUT/mundane_items.csv')"
   ]
  },
  {
   "cell_type": "code",
   "execution_count": null,
   "metadata": {},
   "outputs": [],
   "source": []
  }
 ],
 "metadata": {
  "kernelspec": {
   "name": "python383jvsc74a57bd06a7100f77c390aa589c4b628fe3b4bf647e9c70ffa35f3e76563f421da5f96cf",
   "display_name": "Python 3.8.3 64-bit ('base': conda)"
  },
  "language_info": {
   "codemirror_mode": {
    "name": "ipython",
    "version": 3
   },
   "file_extension": ".py",
   "mimetype": "text/x-python",
   "name": "python",
   "nbconvert_exporter": "python",
   "pygments_lexer": "ipython3",
   "version": "3.8.3"
  },
  "metadata": {
   "interpreter": {
    "hash": "63fd5069d213b44bf678585dea6b12cceca9941eaf7f819626cde1f2670de90d"
   }
  },
  "orig_nbformat": 3
 },
 "nbformat": 4,
 "nbformat_minor": 2
}