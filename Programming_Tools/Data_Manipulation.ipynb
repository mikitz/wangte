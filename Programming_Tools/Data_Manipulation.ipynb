{
 "cells": [
  {
   "cell_type": "markdown",
   "metadata": {},
   "source": [
    "\n",
    "# ITEMS"
   ]
  },
  {
   "cell_type": "markdown",
   "metadata": {},
   "source": [
    "## Scraping"
   ]
  },
  {
   "cell_type": "code",
   "execution_count": null,
   "metadata": {},
   "outputs": [],
   "source": []
  },
  {
   "cell_type": "markdown",
   "metadata": {},
   "source": [
    "## Data Cleaning"
   ]
  },
  {
   "cell_type": "markdown",
   "metadata": {},
   "source": [
    "### Magic Items"
   ]
  },
  {
   "cell_type": "code",
   "execution_count": 7,
   "metadata": {},
   "outputs": [],
   "source": [
    "# Import Pandas\r\n",
    "import pandas as pd\r\n",
    "# Read the CSV to a DataFrame\r\n",
    "df = pd.read_csv('RAW DATA/Item Lists by Rarity - Magical Items.csv', header = None)\r\n",
    "# Change the column name\r\n",
    "df.columns = ['stuff']\r\n",
    "# Create a new DataFrame for the final database\r\n",
    "dbMagicItems = pd.DataFrame(columns= ['NAME', 'TYPE', 'WEIGHT', 'ATTUNEMENT', 'RARITY', 'SOURCE', 'LINK'])\r\n",
    "# Set a margin to iterate through the index\r\n",
    "margin = 0\r\n",
    "# Loop through Database's rows and write to them from the CSV\r\n",
    "while margin < len(df):\r\n",
    "    vName = df['stuff'][0 + margin]\r\n",
    "    vType = df['stuff'][1 + margin]\r\n",
    "    vWeight = df['stuff'][2 + margin]    \r\n",
    "    vAttunement = df['stuff'][3 + margin]\r\n",
    "    if vAttunement != '×':\r\n",
    "        vAttunement = 'N'\r\n",
    "        vRarity = df['stuff'][3 + margin]\r\n",
    "        vSource = df['stuff'][4 + margin]\r\n",
    "        margin += 5\r\n",
    "    else:\r\n",
    "        vAttunement = 'Y'\r\n",
    "        vRarity = df['stuff'][4 + margin]\r\n",
    "        vSource = df['stuff'][5 + margin]\r\n",
    "        margin += 6\r\n",
    "    # Format the name for the link    \r\n",
    "    vNameLink = vName.lower().strip().replace(\" \", \"%20\")\r\n",
    "    vNameLink = vNameLink.replace(\",\", \"%2c\")\r\n",
    "    vNameLink = vNameLink.replace(\"+\", \"%2b\")\r\n",
    "    vNameLink = vNameLink + \"_\" + vSource.lower()\r\n",
    "    # Build the link\r\n",
    "    vLink = f'https://5e.tools/items.html#{vNameLink}'\r\n",
    "    dbMagicItems = dbMagicItems.append({'NAME': vName, 'TYPE': vType, 'WEIGHT': vWeight, 'ATTUNEMENT': vAttunement, 'RARITY': vRarity, 'SOURCE': vSource, 'LINK': vLink}, ignore_index = True)\r\n",
    "# Export to CSV\r\n",
    "dbMagicItems.to_csv('DATA OUTPUT/magic_items.csv')"
   ]
  },
  {
   "cell_type": "markdown",
   "metadata": {},
   "source": [
    "### Mundane (None) Items"
   ]
  },
  {
   "cell_type": "code",
   "execution_count": 4,
   "metadata": {},
   "outputs": [],
   "source": [
    "# Read the CSV into a DataFrame\r\n",
    "dfMundane = pd.read_csv('RAW DATA/Item Lists by Rarity - Mundane Items.csv', header = None)\r\n",
    "# Set the colum name\r\n",
    "dfMundane.columns = ['stuff']\r\n",
    "# Create a new DataFrame for the final database\r\n",
    "dbMundane = pd.DataFrame(columns= ['NAME', 'TYPE', 'COST', 'WEIGHT', 'SOURCE', 'LINK'])\r\n",
    "# Set a margin to iterate through the index\r\n",
    "margin = 0\r\n",
    "# Add rows to the DB while the margin is less than the DF's length\r\n",
    "while margin < len(dfMundane):\r\n",
    "    vName = dfMundane['stuff'][0 + margin]\r\n",
    "    vType = dfMundane['stuff'][1 + margin]\r\n",
    "    vCost = dfMundane['stuff'][2 + margin]\r\n",
    "    vWeight = dfMundane['stuff'][3 + margin]\r\n",
    "    vSource = dfMundane['stuff'][4 + margin]\r\n",
    "    # Format the name for the link    \r\n",
    "    vNameLink = vName.lower().strip().replace(\" \", \"%20\")\r\n",
    "    vNameLink = vNameLink.replace(\",\", \"%2c\")\r\n",
    "    vNameLink = vNameLink.replace(\"+\", \"%2b\")\r\n",
    "    vNameLink = vNameLink + \"_\" + vSource.lower()\r\n",
    "    # Build the link\r\n",
    "    vLink = f'https://5e.tools/items.html#{vNameLink}'\r\n",
    "    # Append a row to the Database\r\n",
    "    dbMundane = dbMundane.append({'NAME': vName, 'TYPE': vType, 'COST': vCost, 'WEIGHT': vWeight, 'SOURCE': vSource, 'LINK': vLink}, ignore_index = True)\r\n",
    "    # Increment the margin\r\n",
    "    margin += 5\r\n",
    "# Export to CSV\r\n",
    "dbMundane.to_csv('DATA OUTPUT/mundane_items.csv')"
   ]
  },
  {
   "cell_type": "markdown",
   "metadata": {},
   "source": [
    "# BESTIARY"
   ]
  },
  {
   "cell_type": "markdown",
   "metadata": {},
   "source": [
    "## Scraping"
   ]
  },
  {
   "cell_type": "code",
   "execution_count": null,
   "metadata": {},
   "outputs": [],
   "source": []
  },
  {
   "cell_type": "markdown",
   "metadata": {},
   "source": [
    "## Data Cleaning"
   ]
  },
  {
   "cell_type": "code",
   "execution_count": 2,
   "metadata": {},
   "outputs": [],
   "source": [
    "# TODO: Need to handle parentheticals, the subtype\r\n",
    "    # E.G. Aberration (shapechanger)\r\n",
    "        # Move the parenthteical to another column named SUBTYPE\r\n",
    "\r\n",
    "# Import necessary modules\r\n",
    "import pandas as pd\r\n",
    "import re\r\n",
    "# Read the CSV to a DataFrame\r\n",
    "df = pd.read_csv('RAW DATA/Bestiary - Sheet1.csv', header = None)\r\n",
    "# Change the column name\r\n",
    "df.columns = ['stuff']\r\n",
    "# Create a new DataFrame for the final database\r\n",
    "dbBestiary = pd.DataFrame(columns= ['NAME', 'TYPE', 'SUBTYPE', 'CR', 'SOURCE', 'LINK'])\r\n",
    "# Set a margin to iterate through the index\r\n",
    "margin = 0\r\n",
    "# Loop through Database's rows and write to them from the CSV\r\n",
    "while margin < len(df):\r\n",
    "    # Get the name\r\n",
    "    vName = df['stuff'][0 + margin]\r\n",
    "    # Get the Type\r\n",
    "    vType = df['stuff'][1 + margin]\r\n",
    "    # Parse the Type into Type and Subtype\r\n",
    "    if '(' in vType:\r\n",
    "        x = re.search('\\s\\(.*\\)', vType)\r\n",
    "        y = x.group(0).strip()\r\n",
    "        vSubtype = re.sub('\\(*\\)*', '', y)\r\n",
    "        vType = re.sub('\\s\\(.*\\)', '', vType)\r\n",
    "    else:\r\n",
    "        vType = vType\r\n",
    "        vSubtype = '' \r\n",
    "    # Get the CR\r\n",
    "    vCR = df['stuff'][2 + margin]\r\n",
    "    # Get the source\r\n",
    "    vSource = df['stuff'][3 + margin]\r\n",
    "    # Format the name for the link    \r\n",
    "    vNameLink = vName.lower().strip().replace(\" \", \"%20\")\r\n",
    "    vNameLink = vNameLink.replace(\",\", \"%2c\")\r\n",
    "    vNameLink = vNameLink.replace(\"+\", \"%2b\")\r\n",
    "    vNameLink = vNameLink + \"_\" + vSource.lower()\r\n",
    "    # Build the link\r\n",
    "    vLink = f'https://5e.tools/bestiary.html#{vNameLink}'\r\n",
    "    dbBestiary = dbBestiary.append({'NAME': vName, 'TYPE': vType, 'SUBTYPE': vSubtype, 'CR': vCR, 'SOURCE': vSource, 'LINK': vLink}, ignore_index = True)\r\n",
    "    # Increment the offset\r\n",
    "    margin += 4\r\n",
    "# Export to CSV\r\n",
    "dbBestiary.to_csv('DATA OUTPUT/bestiary.csv', index = False)"
   ]
  },
  {
   "cell_type": "markdown",
   "metadata": {},
   "source": [
    "# SPELLS"
   ]
  },
  {
   "cell_type": "markdown",
   "metadata": {},
   "source": [
    "## Scraping"
   ]
  },
  {
   "cell_type": "code",
   "execution_count": null,
   "metadata": {},
   "outputs": [],
   "source": []
  },
  {
   "cell_type": "markdown",
   "metadata": {},
   "source": [
    "## Data Cleaning"
   ]
  },
  {
   "cell_type": "code",
   "execution_count": 6,
   "metadata": {},
   "outputs": [],
   "source": [
    "# Import Pandas\r\n",
    "import pandas as pd\r\n",
    "# Read the CSV to a DataFrame\r\n",
    "dfSpells = pd.read_csv('RAW DATA/Spells - Sheet1.csv', header = None)\r\n",
    "# Change the column name\r\n",
    "dfSpells.columns = ['stuff']\r\n",
    "# Create a new DataFrame for the final database\r\n",
    "dbSpells = pd.DataFrame(columns= ['NAME', 'LEVEL', 'RITUAL', 'TECHNOLOGY', 'CASTING_TIME', 'SCHOOL', 'CONCENTRATION', 'RANGE', 'SOURCE', 'LINK'])\r\n",
    "# Set a margin to iterate through the index\r\n",
    "margin = 0\r\n",
    "# Loop through Database's rows and write to them from the CSV\r\n",
    "while margin < len(dfSpells):\r\n",
    "    vName = dfSpells['stuff'][0 + margin]\r\n",
    "    vLevel = dfSpells['stuff'][1 + margin]\r\n",
    "    # Parse the level\r\n",
    "    if '(rit.)' in vLevel:\r\n",
    "        x = re.search('\\s\\(.*\\)', vLevel)\r\n",
    "        y = x.group(0).strip()\r\n",
    "        vRitual = 'Y'\r\n",
    "        vLevel = re.sub('\\s\\(.*\\)', '', vLevel)\r\n",
    "        vTech = 'N'\r\n",
    "    elif '(tec.)' in vLevel:\r\n",
    "        x = re.search('\\s\\(.*\\)', vLevel)\r\n",
    "        y = x.group(0).strip()\r\n",
    "        vTech = 'Y'\r\n",
    "        vLevel = re.sub('\\s\\(.*\\)', '', vLevel)\r\n",
    "        vRitual = 'N'\r\n",
    "    else:\r\n",
    "        vLevel = vLevel\r\n",
    "        vRitual = 'N'\r\n",
    "        vTech = 'N'\r\n",
    "    vCastingTime = dfSpells['stuff'][2 + margin]    \r\n",
    "    vSchool = dfSpells['stuff'][3 + margin]\r\n",
    "    vConcentration = dfSpells['stuff'][4 + margin]\r\n",
    "    if vConcentration != '×':\r\n",
    "        vConcentration = 'N'\r\n",
    "        vRange = dfSpells['stuff'][4 + margin]\r\n",
    "        vSource = dfSpells['stuff'][5 + margin]\r\n",
    "        margin += 6\r\n",
    "    else:\r\n",
    "        vConcentration = 'Y'\r\n",
    "        vRange = dfSpells['stuff'][5 + margin]\r\n",
    "        vSource = dfSpells['stuff'][6 + margin]\r\n",
    "        margin += 7\r\n",
    "    # Format the name for the link    \r\n",
    "    vNameLink = vName.lower().strip().replace(\" \", \"%20\")\r\n",
    "    vNameLink = vNameLink.replace(\",\", \"%2c\")\r\n",
    "    vNameLink = vNameLink.replace(\"+\", \"%2b\")\r\n",
    "    vNameLink = vNameLink + \"_\" + vSource.lower()\r\n",
    "    # Build the link\r\n",
    "    vLink = f'https://5e.tools/spells.html#{vNameLink}'\r\n",
    "    dbSpells = dbSpells.append({'NAME': vName, 'LEVEL': vLevel, 'RITUAL': vRitual, 'TECHNOLOGY': vTech,'CASTING_TIME': vCastingTime, 'SCHOOL': vSchool, 'CONCENTRATION': vConcentration, 'RANGE': vRange, 'SOURCE': vSource, 'LINK': vLink}, ignore_index = True)\r\n",
    "# Export to CSV\r\n",
    "dbSpells.to_csv('DATA OUTPUT/spells.csv', index = False)"
   ]
  },
  {
   "cell_type": "code",
   "execution_count": 7,
   "metadata": {},
   "outputs": [
    {
     "data": {
      "text/html": "<div>\n<style scoped>\n    .dataframe tbody tr th:only-of-type {\n        vertical-align: middle;\n    }\n\n    .dataframe tbody tr th {\n        vertical-align: top;\n    }\n\n    .dataframe thead th {\n        text-align: right;\n    }\n</style>\n<table border=\"1\" class=\"dataframe\">\n  <thead>\n    <tr style=\"text-align: right;\">\n      <th></th>\n      <th>NAME</th>\n      <th>LEVEL</th>\n      <th>RITUAL</th>\n      <th>TECHNOLOGY</th>\n      <th>CASTING_TIME</th>\n      <th>SCHOOL</th>\n      <th>CONCENTRATION</th>\n      <th>RANGE</th>\n      <th>SOURCE</th>\n      <th>LINK</th>\n    </tr>\n  </thead>\n  <tbody>\n    <tr>\n      <th>0</th>\n      <td>Abi-Dalzim's Horrid Wilting</td>\n      <td>8th</td>\n      <td>N</td>\n      <td>N</td>\n      <td>Action</td>\n      <td>Necro.</td>\n      <td>N</td>\n      <td>150 feet</td>\n      <td>XGE</td>\n      <td>https://5e.tools/spells.html#abi-dalzim's%20ho...</td>\n    </tr>\n    <tr>\n      <th>1</th>\n      <td>Absorb Elements</td>\n      <td>1st</td>\n      <td>N</td>\n      <td>N</td>\n      <td>Reaction</td>\n      <td>Abj.</td>\n      <td>N</td>\n      <td>Self</td>\n      <td>XGE</td>\n      <td>https://5e.tools/spells.html#absorb%20elements...</td>\n    </tr>\n    <tr>\n      <th>2</th>\n      <td>Acid Splash</td>\n      <td>Cantrip</td>\n      <td>N</td>\n      <td>N</td>\n      <td>Action</td>\n      <td>Conj.</td>\n      <td>N</td>\n      <td>60 feet</td>\n      <td>PHB</td>\n      <td>https://5e.tools/spells.html#acid%20splash_phb</td>\n    </tr>\n    <tr>\n      <th>3</th>\n      <td>Acid Stream</td>\n      <td>1st</td>\n      <td>N</td>\n      <td>N</td>\n      <td>Action</td>\n      <td>Evoc.</td>\n      <td>Y</td>\n      <td>Self (30-foot line)</td>\n      <td>UA20SMT</td>\n      <td>https://5e.tools/spells.html#acid%20stream_ua2...</td>\n    </tr>\n    <tr>\n      <th>4</th>\n      <td>Aganazzar's Scorcher</td>\n      <td>2nd</td>\n      <td>N</td>\n      <td>N</td>\n      <td>Action</td>\n      <td>Evoc.</td>\n      <td>N</td>\n      <td>30 feet</td>\n      <td>XGE</td>\n      <td>https://5e.tools/spells.html#aganazzar's%20sco...</td>\n    </tr>\n    <tr>\n      <th>...</th>\n      <td>...</td>\n      <td>...</td>\n      <td>...</td>\n      <td>...</td>\n      <td>...</td>\n      <td>...</td>\n      <td>...</td>\n      <td>...</td>\n      <td>...</td>\n      <td>...</td>\n    </tr>\n    <tr>\n      <th>568</th>\n      <td>Wrathful Smite</td>\n      <td>1st</td>\n      <td>N</td>\n      <td>N</td>\n      <td>Bonus acn.</td>\n      <td>Evoc.</td>\n      <td>Y</td>\n      <td>Self</td>\n      <td>PHB</td>\n      <td>https://5e.tools/spells.html#wrathful%20smite_phb</td>\n    </tr>\n    <tr>\n      <th>569</th>\n      <td>Wristpocket</td>\n      <td>2nd</td>\n      <td>Y</td>\n      <td>N</td>\n      <td>Action</td>\n      <td>Conj.</td>\n      <td>Y</td>\n      <td>Self</td>\n      <td>EGW</td>\n      <td>https://5e.tools/spells.html#wristpocket_egw</td>\n    </tr>\n    <tr>\n      <th>570</th>\n      <td>Zephyr Strike</td>\n      <td>1st</td>\n      <td>N</td>\n      <td>N</td>\n      <td>Bonus acn.</td>\n      <td>Trans.</td>\n      <td>Y</td>\n      <td>Self</td>\n      <td>XGE</td>\n      <td>https://5e.tools/spells.html#zephyr%20strike_xge</td>\n    </tr>\n    <tr>\n      <th>571</th>\n      <td>Zephyr Strike (UA)</td>\n      <td>1st</td>\n      <td>N</td>\n      <td>N</td>\n      <td>Bonus acn.</td>\n      <td>Trans.</td>\n      <td>Y</td>\n      <td>Self</td>\n      <td>UASS</td>\n      <td>https://5e.tools/spells.html#zephyr%20strike%2...</td>\n    </tr>\n    <tr>\n      <th>572</th>\n      <td>Zone of Truth</td>\n      <td>2nd</td>\n      <td>N</td>\n      <td>N</td>\n      <td>Action</td>\n      <td>Ench.</td>\n      <td>N</td>\n      <td>60 feet</td>\n      <td>PHB</td>\n      <td>https://5e.tools/spells.html#zone%20of%20truth...</td>\n    </tr>\n  </tbody>\n</table>\n<p>573 rows × 10 columns</p>\n</div>",
      "text/plain": "                            NAME    LEVEL RITUAL TECHNOLOGY CASTING_TIME  \\\n0    Abi-Dalzim's Horrid Wilting      8th      N          N       Action   \n1                Absorb Elements      1st      N          N     Reaction   \n2                    Acid Splash  Cantrip      N          N       Action   \n3                    Acid Stream      1st      N          N       Action   \n4           Aganazzar's Scorcher      2nd      N          N       Action   \n..                           ...      ...    ...        ...          ...   \n568               Wrathful Smite      1st      N          N   Bonus acn.   \n569                  Wristpocket      2nd      Y          N       Action   \n570                Zephyr Strike      1st      N          N   Bonus acn.   \n571           Zephyr Strike (UA)      1st      N          N   Bonus acn.   \n572                Zone of Truth      2nd      N          N       Action   \n\n     SCHOOL CONCENTRATION                RANGE   SOURCE  \\\n0    Necro.             N             150 feet      XGE   \n1      Abj.             N                 Self      XGE   \n2     Conj.             N              60 feet      PHB   \n3     Evoc.             Y  Self (30-foot line)  UA20SMT   \n4     Evoc.             N              30 feet      XGE   \n..      ...           ...                  ...      ...   \n568   Evoc.             Y                 Self      PHB   \n569   Conj.             Y                 Self      EGW   \n570  Trans.             Y                 Self      XGE   \n571  Trans.             Y                 Self     UASS   \n572   Ench.             N              60 feet      PHB   \n\n                                                  LINK  \n0    https://5e.tools/spells.html#abi-dalzim's%20ho...  \n1    https://5e.tools/spells.html#absorb%20elements...  \n2       https://5e.tools/spells.html#acid%20splash_phb  \n3    https://5e.tools/spells.html#acid%20stream_ua2...  \n4    https://5e.tools/spells.html#aganazzar's%20sco...  \n..                                                 ...  \n568  https://5e.tools/spells.html#wrathful%20smite_phb  \n569       https://5e.tools/spells.html#wristpocket_egw  \n570   https://5e.tools/spells.html#zephyr%20strike_xge  \n571  https://5e.tools/spells.html#zephyr%20strike%2...  \n572  https://5e.tools/spells.html#zone%20of%20truth...  \n\n[573 rows x 10 columns]"
     },
     "execution_count": 7,
     "metadata": {},
     "output_type": "execute_result"
    }
   ],
   "source": [
    "dbSpells"
   ]
  },
  {
   "cell_type": "code",
   "execution_count": null,
   "metadata": {},
   "outputs": [],
   "source": []
  }
 ],
 "metadata": {
  "kernelspec": {
   "display_name": "Python 3.9.4 64-bit",
   "name": "python394jvsc74a57bd063fd5069d213b44bf678585dea6b12cceca9941eaf7f819626cde1f2670de90d"
  },
  "language_info": {
   "codemirror_mode": {
    "name": "ipython",
    "version": 3
   },
   "file_extension": ".py",
   "mimetype": "text/x-python",
   "name": "python",
   "nbconvert_exporter": "python",
   "pygments_lexer": "ipython3",
   "version": "3.9.4"
  },
  "metadata": {
   "interpreter": {
    "hash": "63fd5069d213b44bf678585dea6b12cceca9941eaf7f819626cde1f2670de90d"
   }
  },
  "orig_nbformat": 3
 },
 "nbformat": 4,
 "nbformat_minor": 2
}